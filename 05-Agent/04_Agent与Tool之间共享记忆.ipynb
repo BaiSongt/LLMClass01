{
 "cells": [
  {
   "cell_type": "markdown",
   "metadata": {},
   "source": [
    "# 工具需要使用Memory\n",
    "LLM      Agents    Tools     Memory\n",
    "- 自定义一个工具来使用LLMChain来总结内容\n",
    "- 使用read_only_memory来读取内存,共享记忆\n",
    "- 观察共享记忆和不共享的区别"
   ]
  },
  {
   "cell_type": "code",
   "execution_count": 62,
   "metadata": {},
   "outputs": [],
   "source": [
    "from langchain.agents import initialize_agent, AgentType, Tool\n",
    "from langchain_ollama.chat_models import ChatOllama\n",
    "from langchain.chains import LLMChain\n",
    "from langchain.prompts import PromptTemplate, MessagesPlaceholder\n",
    "from langchain.memory import ConversationBufferMemory, ReadOnlySharedMemory\n",
    "\n",
    "# 创建LLM\n",
    "llm = ChatOllama(model=\"qwen2.5:7b\", temperature=0.1)\n",
    "\n",
    "# 创建PromptTemplate\n",
    "template = \"\"\"以下是AI机器人和人类的对话:\n",
    "{chat_history}\n",
    "根据输入和上面的记录写一份对话总结。\n",
    "人类：{input}\n",
    "\"\"\"\n",
    "\n",
    "prompt = PromptTemplate(\n",
    "    input_variables=[\"input\", \"chat_history\"],\n",
    "    template=template,\n",
    ")\n",
    "\n",
    "memory = ConversationBufferMemory(\n",
    "    memory_key=\"chat_history\",\n",
    "    return_messages=True,\n",
    ")\n",
    "\n",
    "# 创建一个只读的内存对象\n",
    "# 这将使得在调用时，内存的内容不会被修改\n",
    "# 只读内存会在每次调用时返回相同的内容\n",
    "# 你可以根据需要选择是否使用只读内存\n",
    "read_only_memory = ReadOnlySharedMemory(\n",
    "    memory=memory\n",
    ")\n",
    "\n",
    "summary_chain = LLMChain(\n",
    "    llm=llm,\n",
    "    prompt=prompt,\n",
    "    verbose=True,\n",
    "    memory=read_only_memory,\n",
    ")"
   ]
  },
  {
   "cell_type": "markdown",
   "metadata": {},
   "source": [
    "### 构建工具"
   ]
  },
  {
   "cell_type": "code",
   "execution_count": 63,
   "metadata": {},
   "outputs": [
    {
     "name": "stdout",
     "output_type": "stream",
     "text": [
      "tools:  [Tool(name='bocha_search', description='一个搜索工具，可以用来搜索互联网的信息。使用这个工具来获取最新的信息。', func=StructuredTool(name='bocha_websearch_tool', description='使用Bocha Web Search API 进行网页搜索。\\n\\n参数:\\n- query: 搜索关键词\\n- freshness: 搜索的时间范围\\n- summary: 是否显示文本摘要\\n- count: 返回的搜索结果数量\\n\\n返回:\\n- 搜索结果的详细信息，包括网页标题、网页URL、网页摘要、网站名称、网站Icon、网页发布时间等。', args_schema=<class 'langchain_core.utils.pydantic.bocha_websearch_tool'>, func=<function bocha_websearch_tool at 0x10c8b18a0>)), Tool(name='summarize_tool', description='一个用于对话内容总结的工具。使用这个工具来总结对话内容。', func=<function summarize_tool at 0x110720a40>)]\n"
     ]
    }
   ],
   "source": [
    "# 构建工具\n",
    "# 搜索工具\n",
    "from bocha_api import bocha_websearch_tool\n",
    "search_tool = Tool(\n",
    "    name=\"bocha_search\",\n",
    "    func=bocha_websearch_tool,\n",
    "    description=\"一个搜索工具，可以用来搜索互联网的信息。使用这个工具来获取最新的信息。\",\n",
    ")\n",
    "\n",
    "# 总结工具\n",
    "def summarize_tool(input: str) -> str:\n",
    "    print(\"Summarizing...   userdefine Tool\")\n",
    "    print(\"input_history: \", input)\n",
    "    summary_chain.run(input)\n",
    "\n",
    "tools = [ search_tool,\n",
    "         Tool(\n",
    "            name=\"summarize_tool\",\n",
    "            func=summarize_tool,\n",
    "            description=\"一个用于对话内容总结的工具。使用这个工具来总结对话内容。\",\n",
    "        )\n",
    "]\n",
    "\n",
    "print(\"tools: \", tools)"
   ]
  },
  {
   "cell_type": "code",
   "execution_count": 64,
   "metadata": {},
   "outputs": [],
   "source": [
    "# 创建记忆\n",
    "memory = ConversationBufferMemory(\n",
    "  memory_key=\"chat_history\",\n",
    "  return_messages=True,\n",
    ")"
   ]
  },
  {
   "cell_type": "code",
   "execution_count": 65,
   "metadata": {},
   "outputs": [
    {
     "name": "stdout",
     "output_type": "stream",
     "text": [
      "Answer the following questions as best you can. You have access to the following tools:\n",
      "\n",
      "bocha_search(tool_input: 'str', callbacks: 'Callbacks' = None) -> 'str' - 一个搜索工具，可以用来搜索互联网的信息。使用这个工具来获取最新的信息。\n",
      "summarize_tool(input: str) -> str - 一个用于对话内容总结的工具。使用这个工具来总结对话内容。\n",
      "\n",
      "Use the following format:\n",
      "\n",
      "Question: the input question you must answer\n",
      "Thought: you should always think about what to do\n",
      "Action: the action to take, should be one of [bocha_search, summarize_tool]\n",
      "Action Input: the input to the action\n",
      "Observation: the result of the action\n",
      "... (this Thought/Action/Action Input/Observation can repeat N times)\n",
      "Thought: I now know the final answer\n",
      "Final Answer: the final answer to the original input question\n",
      "\n",
      "Begin!\n",
      "\n",
      "Question: {input}\n",
      "Thought:{agent_scratchpad}\n"
     ]
    }
   ],
   "source": [
    "# 创建Agent\n",
    "agent_chain = initialize_agent(\n",
    "  tools=tools,\n",
    "  llm=llm,\n",
    "  agent=AgentType.ZERO_SHOT_REACT_DESCRIPTION,\n",
    "  verbose=True,\n",
    "  memory=memory,\n",
    "  handle_parsing_errors=True\n",
    ")\n",
    "\n",
    "print(agent_chain.agent.llm_chain.prompt.template)"
   ]
  },
  {
   "cell_type": "code",
   "execution_count": 66,
   "metadata": {},
   "outputs": [
    {
     "name": "stdout",
     "output_type": "stream",
     "text": [
      "Answer the following questions as best you can. You have access to the following tools:\n",
      "\n",
      "bocha_search(tool_input: 'str', callbacks: 'Callbacks' = None) -> 'str' - 一个搜索工具，可以用来搜索互联网的信息。使用这个工具来获取最新的信息。\n",
      "summarize_tool(input: str) -> str - 一个用于对话内容总结的工具。使用这个工具来总结对话内容。\n",
      "\n",
      "Use the following format:\n",
      "\n",
      "Question: the input question you must answer\n",
      "Thought: you should always think about what to do\n",
      "Action: the action to take, should be one of [bocha_search, summarize_tool]\n",
      "Action Input: the input to the action\n",
      "Observation: the result of the action\n",
      "... (this Thought/Action/Action Input/Observation can repeat N times)\n",
      "Thought: I now know the final answer\n",
      "Final Answer: the final answer to the original input question\n",
      "\n",
      "\n",
      "Begin!\n",
      "\n",
      "History:{chat_history}\n",
      "Question:{input}\n",
      "{agent_scratchpad}\n",
      "\n"
     ]
    }
   ],
   "source": [
    "# 修改模板\n",
    "prefix = \"\"\"Answer the following questions as best you can. You have access to the following tools:\n",
    "\n",
    "bocha_search(tool_input: 'str', callbacks: 'Callbacks' = None) -> 'str' - 一个搜索工具，可以用来搜索互联网的信息。使用这个工具来获取最新的信息。\n",
    "summarize_tool(input: str) -> str - 一个用于对话内容总结的工具。使用这个工具来总结对话内容。\n",
    "\n",
    "Use the following format:\n",
    "\n",
    "Question: the input question you must answer\n",
    "Thought: you should always think about what to do\n",
    "Action: the action to take, should be one of [bocha_search, summarize_tool]\n",
    "Action Input: the input to the action\n",
    "Observation: the result of the action\n",
    "... (this Thought/Action/Action Input/Observation can repeat N times)\n",
    "Thought: I now know the final answer\n",
    "Final Answer: the final answer to the original input question\n",
    "\"\"\"\n",
    "\n",
    "suffix = \"\"\"\n",
    "Begin!\n",
    "\n",
    "History:{chat_history}\n",
    "Question:{input}\n",
    "{agent_scratchpad}\n",
    "\"\"\"\n",
    "\n",
    "# 再把原来的覆盖掉\n",
    "\n",
    "agent_chain = initialize_agent(\n",
    "  tools,\n",
    "  llm,\n",
    "  agent=AgentType.ZERO_SHOT_REACT_DESCRIPTION,\n",
    "  verbose=True,\n",
    "  handle_parsing_errors=True,\n",
    "  agent_kwargs={\n",
    "    # \"prefix\":prefix,\n",
    "    \"suffix\":suffix,\n",
    "    \"agent_scratchpad\":MessagesPlaceholder(\"agent_scratchpad\"),\n",
    "    \"chat_history\":MessagesPlaceholder(\"chat_history\"),\n",
    "    \"input\":MessagesPlaceholder(\"input\")\n",
    "  },\n",
    "  memory=memory,\n",
    ")\n",
    "\n",
    "print(agent_chain.agent.llm_chain.prompt.template)"
   ]
  },
  {
   "cell_type": "code",
   "execution_count": 67,
   "metadata": {},
   "outputs": [
    {
     "name": "stdout",
     "output_type": "stream",
     "text": [
      "\n",
      "\n",
      "\u001b[1m> Entering new AgentExecutor chain...\u001b[0m\n",
      "\u001b[32;1m\u001b[1;3mThought: 我需要确定当前最新的信息来回答这个问题，因为美国总统的任期可能会有变动。\n",
      "Action: bocha_search\n",
      "Action Input: \"美国第45任总统是谁\"\u001b[0m\n",
      "Observation: \u001b[36;1m\u001b[1;3m引用: 1\n",
      "标题: 唐纳德·特朗普\n",
      "URL: https://baike.sogou.com/v1919526.htm?fromTitle=%E7%89%B9%E6%9C%97%E6%99%AE\n",
      "摘要: 编辑词条\n",
      "添加义项 收藏 分享\n",
      "唐纳德·特朗普(8)\n",
      "唐纳德·特朗普（Donald Trump），1946年6月14日出生于美国纽约，国籍美国，毕业于宾夕法尼亚大学，第45、47任美国总统 [1] ，德裔美国共和党籍政治家、企业家。在从政前，曾是商人和电视名人 [2] 。\n",
      "1968年，获得宾夕法尼亚大学沃顿商学院经济学学士学位，随后任职于父亲弗雷德·特朗普的房地产公司。1971年接管公司，从事房地产开发，投资范围逐步延伸至其他多个行业。2016年11月9日，当选美国第45任总统，2017年1月20日宣誓就职 [3] 。2020年12月，特朗普败选，连任失败 [4] 。2021年1月19日，特朗普发表告别演说 [5] 。特朗普执政期间，特朗普政府在减税、强硬贸易政策、加大外交军事布局、放松金融监管方面通过立法、签署行政令、人事任命等多个方面取得了较大进展，其中税改是其前期政绩的最大亮点 [6] 。2023年3月30日，美国纽约曼哈顿大陪审团投票决定起诉美国前总统特朗普 [7] ；4月4日下午，美国前总统特朗普在纽约曼哈顿地区法院出庭接受问讯 [8] ；4月5日，特朗普正式被拘捕，成为美国历史上第一位受到刑事罪名指控的前总统 [9] 。\n",
      "美国时间2024年11月6日，特朗普宣布在2024年总统选举中获胜 [10] 。12月17日，特朗普在各州的选举人团会议中获得足够的选举人票，正式获得总统职位 [11] 。当地时间2025年1月6日，美国国会正式确认特朗普当选总统 [12] 。美国东部时间1月20日，特...\n",
      "网站名称: 搜狗百科\n",
      "网站图标: https://th.bochaai.com/favicon?domain_url=https://baike.sogou.com/v1919526.htm?fromTitle=%E7%89%B9%E6%9C%97%E6%99%AE\n",
      "发布时间: 2022-07-16T00:00:00Z\n",
      "\n",
      "引用: 2\n",
      "标题: 美国第四十五任总统：唐纳德·特朗普\n",
      "URL: https://baijiahao.baidu.com/s?id=1818417785597775086\n",
      "摘要: 一、特朗普的崛起之路\n",
      "来百度APP畅享高清图片\n",
      "早期经历与商业版图\n",
      "唐纳德・特朗普于 1946 年 6 月出生在美国纽约州纽约市皇后区，祖籍德国巴伐利亚自由州卡尔斯塔特镇。他成长在一个移民家庭，父亲弗雷德・特朗普是一名颇为成功的地产商人，15 岁时就开始了自己的建筑业务，后来房地产生意做得风生水起。\n",
      "特朗普幼年时居住在纽约皇后区牙买加庄园一座都铎风格的房子里，中学之前就读于邱森林学校，但因难以静下心读书，13 岁时被父母送到了纽约军事学院。在军校期间，他表现优异，赢得两年的精英学员奖和四年荣誉学员，还获得过上尉军衔，并且是运动队的高级成员，运动能力很强，曾参加纽约市的游行，还被纳入了纽约军校的名人堂，后来他也多次表达对母校的感激之情，称这段经历成就了他。\n",
      "1964 年，特朗普从军校毕业后，先在福特汉姆大学就读了两年，之后转入宾夕法尼亚大学沃顿商学院，并于 1968 年毕业，获得经济学学士学位。其实早在大学期间，他就做成了人生第一笔大生意，和父亲一起低价买下了斯威福顿小区的开发权，经过妥善经营，不到一年时间，所有的公寓都租了出去。大学毕业后，特朗普进入家族房地产企业工作，开始帮助父亲管理产业，并于 1971 年担任董事长兼总裁。\n",
      "从那时起，特朗普便逐渐开启了建立自己 “商业帝国” 的征程。1975 年，他用一千万美元买下了纽约中央火车站的旧旅馆，5 年后建成 “凯悦大饭店”，这成为了他房地产事业里的里程碑事件。之后，又以 2 亿美元在曼哈顿商业区建成 68 层的 “特朗普大楼”，吸引了无数租客，也让他...\n",
      "网站名称: 百家号\n",
      "网站图标: https://th.bochaai.com/favicon?domain_url=https://baijiahao.baidu.com/s?id=1818417785597775086\n",
      "发布时间: 2024-12-14T20:12:00Z\u001b[0m\n",
      "Thought:\u001b[32;1m\u001b[1;3mThought: 根据搜索结果，美国第45任总统是唐纳德·特朗普。最新的信息显示他再次当选为美国总统。\n",
      "Final Answer: 美国第45任总统是唐纳德·特朗普。他在2016年当选，并在2024年宣布再次当选为美国总统。\u001b[0m\n",
      "\n",
      "\u001b[1m> Finished chain.\u001b[0m\n"
     ]
    },
    {
     "data": {
      "text/plain": [
       "'美国第45任总统是唐纳德·特朗普。他在2016年当选，并在2024年宣布再次当选为美国总统。'"
      ]
     },
     "execution_count": 67,
     "metadata": {},
     "output_type": "execute_result"
    }
   ],
   "source": [
    "agent_chain.run(input=\"美国第45任总统是谁？\")"
   ]
  },
  {
   "cell_type": "code",
   "execution_count": 68,
   "metadata": {},
   "outputs": [
    {
     "name": "stdout",
     "output_type": "stream",
     "text": [
      "[HumanMessage(content='美国第45任总统是谁？', additional_kwargs={}, response_metadata={}), AIMessage(content='美国第45任总统是唐纳德·特朗普。他在2016年当选，并在2024年宣布再次当选为美国总统。', additional_kwargs={}, response_metadata={})]\n"
     ]
    }
   ],
   "source": [
    "print(agent_chain.memory.buffer)"
   ]
  },
  {
   "cell_type": "code",
   "execution_count": 69,
   "metadata": {},
   "outputs": [
    {
     "name": "stdout",
     "output_type": "stream",
     "text": [
      "\n",
      "\n",
      "\u001b[1m> Entering new AgentExecutor chain...\u001b[0m\n",
      "\u001b[32;1m\u001b[1;3mThought: 从之前的对话中，我了解到唐纳德·特朗普是美国第45任总统。为了回答关于他孩子的数量的问题，我需要搜索一下相关信息。\n",
      "Action: bocha_search\n",
      "Action Input: \"唐纳德·特朗普有几个孩子\"\u001b[0m\n",
      "Observation: \u001b[36;1m\u001b[1;3m引用: 1\n",
      "标题: 特朗普与三个妻子生育五个子女，非常不一般\n",
      "URL: https://m.163.com/dy/article/JGCHDQ5O05565QPS.html\n",
      "摘要: 特朗普与三个妻子生育五个子女，非常不一般：\n",
      "第一、小唐纳德·特朗普，特朗普大儿子，1977年出生，今年47岁，毕业于宾夕法尼亚大学沃顿商学院，特朗普集团的执行副总裁。\n",
      "第二、伊万卡·特朗普，特朗普大女儿，1981年出生，今年43岁，毕业于宾夕法尼亚大学沃顿商学院，超级模特，拥有自己的品牌。\n",
      "第三、埃里克·特朗普，特朗普二儿子，1984年出生，今年40岁，毕业于乔治城大学，特朗普集团的执行副总裁，与哥哥共同管理。\n",
      "第四、蒂芙尼·特朗普，特朗普女儿，1993年出生，今年31岁，毕业于宾夕法尼亚大学，获得法学博士学位。\n",
      "第五、巴伦·特朗普，特朗普的小儿子，2006年出生，目前在纽约大学读书。\n",
      "五个子女，三个是宾夕法尼亚大学毕业，这里是选票的摇摆州，特朗普在宾夕法尼亚州应该是他的福地。\n",
      "特朗普培养的五个子女都是人中龙凤，儿子管理公司，女儿伊万卡，颜值、情商、名媛都是顶级的，极有可能在四年后会代表共和党进行总统位置角逐，成为美国第一位女总统。\n",
      "网站名称: 网易\n",
      "网站图标: https://th.bochaai.com/favicon?domain_url=https://m.163.com/dy/article/JGCHDQ5O05565QPS.html\n",
      "发布时间: 2024-11-07T07:30:39Z\n",
      "\n",
      "引用: 2\n",
      "标题: 特朗普与大女儿从亲亲蜜蜜到产生矛盾分歧\n",
      "URL: https://m.163.com/dy/article/JOR5CNFK0523TBIA.html\n",
      "摘要: 特朗普有三个儿子两个女儿，但在这五个孩子中，他最疼爱的孩子莫过于大 女儿 伊万卡  。 伊万卡 一直是父亲特朗普的掌上明珠。伊万卡小时候不论有什么需求，特朗普都会尽可能地满足她。伊万卡从小就是个没人胚子，是人人眼中懂事可爱的小美女。\n",
      "特朗普与女儿伊万卡\n",
      "特朗普虽然在工作上极为繁忙，但总会忙里抽闲陪伴伊万卡。伊万卡也一直是特朗普的骄傲。他曾向众人赞美伊万卡是全美国最漂亮的女人。\n",
      "特朗普与女儿\n",
      "在特朗普家族的商业帝国中，伊万卡逐渐成为父亲特朗普之后的代表人物。她曾担任特朗普集团的副总裁。后来，随着特朗普逐渐走上 政坛 ，伊万卡又在背后不遗余力地支持父亲。她曾担任非正式的 总统 顾问职务。\n",
      "特朗普与女儿\n",
      "虽然，2023年，伊万卡因 家族 事务与父兄产生矛盾，但特朗普很快就能解决家族矛盾。因为，在伊万卡心里，父亲永远是最疼爱她的父亲。\n",
      "网站名称: 网易\n",
      "网站图标: https://th.bochaai.com/favicon?domain_url=https://m.163.com/dy/article/JOR5CNFK0523TBIA.html\n",
      "发布时间: 2025-02-21T10:37:00Z\u001b[0m\n",
      "Thought:\u001b[32;1m\u001b[1;3m从搜索结果中，我了解到唐纳德·特朗普有五个孩子：小唐纳德、伊万卡、埃里克、蒂芙尼和巴伦。\n",
      "Thought: 我现在知道了特朗普有几个孩子的答案。\n",
      "Final Answer: 唐纳德·特朗普共有五个孩子。\u001b[0m\n",
      "\n",
      "\u001b[1m> Finished chain.\u001b[0m\n"
     ]
    },
    {
     "data": {
      "text/plain": [
       "'唐纳德·特朗普共有五个孩子。'"
      ]
     },
     "execution_count": 69,
     "metadata": {},
     "output_type": "execute_result"
    }
   ],
   "source": [
    "agent_chain.run(input=\"特朗普有几个孩子？\")"
   ]
  },
  {
   "cell_type": "code",
   "execution_count": 70,
   "metadata": {},
   "outputs": [
    {
     "name": "stdout",
     "output_type": "stream",
     "text": [
      "\n",
      "\n",
      "\u001b[1m> Entering new AgentExecutor chain...\u001b[0m\n",
      "\u001b[32;1m\u001b[1;3mThought: 我已经了解了之前的对话内容，可以直接总结出对话主题和主要内容。\n",
      "Final Answer: 你们最近讨论的是关于美国第45任总统唐纳德·特朗普的信息。具体来说，提到了他的任期以及他有五个孩子的事情。\u001b[0m\n",
      "\n",
      "\u001b[1m> Finished chain.\u001b[0m\n"
     ]
    },
    {
     "data": {
      "text/plain": [
       "'你们最近讨论的是关于美国第45任总统唐纳德·特朗普的信息。具体来说，提到了他的任期以及他有五个孩子的事情。'"
      ]
     },
     "execution_count": 70,
     "metadata": {},
     "output_type": "execute_result"
    }
   ],
   "source": [
    "agent_chain.run(input=\"我需要告诉我孩子我们聊了什么\")"
   ]
  }
 ],
 "metadata": {
  "kernelspec": {
   "display_name": "rag",
   "language": "python",
   "name": "python3"
  },
  "language_info": {
   "codemirror_mode": {
    "name": "ipython",
    "version": 3
   },
   "file_extension": ".py",
   "mimetype": "text/x-python",
   "name": "python",
   "nbconvert_exporter": "python",
   "pygments_lexer": "ipython3",
   "version": "3.13.2"
  }
 },
 "nbformat": 4,
 "nbformat_minor": 2
}
