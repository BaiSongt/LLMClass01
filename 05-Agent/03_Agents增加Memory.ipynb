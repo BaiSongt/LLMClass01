{
 "cells": [
  {
   "cell_type": "markdown",
   "metadata": {},
   "source": [
    "在 LangChain 中，可以通过使用 `Memory` 模块为 Agent 增加记忆功能。记忆允许 Agent 在对话中保留上下文，从而实现更自然的交互。以下是实现步骤：\n",
    "\n",
    "### 1. 引入必要的模块\n",
    "需要引入 `ConversationBufferMemory` 或其他类型的记忆模块，以及 Agent 和工具。\n",
    "\n",
    "```python\n",
    "from langchain.memory import ConversationBufferMemory\n",
    "from langchain.agents import initialize_agent, Tool\n",
    "from langchain.chat_models import ChatOpenAI\n",
    "```\n",
    "\n",
    "### 2. 定义记忆\n",
    "创建一个记忆对象，例如 `ConversationBufferMemory`，它会存储对话的上下文。\n",
    "\n",
    "```python\n",
    "memory = ConversationBufferMemory(memory_key=\"chat_history\", return_messages=True)\n",
    "```\n",
    "\n",
    "### 3. 初始化 Agent\n",
    "将记忆对象传递给 Agent，使其能够在对话中使用记忆。\n",
    "\n",
    "```python\n",
    "llm = ChatOpenAI(temperature=0)\n",
    "tools = []  # 定义你的工具列表\n",
    "\n",
    "agent = initialize_agent(\n",
    "  tools=tools,\n",
    "  llm=llm,\n",
    "  agent=\"chat-conversational-react-description\",\n",
    "  memory=memory,\n",
    "  verbose=True\n",
    ")\n",
    "```\n",
    "\n",
    "### 4. 使用 Agent\n",
    "与 Agent 交互时，它会自动利用记忆存储和检索对话上下文。\n",
    "\n",
    "```python\n",
    "response = agent.run(\"你好！\")\n",
    "print(response)\n",
    "\n",
    "response = agent.run(\"还记得我刚才说了什么吗？\")\n",
    "print(response)\n",
    "```\n",
    "\n",
    "### 其他类型的记忆\n",
    "LangChain 提供了多种记忆类型，可以根据需求选择：\n",
    "- `ConversationBufferMemory`: 简单的对话缓冲区。\n",
    "- `ConversationSummaryMemory`: 对话摘要记忆。\n",
    "- `ConversationKnowledgeGraphMemory`: 知识图谱记忆。\n",
    "\n",
    "### 示例代码\n",
    "以下是完整的代码示例："
   ]
  },
  {
   "cell_type": "code",
   "execution_count": null,
   "metadata": {},
   "outputs": [],
   "source": [
    "from langchain.memory import ConversationBufferMemory\n",
    "from langchain.agents import initialize_agent, Tool\n",
    "from langchain.chat_models import ChatOpenAI\n",
    "\n",
    "# 初始化记忆\n",
    "memory = ConversationBufferMemory(memory_key=\"chat_history\", return_messages=True)\n",
    "\n",
    "# 初始化 LLM 和工具\n",
    "llm = ChatOpenAI(temperature=0)\n",
    "tools = []  # 工具列表\n",
    "\n",
    "# 初始化 Agent\n",
    "agent = initialize_agent(\n",
    "  tools=tools,\n",
    "  llm=llm,\n",
    "  agent=\"chat-conversational-react-description\",\n",
    "  memory=memory,\n",
    "  verbose=True\n",
    ")\n",
    "\n",
    "# 与 Agent 交互\n",
    "response = agent.run(\"你好！\")\n",
    "print(response)\n",
    "\n",
    "response = agent.run(\"还记得我刚才说了什么吗？\")\n",
    "print(response)"
   ]
  },
  {
   "cell_type": "markdown",
   "metadata": {},
   "source": [
    "#### 1 把Memory添加到提示词模板中"
   ]
  },
  {
   "cell_type": "code",
   "execution_count": 2,
   "metadata": {},
   "outputs": [],
   "source": [
    "from bocha_api import bocha_websearch_tool as websearch_tool"
   ]
  },
  {
   "cell_type": "code",
   "execution_count": 58,
   "metadata": {},
   "outputs": [],
   "source": [
    "from langchain.prompts import PromptTemplate\n",
    "from langchain.prompts import MessagesPlaceholder\n",
    "from langchain.agents import load_tools, AgentType, initialize_agent\n",
    "from langchain_ollama.chat_models import ChatOllama\n",
    "from langchain.memory import ConversationBufferMemory\n",
    "from langchain.agents import Tool\n",
    "\n",
    "# 初始化 LLM 和工具\n",
    "llm = ChatOllama(model=\"deepscaler\", temperature=0)\n",
    "\n",
    "# 定义工具\n",
    "# 创建LangChain工具\n",
    "bocha_web_tool = Tool(\n",
    "    name=\"BochaWebSearch\",\n",
    "    func=websearch_tool,\n",
    "    description=\"使用Bocha Web Search API 进行搜索互联网网页，输入应为搜索查询字符串，输出将返回搜索结果的详细信息，包括网页标题、网页URL、网页摘要、网站名称、网站Icon、网页发布时间等。\"\n",
    ")\n",
    "\n",
    "# 定义工具列表\n",
    "tools = load_tools(\n",
    "    tool_names=[\"llm-math\"],\n",
    "    llm=llm\n",
    ")\n",
    "\n",
    "# 将自定义工具添加到工具列表中\n",
    "tools.append(bocha_web_tool)"
   ]
  },
  {
   "cell_type": "markdown",
   "metadata": {},
   "source": [
    "*添加Memory记忆*"
   ]
  },
  {
   "cell_type": "code",
   "execution_count": 59,
   "metadata": {},
   "outputs": [],
   "source": [
    "# 初始化记忆\n",
    "# 这里需要注意一点 默认的 memory_key 的占位是在模板固定写死的，可能需要根据Agent修改\n",
    "# memory = ConversationBufferMemory(memory_key=\"chat_history\", return_messages=True)\n",
    "# 修改为MemoryKey\n",
    "memory = ConversationBufferMemory(memory_key=\"memory\", return_messages=True)"
   ]
  },
  {
   "cell_type": "markdown",
   "metadata": {},
   "source": [
    "*定义Agent*"
   ]
  },
  {
   "cell_type": "code",
   "execution_count": 61,
   "metadata": {},
   "outputs": [],
   "source": [
    "agent_chain = initialize_agent(\n",
    "    tools=tools,\n",
    "    llm=llm,\n",
    "    agent=AgentType.OPENAI_FUNCTIONS,\n",
    "    memory=memory,\n",
    "    verbose=True\n",
    ")"
   ]
  },
  {
   "cell_type": "code",
   "execution_count": 62,
   "metadata": {},
   "outputs": [
    {
     "name": "stdout",
     "output_type": "stream",
     "text": [
      "content='You are a helpful AI assistant.' additional_kwargs={} response_metadata={}\n",
      "prompt=PromptTemplate(input_variables=['input'], input_types={}, partial_variables={}, template='{input}') additional_kwargs={}\n",
      "variable_name='agent_scratchpad'\n"
     ]
    }
   ],
   "source": [
    "# 看一下默认的Agent的Prompt\n",
    "print(agent_chain.agent.prompt.messages[0])\n",
    "print(agent_chain.agent.prompt.messages[1])\n",
    "print(agent_chain.agent.prompt.messages[2])"
   ]
  },
  {
   "cell_type": "code",
   "execution_count": 95,
   "metadata": {},
   "outputs": [],
   "source": [
    "# 修改Agent\n",
    "agent_chain = initialize_agent(\n",
    "    tools=tools,\n",
    "    llm=llm,\n",
    "    agent=AgentType.OPENAI_FUNCTIONS,\n",
    "    verbose=True,\n",
    "    # 使用agent_kwargs来修改Agent的Prompt\n",
    "    # 这里的agent_kwargs是一个字典\n",
    "    agent_kwargs={\n",
    "        # 这里把 variable_name='agent_scratchpad'修改为variable_name='memory'\n",
    "        # 然后还需要再把 agent_scratchpad的值传入到Prompt中\n",
    "        # \"extra_prompt_messages\" 这个名称是固定的\n",
    "        \"extra_prompt_messages\": [\n",
    "            MessagesPlaceholder(variable_name=\"memory\"),\n",
    "            MessagesPlaceholder(variable_name=\"agent_scratchpad\"),\n",
    "        ],\n",
    "    },\n",
    "    memory=memory,\n",
    ")"
   ]
  },
  {
   "cell_type": "code",
   "execution_count": 96,
   "metadata": {},
   "outputs": [
    {
     "name": "stdout",
     "output_type": "stream",
     "text": [
      "content='You are a helpful AI assistant.' additional_kwargs={} response_metadata={}\n",
      "variable_name='memory'\n",
      "variable_name='agent_scratchpad'\n"
     ]
    }
   ],
   "source": [
    "# 再看一下修改的Agent的Prompt\n",
    "# print(agent_chain.agent.prompt.messages)\n",
    "print(agent_chain.agent.prompt.messages[0])\n",
    "print(agent_chain.agent.prompt.messages[1])\n",
    "print(agent_chain.agent.prompt.messages[2])\n",
    "# 前面定义的MemoryKey中为memory， 对话记录会拆入到该位置"
   ]
  }
 ],
 "metadata": {
  "kernelspec": {
   "display_name": "rag",
   "language": "python",
   "name": "python3"
  },
  "language_info": {
   "codemirror_mode": {
    "name": "ipython",
    "version": 3
   },
   "file_extension": ".py",
   "mimetype": "text/x-python",
   "name": "python",
   "nbconvert_exporter": "python",
   "pygments_lexer": "ipython3",
   "version": "3.13.2"
  }
 },
 "nbformat": 4,
 "nbformat_minor": 2
}
