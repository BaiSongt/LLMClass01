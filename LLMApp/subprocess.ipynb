{
 "cells": [
  {
   "cell_type": "code",
   "execution_count": 13,
   "metadata": {},
   "outputs": [
    {
     "name": "stdout",
     "output_type": "stream",
     "text": [
      "标准输出:\n",
      " NAME                       ID              SIZE      MODIFIED     \n",
      "qwen2.5:7b                 845dbda0ea48    4.7 GB    6 hours ago     \n",
      "bge-m3:latest              790764642607    1.2 GB    20 hours ago    \n",
      "deepscaler:latest          0031bcf7459f    3.6 GB    20 hours ago    \n",
      "nomic-embed-text:latest    0a109f422b47    274 MB    4 weeks ago     \n",
      "codellama:7b-code          8df0a30bb1e6    3.8 GB    4 weeks ago     \n",
      "\n",
      "qwen2.5:7b\n",
      "bge-m3:latest\n",
      "deepscaler:latest\n",
      "nomic-embed-text:latest\n",
      "codellama:7b-code\n"
     ]
    }
   ],
   "source": [
    "import subprocess\n",
    "import re\n",
    "\n",
    "# 执行命令并获取返回值\n",
    "result = subprocess.run(\n",
    "    [\"ollama\", \"list\"],  # 终端命令作为列表传入\n",
    "    capture_output=True,  # 捕获标准输出和标准错误\n",
    "    text=True  # 将输出作为字符串返回，而不是字节\n",
    ")\n",
    "\n",
    "# 获取命令的标准输出\n",
    "print(\"标准输出:\\n\", result.stdout)\n",
    "\n",
    "models=[]\n",
    "for i in result.stdout:\n",
    "  models.append(i)\n",
    "\n",
    "# print(models)\n",
    "\n",
    "# 获取命令的标准错误\n",
    "# print(\"标准错误:\\n\", result.stderr)\n",
    "\n",
    "# 获取命令的返回码\n",
    "# print(\"返回码:\", result.returncode)\n",
    "\n",
    "# 使用正则表达式匹配并分组\n",
    "pattern = r\"(\\S+)\\s+(\\S+)\\s+([\\d.]+\\s\\w+)\\s+(.+)\"\n",
    "matches = re.findall(pattern, result.stdout)\n",
    "\n",
    "# 将匹配结果存入 models 列表\n",
    "models = []\n",
    "for match in matches:\n",
    "  models.append({\n",
    "    \"name\": match[0],\n",
    "    \"id\": match[1],\n",
    "    \"size\": match[2],\n",
    "    \"modified\": match[3]\n",
    "  })\n",
    "\n",
    "# 打印分组后的结果\n",
    "for model in models:\n",
    "  print(model[\"name\"])\n"
   ]
  }
 ],
 "metadata": {
  "kernelspec": {
   "display_name": "rag",
   "language": "python",
   "name": "python3"
  },
  "language_info": {
   "codemirror_mode": {
    "name": "ipython",
    "version": 3
   },
   "file_extension": ".py",
   "mimetype": "text/x-python",
   "name": "python",
   "nbconvert_exporter": "python",
   "pygments_lexer": "ipython3",
   "version": "3.13.2"
  }
 },
 "nbformat": 4,
 "nbformat_minor": 2
}
