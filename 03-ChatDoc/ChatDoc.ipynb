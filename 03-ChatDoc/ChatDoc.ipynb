{
 "cells": [
  {
   "cell_type": "markdown",
   "metadata": {},
   "source": [
    "## ChatDoc\n",
    "- 读取 pdf, doc, xlsx 三种常见的文档\n",
    "- 根据文档内容，只能收取内容并输出相应的格式"
   ]
  },
  {
   "cell_type": "code",
   "execution_count": null,
   "metadata": {},
   "outputs": [
    {
     "name": "stdout",
     "output_type": "stream",
     "text": [
      "Requirement already satisfied: docx2txt in /opt/homebrew/Caskroom/miniconda/base/envs/rag/lib/python3.13/site-packages (0.9)\n",
      "Requirement already satisfied: pypdf in /opt/homebrew/Caskroom/miniconda/base/envs/rag/lib/python3.13/site-packages (5.4.0)\n",
      "Requirement already satisfied: nltk in /opt/homebrew/Caskroom/miniconda/base/envs/rag/lib/python3.13/site-packages (3.9.1)\n",
      "Requirement already satisfied: unstructured in /opt/homebrew/Caskroom/miniconda/base/envs/rag/lib/python3.13/site-packages (0.17.2)\n",
      "Requirement already satisfied: networkx in /opt/homebrew/Caskroom/miniconda/base/envs/rag/lib/python3.13/site-packages (3.4.2)\n",
      "Requirement already satisfied: click in /opt/homebrew/Caskroom/miniconda/base/envs/rag/lib/python3.13/site-packages (from nltk) (8.1.8)\n",
      "Requirement already satisfied: joblib in /opt/homebrew/Caskroom/miniconda/base/envs/rag/lib/python3.13/site-packages (from nltk) (1.4.2)\n",
      "Requirement already satisfied: regex>=2021.8.3 in /opt/homebrew/Caskroom/miniconda/base/envs/rag/lib/python3.13/site-packages (from nltk) (2024.11.6)\n",
      "Requirement already satisfied: tqdm in /opt/homebrew/Caskroom/miniconda/base/envs/rag/lib/python3.13/site-packages (from nltk) (4.67.1)\n",
      "Requirement already satisfied: chardet in /opt/homebrew/Caskroom/miniconda/base/envs/rag/lib/python3.13/site-packages (from unstructured) (5.2.0)\n",
      "Requirement already satisfied: filetype in /opt/homebrew/Caskroom/miniconda/base/envs/rag/lib/python3.13/site-packages (from unstructured) (1.2.0)\n",
      "Requirement already satisfied: python-magic in /opt/homebrew/Caskroom/miniconda/base/envs/rag/lib/python3.13/site-packages (from unstructured) (0.4.27)\n",
      "Requirement already satisfied: lxml in /opt/homebrew/Caskroom/miniconda/base/envs/rag/lib/python3.13/site-packages (from unstructured) (5.3.1)\n",
      "Requirement already satisfied: requests in /opt/homebrew/Caskroom/miniconda/base/envs/rag/lib/python3.13/site-packages (from unstructured) (2.32.3)\n",
      "Requirement already satisfied: beautifulsoup4 in /opt/homebrew/Caskroom/miniconda/base/envs/rag/lib/python3.13/site-packages (from unstructured) (4.13.3)\n",
      "Requirement already satisfied: emoji in /opt/homebrew/Caskroom/miniconda/base/envs/rag/lib/python3.13/site-packages (from unstructured) (2.14.1)\n",
      "Requirement already satisfied: dataclasses-json in /opt/homebrew/Caskroom/miniconda/base/envs/rag/lib/python3.13/site-packages (from unstructured) (0.6.7)\n",
      "Requirement already satisfied: python-iso639 in /opt/homebrew/Caskroom/miniconda/base/envs/rag/lib/python3.13/site-packages (from unstructured) (2025.2.18)\n",
      "Requirement already satisfied: langdetect in /opt/homebrew/Caskroom/miniconda/base/envs/rag/lib/python3.13/site-packages (from unstructured) (1.0.9)\n",
      "Requirement already satisfied: numpy in /opt/homebrew/Caskroom/miniconda/base/envs/rag/lib/python3.13/site-packages (from unstructured) (2.2.3)\n",
      "Requirement already satisfied: rapidfuzz in /opt/homebrew/Caskroom/miniconda/base/envs/rag/lib/python3.13/site-packages (from unstructured) (3.12.2)\n",
      "Requirement already satisfied: backoff in /opt/homebrew/Caskroom/miniconda/base/envs/rag/lib/python3.13/site-packages (from unstructured) (2.2.1)\n",
      "Requirement already satisfied: typing-extensions in /opt/homebrew/Caskroom/miniconda/base/envs/rag/lib/python3.13/site-packages (from unstructured) (4.12.2)\n",
      "Requirement already satisfied: unstructured-client in /opt/homebrew/Caskroom/miniconda/base/envs/rag/lib/python3.13/site-packages (from unstructured) (0.31.3)\n",
      "Requirement already satisfied: wrapt in /opt/homebrew/Caskroom/miniconda/base/envs/rag/lib/python3.13/site-packages (from unstructured) (1.17.2)\n",
      "Requirement already satisfied: psutil in /opt/homebrew/Caskroom/miniconda/base/envs/rag/lib/python3.13/site-packages (from unstructured) (7.0.0)\n",
      "Requirement already satisfied: python-oxmsg in /opt/homebrew/Caskroom/miniconda/base/envs/rag/lib/python3.13/site-packages (from unstructured) (0.0.2)\n",
      "Requirement already satisfied: html5lib in /opt/homebrew/Caskroom/miniconda/base/envs/rag/lib/python3.13/site-packages (from unstructured) (1.1)\n",
      "Requirement already satisfied: soupsieve>1.2 in /opt/homebrew/Caskroom/miniconda/base/envs/rag/lib/python3.13/site-packages (from beautifulsoup4->unstructured) (2.6)\n",
      "Requirement already satisfied: marshmallow<4.0.0,>=3.18.0 in /opt/homebrew/Caskroom/miniconda/base/envs/rag/lib/python3.13/site-packages (from dataclasses-json->unstructured) (3.26.1)\n",
      "Requirement already satisfied: typing-inspect<1,>=0.4.0 in /opt/homebrew/Caskroom/miniconda/base/envs/rag/lib/python3.13/site-packages (from dataclasses-json->unstructured) (0.9.0)\n",
      "Requirement already satisfied: six>=1.9 in /opt/homebrew/Caskroom/miniconda/base/envs/rag/lib/python3.13/site-packages (from html5lib->unstructured) (1.17.0)\n",
      "Requirement already satisfied: webencodings in /opt/homebrew/Caskroom/miniconda/base/envs/rag/lib/python3.13/site-packages (from html5lib->unstructured) (0.5.1)\n",
      "Requirement already satisfied: olefile in /opt/homebrew/Caskroom/miniconda/base/envs/rag/lib/python3.13/site-packages (from python-oxmsg->unstructured) (0.47)\n",
      "Requirement already satisfied: charset-normalizer<4,>=2 in /opt/homebrew/Caskroom/miniconda/base/envs/rag/lib/python3.13/site-packages (from requests->unstructured) (3.4.1)\n",
      "Requirement already satisfied: idna<4,>=2.5 in /opt/homebrew/Caskroom/miniconda/base/envs/rag/lib/python3.13/site-packages (from requests->unstructured) (3.10)\n",
      "Requirement already satisfied: urllib3<3,>=1.21.1 in /opt/homebrew/Caskroom/miniconda/base/envs/rag/lib/python3.13/site-packages (from requests->unstructured) (2.3.0)\n",
      "Requirement already satisfied: certifi>=2017.4.17 in /opt/homebrew/Caskroom/miniconda/base/envs/rag/lib/python3.13/site-packages (from requests->unstructured) (2025.1.31)\n",
      "Requirement already satisfied: aiofiles>=24.1.0 in /opt/homebrew/Caskroom/miniconda/base/envs/rag/lib/python3.13/site-packages (from unstructured-client->unstructured) (24.1.0)\n",
      "Requirement already satisfied: cryptography>=3.1 in /opt/homebrew/Caskroom/miniconda/base/envs/rag/lib/python3.13/site-packages (from unstructured-client->unstructured) (44.0.2)\n",
      "Requirement already satisfied: eval-type-backport>=0.2.0 in /opt/homebrew/Caskroom/miniconda/base/envs/rag/lib/python3.13/site-packages (from unstructured-client->unstructured) (0.2.2)\n",
      "Requirement already satisfied: httpx>=0.27.0 in /opt/homebrew/Caskroom/miniconda/base/envs/rag/lib/python3.13/site-packages (from unstructured-client->unstructured) (0.28.1)\n",
      "Requirement already satisfied: nest-asyncio>=1.6.0 in /opt/homebrew/Caskroom/miniconda/base/envs/rag/lib/python3.13/site-packages (from unstructured-client->unstructured) (1.6.0)\n",
      "Requirement already satisfied: pydantic>=2.10.3 in /opt/homebrew/Caskroom/miniconda/base/envs/rag/lib/python3.13/site-packages (from unstructured-client->unstructured) (2.10.6)\n",
      "Requirement already satisfied: python-dateutil>=2.8.2 in /opt/homebrew/Caskroom/miniconda/base/envs/rag/lib/python3.13/site-packages (from unstructured-client->unstructured) (2.9.0.post0)\n",
      "Requirement already satisfied: requests-toolbelt>=1.0.0 in /opt/homebrew/Caskroom/miniconda/base/envs/rag/lib/python3.13/site-packages (from unstructured-client->unstructured) (1.0.0)\n",
      "Requirement already satisfied: typing-inspection>=0.4.0 in /opt/homebrew/Caskroom/miniconda/base/envs/rag/lib/python3.13/site-packages (from unstructured-client->unstructured) (0.4.0)\n",
      "Requirement already satisfied: cffi>=1.12 in /opt/homebrew/Caskroom/miniconda/base/envs/rag/lib/python3.13/site-packages (from cryptography>=3.1->unstructured-client->unstructured) (1.17.1)\n",
      "Requirement already satisfied: anyio in /opt/homebrew/Caskroom/miniconda/base/envs/rag/lib/python3.13/site-packages (from httpx>=0.27.0->unstructured-client->unstructured) (4.8.0)\n",
      "Requirement already satisfied: httpcore==1.* in /opt/homebrew/Caskroom/miniconda/base/envs/rag/lib/python3.13/site-packages (from httpx>=0.27.0->unstructured-client->unstructured) (1.0.7)\n",
      "Requirement already satisfied: h11<0.15,>=0.13 in /opt/homebrew/Caskroom/miniconda/base/envs/rag/lib/python3.13/site-packages (from httpcore==1.*->httpx>=0.27.0->unstructured-client->unstructured) (0.14.0)\n",
      "Requirement already satisfied: packaging>=17.0 in /opt/homebrew/Caskroom/miniconda/base/envs/rag/lib/python3.13/site-packages (from marshmallow<4.0.0,>=3.18.0->dataclasses-json->unstructured) (24.2)\n",
      "Requirement already satisfied: annotated-types>=0.6.0 in /opt/homebrew/Caskroom/miniconda/base/envs/rag/lib/python3.13/site-packages (from pydantic>=2.10.3->unstructured-client->unstructured) (0.7.0)\n",
      "Requirement already satisfied: pydantic-core==2.27.2 in /opt/homebrew/Caskroom/miniconda/base/envs/rag/lib/python3.13/site-packages (from pydantic>=2.10.3->unstructured-client->unstructured) (2.27.2)\n",
      "Requirement already satisfied: mypy-extensions>=0.3.0 in /opt/homebrew/Caskroom/miniconda/base/envs/rag/lib/python3.13/site-packages (from typing-inspect<1,>=0.4.0->dataclasses-json->unstructured) (1.0.0)\n",
      "Requirement already satisfied: pycparser in /opt/homebrew/Caskroom/miniconda/base/envs/rag/lib/python3.13/site-packages (from cffi>=1.12->cryptography>=3.1->unstructured-client->unstructured) (2.22)\n",
      "Requirement already satisfied: sniffio>=1.1 in /opt/homebrew/Caskroom/miniconda/base/envs/rag/lib/python3.13/site-packages (from anyio->httpx>=0.27.0->unstructured-client->unstructured) (1.3.1)\n"
     ]
    }
   ],
   "source": [
    "! pip3 install docx2txt pypdf nltk unstructured networkx openpyxl"
   ]
  },
  {
   "cell_type": "markdown",
   "metadata": {},
   "source": [
    "### 2 第一个 加载 docx"
   ]
  },
  {
   "cell_type": "code",
   "execution_count": null,
   "metadata": {},
   "outputs": [
    {
     "data": {
      "text/plain": [
       "[Document(metadata={'source': '/Users/baisongtao/mycode/LLMClass01/03-ChatDoc/files/file.docx'}, page_content='电吉他教学服务合同 \\n\\n合同编号：_______________  \\n\\n\\n\\n甲方（学员/家长）：  \\n\\n姓名：___________________________  \\n\\n身份证号：_______________________  \\n\\n联系方式：_______________________\\n\\n\\n\\n乙方（教师）：  \\n\\n姓名：___________________________  \\n\\n身份证号：_______________________  \\n\\n联系方式：_______________________\\n\\n\\n\\n\\n\\n\\n\\n第一条 合同主体  \\n\\n1. 甲方为学员本人或法定监护人，具有签订本合同的权利和能力，需按时支付教学费用并配合教学安排。  \\n\\n2. 乙方 _____________________ 专业教师，承诺提供高质量的一对一教学服务。  \\n\\n\\n\\n\\n\\n第二条 教学服务内容\\n\\n1. 教学乐器：电吉他（含必要配件，如效果器、拨片等）。  \\n\\n2. 教学目标：通过系统教学，帮助学员掌握电吉他基本演奏技巧、音阶、和弦、节奏及即兴演奏能力，提升音乐表现力。  \\n\\n3. 教学方式：采用一对一面授方式，结合理论讲解、示范演奏与实践练习。  \\n\\n\\n\\n\\n\\n第三条 教学安排 \\n\\n1. 服务地点：乙方指定教学场所（详细地址：__________________________________________），如需变更需提前3日协商一致。  \\n\\n2. 单次服务时间：  \\n\\n   - 每次课程时长：_________小时（建议45分钟-1小时）  \\n\\n   - 课程周期：自_________年_________月_________日起至_________年_________月_________日止，每周_________次。  \\n\\n3. 课程阶段：根据学员水平动态调整，初期侧重基础技巧，后期逐步增加复杂曲目与即兴创作。  \\n\\n\\n\\n\\n\\n\\n\\n第四条 教学费用\\n\\n1. 收费标准：人民币_________元/课时（含税），总费用_________元。  \\n\\n2. 支付方式：  \\n\\n   - 首期费用：合同签订后3日内支付总费用的30%  \\n\\n   - 后续费用：每完成5课时支付剩余费用（建议通过银行转账，备注“电吉他课程费”）。  \\n\\n3. 退费政策：  \\n\\n   - 因甲方原因退课：开课前全额退款；开课后按未完成课时比例扣除费用（单课时最低收费50%）。  \\n\\n   - 因乙方原因无法授课：全额退款并补偿已消耗课时费用。  \\n\\n   - 若有特殊情况，双方可协商一致退费。\\n\\n\\n\\n\\n\\n第五条 双方权利与义务 \\n\\n甲方义务:\\n\\n- 提供符合教学要求的环境（如安静、有电源插座）。  \\n\\n- 按时参加课程，特殊情况需提前24小时通知乙方。  \\n\\n\\n\\n乙方义务:  \\n\\n- 制定个性化教学计划并定期反馈进度。  \\n\\n- 保证教学质量，不得泄露学员隐私。  \\n\\n\\n\\n\\n\\n第六条 违约责任 \\n\\n1. 甲方逾期支付费用超过7日，乙方有权暂停授课并要求支付每日0.5%滞纳金。  \\n\\n2. 乙方未达标完成教学任务，需退还相应课时费用（按实际完成比例计算）。  \\n\\n\\n\\n\\n\\n第七条 争议解决\\n\\n合同履行中发生争议，双方应协商解决；协商不成可向乙方所在地人民法院提起诉讼。  \\n\\n\\n\\n\\n\\n第八条 其他条款\\n\\n1. 本合同一式两份，甲乙双方各执一份，自签字后生效。  \\n\\n2. 未尽事宜可签订补充协议，与本合同具有同等效力。  \\n\\n3. 此合同最终解释权归乙方所有。\\n\\n\\n\\n\\n\\n\\n\\n甲方签字：______________  日期：_______年___月___日  \\n\\n\\n\\n乙方签字：______________  日期：_______年___月___日  \\n\\n\\t\\t\\t页码：/')]"
      ]
     },
     "execution_count": 3,
     "metadata": {},
     "output_type": "execute_result"
    }
   ],
   "source": [
    "# 导入必须的包\n",
    "from langchain.document_loaders import Docx2txtLoader\n",
    "\n",
    "# 定义ChatDoc\n",
    "class ChatDoc():\n",
    "  def getFile(path):\n",
    "    loader = Docx2txtLoader(path)\n",
    "    text = loader.load()\n",
    "    return text\n",
    "\n",
    "ChatDoc.getFile('files/file.docx')"
   ]
  },
  {
   "cell_type": "markdown",
   "metadata": {},
   "source": [
    "### 3 第二个 加载PDF文档"
   ]
  },
  {
   "cell_type": "code",
   "execution_count": null,
   "metadata": {},
   "outputs": [
    {
     "name": "stderr",
     "output_type": "stream",
     "text": [
      "Ignoring wrong pointing object 7 0 (offset 0)\n",
      "Ignoring wrong pointing object 18 0 (offset 0)\n",
      "Ignoring wrong pointing object 19 0 (offset 0)\n"
     ]
    },
    {
     "data": {
      "text/plain": [
       "[Document(metadata={'producer': 'macOS 版本15.3.2（版号24D81） Quartz PDFContext', 'creator': 'Pages 文稿', 'creationdate': \"D:20250325010133Z00'00'\", 'title': 'file', 'moddate': \"D:20250325010133Z00'00'\", 'source': '/Users/baisongtao/mycode/LLMClass01/03-ChatDoc/files/file.pdf', 'total_pages': 2, 'page': 0, 'page_label': '1'}, page_content='电吉他教学服务合同  合同编号：_______________   \\n甲⽅（学员/家⻓）：   \\n姓名：___________________________   \\n身份证号：_______________________   \\n联系⽅式：_______________________ \\n⼄⽅（教师）：   \\n姓名：___________________________   \\n身份证号：_______________________   \\n联系⽅式：_______________________ \\n第⼀条 合同主体   \\n1. 甲⽅为学员本⼈或法定监护⼈，具有签订本合同的权利和能⼒，需按时⽀付教学费⽤并配合教学\\n安排。   \\n2. ⼄⽅ _____________________ 专业教师，承诺提供⾼质量的⼀对⼀教学服务。   \\n第⼆条 教学服务内容 \\n1. 教学乐器：电吉他（含必要配件，如效果器、拨⽚等）。   \\n2. 教学⽬标：通过系统教学，帮助学员掌握电吉他基本演奏技巧、⾳阶、和弦、节奏及即兴演奏能\\n⼒，提升⾳乐表现⼒。   \\n3. 教学⽅式：采⽤⼀对⼀⾯授⽅式，结合理论讲解、示范演奏与实践练习。   \\n第三条 教学安排  \\n1. 服务地点：⼄⽅指定教学场所（详细地址：__________________________________________），\\n如需变更需提前3⽇协商⼀致。   \\n2. 单次服务时间：   \\n   - 每次课程时⻓：_________⼩时（建议45分钟-1⼩时）   \\n   - 课程周期：⾃_________年_________⽉_________⽇起⾄_________年_________⽉_________⽇\\n⽌，每周_________次。   \\n3. 课程阶段：根据学员⽔平动态调整，初期侧重基础技巧，后期逐步增加复杂曲⽬与即兴创作。   \\n ⻚码： /1 2'),\n",
       " Document(metadata={'producer': 'macOS 版本15.3.2（版号24D81） Quartz PDFContext', 'creator': 'Pages 文稿', 'creationdate': \"D:20250325010133Z00'00'\", 'title': 'file', 'moddate': \"D:20250325010133Z00'00'\", 'source': '/Users/baisongtao/mycode/LLMClass01/03-ChatDoc/files/file.pdf', 'total_pages': 2, 'page': 1, 'page_label': '2'}, page_content='第四条 教学费⽤ \\n1. 收费标准：⼈⺠币_________元/课时（含税），总费⽤_________元。   \\n2. ⽀付⽅式：   \\n   - ⾸期费⽤：合同签订后3⽇内⽀付总费⽤的30%   \\n   - 后续费⽤：每完成5课时⽀付剩余费⽤（建议通过银⾏转账，备注“电吉他课程费”）。   \\n3. 退费政策：   \\n   - 因甲⽅原因退课：开课前全额退款；开课后按未完成课时⽐例扣除费⽤（单课时最低收费\\n50%）。   \\n   - 因⼄⽅原因⽆法授课：全额退款并补偿已消耗课时费⽤。   \\n   - 若有特殊情况，双⽅可协商⼀致退费。 \\n第五条 双⽅权利与义务  \\n甲⽅义务: \\n- 提供符合教学要求的环境（如安静、有电源插座）。   \\n- 按时参加课程，特殊情况需提前24⼩时通知⼄⽅。   \\n⼄⽅义务:   \\n- 制定个性化教学计划并定期反馈进度。   \\n- 保证教学质量，不得泄露学员隐私。   \\n第六条 违约责任  \\n1. 甲⽅逾期⽀付费⽤超过7⽇，⼄⽅有权暂停授课并要求⽀付每⽇0.5%滞纳⾦。   \\n2. ⼄⽅未达标完成教学任务，需退还相应课时费⽤（按实际完成⽐例计算）。   \\n第七条 争议解决 \\n合同履⾏中发⽣争议，双⽅应协商解决；协商不成可向⼄⽅所在地⼈⺠法院提起诉讼。   \\n第⼋条 其他条款 \\n1. 本合同⼀式两份，甲⼄双⽅各执⼀份，⾃签字后⽣效。   \\n2. 未尽事宜可签订补充协议，与本合同具有同等效⼒。   \\n3. 此合同最终解释权归⼄⽅所有。 \\n甲⽅签字：______________  ⽇期：_______年___⽉___⽇   \\n⼄⽅签字：______________  ⽇期：_______年___⽉___⽇  \\n ⻚码： /2 2')]"
      ]
     },
     "execution_count": 5,
     "metadata": {},
     "output_type": "execute_result"
    }
   ],
   "source": [
    "# 导入必须的包\n",
    "from langchain.document_loaders import PyPDFLoader\n",
    "\n",
    "# 定义ChatDoc\n",
    "class ChatDoc():\n",
    "  def getFile(path):\n",
    "    try:\n",
    "      loader = PyPDFLoader(path)\n",
    "      text = loader.load()\n",
    "      return text\n",
    "    except Exception as e:\n",
    "      print(f\"Error Load files: {e}\")\n",
    "\n",
    "ChatDoc.getFile('files/file.pdf')"
   ]
  },
  {
   "cell_type": "markdown",
   "metadata": {},
   "source": [
    "### 4 加载Excel"
   ]
  },
  {
   "cell_type": "code",
   "execution_count": 6,
   "metadata": {},
   "outputs": [
    {
     "data": {
      "text/plain": [
       "[Document(metadata={'source': 'files/file.xlsx', 'file_directory': 'files', 'filename': 'file.xlsx', 'last_modified': '2025-03-25T09:38:47', 'page_name': 'Sheet1', 'page_number': 1, 'text_as_html': '<table><tr><td>名称</td><td>电话</td></tr><tr><td>曹 路 晴</td><td>118280565608</td></tr><tr><td>曾 翔</td><td>1198511623638</td></tr><tr><td>陈乐涵</td><td>118328359796</td></tr><tr><td>陈铭</td><td>11878257711119</td></tr><tr><td>陈然</td><td>11858257511711</td></tr><tr><td>陈 伟</td><td>115762529228</td></tr><tr><td>陈希贤</td><td>113086627365</td></tr><tr><td>陈孜越</td><td>115295795700</td></tr><tr><td>崔春</td><td>1187-2557-5029</td></tr><tr><td>崔筱婷</td><td>113935575832</td></tr><tr><td>代清源</td><td>1188375021106</td></tr><tr><td>赵铭卓</td><td>1152851132623</td></tr><tr><td>朱坤</td><td>11811601186527</td></tr><tr><td>邓涛</td><td>118080962725</td></tr><tr><td>冯昊珵</td><td>1199552353116</td></tr><tr><td>侯纪华</td><td>118581155110611</td></tr><tr><td>胡 帅</td><td>1130982805115</td></tr><tr><td>黄欣</td><td>1186580981133</td></tr><tr><td>雷洪艳</td><td>1183280711705</td></tr><tr><td>刘星宇</td><td>1157711073022</td></tr><tr><td>马 环</td><td>1173893528511</td></tr><tr><td>尚纪新</td><td>118093855628</td></tr><tr><td>邵博</td><td>11911820511906</td></tr><tr><td>舒禹程</td><td>1178 0702 3909</td></tr><tr><td>滕宇</td><td>113388962852</td></tr><tr><td>田明江</td><td>1182255751103</td></tr><tr><td>王端滉</td><td>1191123596093</td></tr><tr><td>王浩渊</td><td>1133781162289</td></tr><tr><td>王朗亭</td><td>1180811055855</td></tr><tr><td>王铁霖</td><td>1180585591150</td></tr><tr><td>吴范钶</td><td>1182811352223</td></tr><tr><td>吴小兵</td><td>115235111121179</td></tr><tr><td>熊永康</td><td>118628988298</td></tr><tr><td>许锦程</td><td>1186967231130</td></tr><tr><td>郑剀中</td><td>1131120597587</td></tr><tr><td>杨西京</td><td>113575097236</td></tr><tr><td>叶磊</td><td>1177-2502-51153</td></tr><tr><td>易灵敏</td><td>1188759758110</td></tr><tr><td>于德友</td><td>11385111155387</td></tr><tr><td>于兴超</td><td>1188551107036</td></tr><tr><td>余亦豪</td><td>118058565205</td></tr><tr><td>俞振兴</td><td>1178281176825</td></tr><tr><td>悦茂苓</td><td>1177-611113-25116</td></tr><tr><td>张 浩</td><td>11811-81100-11608</td></tr><tr><td>张荣炜</td><td>1159596756511</td></tr><tr><td>张鑫宇</td><td>11335089911311</td></tr><tr><td>刘旻帑</td><td>1186-28311-6265</td></tr><tr><td>周鑫睿</td><td>1187023332611</td></tr></table>', 'languages': ['zho'], 'filetype': 'application/vnd.openxmlformats-officedocument.spreadsheetml.sheet', 'category': 'Table', 'element_id': '77d1545e6ba7096d3222bb82697057da'}, page_content='名称 电话 曹 路 晴 118280565608 曾 翔 1198511623638 陈乐涵 118328359796 陈铭 11878257711119 陈然 11858257511711 陈 伟 115762529228 陈希贤 113086627365 陈孜越 115295795700 崔春 1187-2557-5029 崔筱婷 113935575832 代清源 1188375021106 赵铭卓 1152851132623 朱坤 11811601186527 邓涛 118080962725 冯昊珵 1199552353116 侯纪华 118581155110611 胡 帅 1130982805115 黄欣 1186580981133 雷洪艳 1183280711705 刘星宇 1157711073022 马 环 1173893528511 尚纪新 118093855628 邵博 11911820511906 舒禹程 1178 0702 3909 滕宇 113388962852 田明江 1182255751103 王端滉 1191123596093 王浩渊 1133781162289 王朗亭 1180811055855 王铁霖 1180585591150 吴范钶 1182811352223 吴小兵 115235111121179 熊永康 118628988298 许锦程 1186967231130 郑剀中 1131120597587 杨西京 113575097236 叶磊 1177-2502-51153 易灵敏 1188759758110 于德友 11385111155387 于兴超 1188551107036 余亦豪 118058565205 俞振兴 1178281176825 悦茂苓 1177-611113-25116 张 浩 11811-81100-11608 张荣炜 1159596756511 张鑫宇 11335089911311 刘旻帑 1186-28311-6265 周鑫睿 1187023332611')]"
      ]
     },
     "execution_count": 6,
     "metadata": {},
     "output_type": "execute_result"
    }
   ],
   "source": [
    "# 导入必须的包\n",
    "from langchain.document_loaders import UnstructuredExcelLoader\n",
    "\n",
    "# 定义ChatDoc\n",
    "class ChatDoc():\n",
    "  def getFile(path):\n",
    "    try:\n",
    "      loader = UnstructuredExcelLoader(path, mode='elements')\n",
    "      text = loader.load()\n",
    "      return text\n",
    "    except Exception as e:\n",
    "      print(f\"Error Load files: {e}\")\n",
    "\n",
    "ChatDoc.getFile('files/file.xlsx')"
   ]
  },
  {
   "cell_type": "markdown",
   "metadata": {},
   "source": [
    "### 5 整合 动态加载三种格式"
   ]
  },
  {
   "cell_type": "code",
   "execution_count": 10,
   "metadata": {},
   "outputs": [
    {
     "data": {
      "text/plain": [
       "[Document(metadata={'source': 'files/file.docx'}, page_content='第七条 争议解决\\n\\n合同履行中发生争议，双方应协商解决；协商不成可向乙方所在地人民法院提起诉讼。  \\n\\n第八条 其他条款\\n\\n1. 本合同一式两份，甲乙双方各执一份，自签字后生效。'),\n",
       " Document(metadata={'source': 'files/file.docx'}, page_content='第七条 争议解决\\n\\n合同履行中发生争议，双方应协商解决；协商不成可向乙方所在地人民法院提起诉讼。  \\n\\n第八条 其他条款\\n\\n1. 本合同一式两份，甲乙双方各执一份，自签字后生效。'),\n",
       " Document(metadata={'source': 'files/file.docx'}, page_content='第七条 争议解决\\n\\n合同履行中发生争议，双方应协商解决；协商不成可向乙方所在地人民法院提起诉讼。  \\n\\n第八条 其他条款\\n\\n1. 本合同一式两份，甲乙双方各执一份，自签字后生效。'),\n",
       " Document(metadata={'source': 'files/file.docx'}, page_content='联系方式：_______________________\\n\\n第一条 合同主体  \\n\\n1. 甲方为学员本人或法定监护人，具有签订本合同的权利和能力，需按时支付教学费用并配合教学安排。')]"
      ]
     },
     "execution_count": 10,
     "metadata": {},
     "output_type": "execute_result"
    }
   ],
   "source": [
    "# 导入必须的包\n",
    "from langchain.document_loaders import Docx2txtLoader\n",
    "from langchain.document_loaders import PyPDFLoader\n",
    "from langchain.document_loaders import UnstructuredExcelLoader\n",
    "from langchain.text_splitter import CharacterTextSplitter\n",
    "\n",
    "# from langchain.embeddings import OpenAIEmbeddings\n",
    "from langchain.embeddings import OllamaEmbeddings\n",
    "from langchain.vectorstores import Chroma\n",
    "\n",
    "# 定义ChatDoc\n",
    "class ChatDoc():\n",
    "  def __init__(self):\n",
    "    self.doc = None\n",
    "    self.splitText = []\n",
    "\n",
    "  def getFile(self):\n",
    "    doc = self.doc\n",
    "    loaders = {\n",
    "      \"docx\":Docx2txtLoader,\n",
    "      \"pdf\":PyPDFLoader,\n",
    "      \"xlsx\":UnstructuredExcelLoader\n",
    "    }\n",
    "    file_extension = doc.split(\".\")[-1]\n",
    "    loader_class = loaders.get(file_extension)\n",
    "    if loader_class:\n",
    "      try:\n",
    "        loader = loader_class(doc)\n",
    "        text = loader.load()\n",
    "        return text\n",
    "      except Exception as e:\n",
    "        print(f\"Error Loading {file_extension} files: {e}\")\n",
    "    else:\n",
    "      print(f\"Unsupported Loading {file_extension} files: {e}\")\n",
    "      return None\n",
    "\n",
    "  # 文档分割\n",
    "  def splitSentences(self):\n",
    "    full_text = self.getFile()\n",
    "    if full_text != None :\n",
    "      # 对文档进行切割\n",
    "      text_splitter = CharacterTextSplitter(chunk_size=100, chunk_overlap=20)\n",
    "      texts = text_splitter.split_documents(full_text)\n",
    "      self.splitText = texts\n",
    "\n",
    "  # 向量化与向量存储\n",
    "  def embeddingAndVectorDB(self):\n",
    "    # embeddings = OpenAIEmbeddings()\n",
    "\n",
    "    embeddings = OllamaEmbeddings(\n",
    "      base_url=\"http://localhost:11434\",\n",
    "      model=\"nomic-embed-text:latest\"\n",
    "    )\n",
    "    chroma_db = Chroma.from_documents(\n",
    "      documents=self.splitText,\n",
    "      embedding=embeddings\n",
    "    )\n",
    "    return chroma_db\n",
    "\n",
    "  # 提问并找到相关的文本块\n",
    "  def askAndFindFiles(self, question):\n",
    "    db = self.embeddingAndVectorDB()\n",
    "    retriever = db.as_retriever() # 最简单的索引方式\n",
    "    results = retriever.invoke(question)\n",
    "    return results\n",
    "\n",
    "\n",
    "chat_doc = ChatDoc()\n",
    "chat_doc.doc = \"files/file.docx\"\n",
    "chat_doc.splitSentences()\n",
    "chat_doc.askAndFindFiles(\"合同争议是怎么解决？\")"
   ]
  },
  {
   "cell_type": "markdown",
   "metadata": {},
   "source": [
    "### 7 索引并使用自然语言找出数据块"
   ]
  },
  {
   "cell_type": "markdown",
   "metadata": {},
   "source": [
    "### 8 多重查询提高文档的检索精确度"
   ]
  },
  {
   "cell_type": "code",
   "execution_count": 2,
   "metadata": {},
   "outputs": [
    {
     "name": "stderr",
     "output_type": "stream",
     "text": [
      "/var/folders/d6/8jzk9xqn419djvdnx23ft3y40000gn/T/ipykernel_70404/2536340243.py:80: LangChainDeprecationWarning: The method `BaseRetriever.get_relevant_documents` was deprecated in langchain-core 0.1.46 and will be removed in 1.0. Use :meth:`~invoke` instead.\n",
      "  return retriever_from_llm.get_relevant_documents(question)\n",
      "INFO:httpx:HTTP Request: POST http://127.0.0.1:11434/api/chat \"HTTP/1.1 200 OK\"\n",
      "INFO:langchain.retrievers.multi_query:Generated queries: ['Here are three different versions of the original question:', '合同争议的解决方法是什么?', 'What are the common practices for resolving contract disputes?', '如何处理和解决与合同相关的法律纠纷?', 'These alternative questions aim to capture different aspects and nuances of the original query, allowing the vector database to retrieve relevant documents from various angles.']\n"
     ]
    },
    {
     "name": "stdout",
     "output_type": "stream",
     "text": [
      "[Document(metadata={'source': 'files/file.docx'}, page_content='2. 教学目标：通过系统教学，帮助学员掌握电吉他基本演奏技巧、音阶、和弦、节奏及即兴演奏能力，提升音乐表现力。  \\n\\n3. 教学方式：采用一对一面授方式，结合理论讲解、示范演奏与实践练习。'), Document(metadata={'source': 'files/file.docx'}, page_content='3. 退费政策：  \\n\\n   - 因甲方原因退课：开课前全额退款；开课后按未完成课时比例扣除费用（单课时最低收费50%）。  \\n\\n   - 因乙方原因无法授课：全额退款并补偿已消耗课时费用。'), Document(metadata={'source': 'files/file.docx'}, page_content='联系方式：_______________________\\n\\n第一条 合同主体  \\n\\n1. 甲方为学员本人或法定监护人，具有签订本合同的权利和能力，需按时支付教学费用并配合教学安排。'), Document(metadata={'source': 'files/file.docx'}, page_content='第七条 争议解决\\n\\n合同履行中发生争议，双方应协商解决；协商不成可向乙方所在地人民法院提起诉讼。  \\n\\n第八条 其他条款\\n\\n1. 本合同一式两份，甲乙双方各执一份，自签字后生效。'), Document(metadata={'source': 'files/file.docx'}, page_content='2. 未尽事宜可签订补充协议，与本合同具有同等效力。  \\n\\n3. 此合同最终解释权归乙方所有。\\n\\n甲方签字：______________  日期：_______年___月___日'), Document(metadata={'source': 'files/file.docx'}, page_content='第六条 违约责任 \\n\\n1. 甲方逾期支付费用超过7日，乙方有权暂停授课并要求支付每日0.5%滞纳金。  \\n\\n2. 乙方未达标完成教学任务，需退还相应课时费用（按实际完成比例计算）。')]\n",
      "6\n"
     ]
    }
   ],
   "source": [
    "# 导入必须的包\n",
    "from langchain.document_loaders import Docx2txtLoader\n",
    "from langchain.document_loaders import PyPDFLoader\n",
    "from langchain.document_loaders import UnstructuredExcelLoader\n",
    "from langchain.text_splitter import CharacterTextSplitter\n",
    "\n",
    "# from langchain.embeddings import OpenAIEmbeddings\n",
    "from langchain.embeddings import OllamaEmbeddings\n",
    "from langchain.vectorstores import Chroma\n",
    "\n",
    "# 引入多重查询\n",
    "from langchain.retrievers.multi_query import MultiQueryRetriever\n",
    "\n",
    "# 引入Chat model\n",
    "from langchain_ollama.chat_models import ChatOllama\n",
    "\n",
    "# 定义ChatDoc\n",
    "class ChatDoc():\n",
    "  def __init__(self):\n",
    "    self.doc = None\n",
    "    self.splitText = []\n",
    "\n",
    "  def getFile(self):\n",
    "    doc = self.doc\n",
    "    loaders = {\n",
    "      \"docx\":Docx2txtLoader,\n",
    "      \"pdf\":PyPDFLoader,\n",
    "      \"xlsx\":UnstructuredExcelLoader\n",
    "    }\n",
    "    file_extension = doc.split(\".\")[-1]\n",
    "    loader_class = loaders.get(file_extension)\n",
    "    if loader_class:\n",
    "      try:\n",
    "        loader = loader_class(doc)\n",
    "        text = loader.load()\n",
    "        return text\n",
    "      except Exception as e:\n",
    "        print(f\"Error Loading {file_extension} files: {e}\")\n",
    "    else:\n",
    "      print(f\"Unsupported Loading {file_extension} files: {e}\")\n",
    "      return None\n",
    "\n",
    "  # 文档分割\n",
    "  def splitSentences(self):\n",
    "    full_text = self.getFile()\n",
    "    if full_text != None :\n",
    "      # 对文档进行切割\n",
    "      text_splitter = CharacterTextSplitter(chunk_size=100, chunk_overlap=20)\n",
    "      texts = text_splitter.split_documents(full_text)\n",
    "      self.splitText = texts\n",
    "\n",
    "  # 向量化与向量存储\n",
    "  def embeddingAndVectorDB(self):\n",
    "    # embeddings = OpenAIEmbeddings()\n",
    "\n",
    "    embeddings = OllamaEmbeddings(\n",
    "      base_url=\"http://localhost:11434\",\n",
    "      model=\"nomic-embed-text:latest\"\n",
    "    )\n",
    "    chroma_db = Chroma.from_documents(\n",
    "      documents=self.splitText,\n",
    "      embedding=embeddings\n",
    "    )\n",
    "    return chroma_db\n",
    "\n",
    "  # 提问并找到相关的文本块\n",
    "  def askAndFindFiles(self, question):\n",
    "    db = self.embeddingAndVectorDB()\n",
    "\n",
    "    # 把问题交给LLM进行多角度扩展\n",
    "    llm = ChatOllama(\n",
    "      model=\"llama3.1:8b\",\n",
    "      temperature=0\n",
    "    )\n",
    "\n",
    "    retriever_from_llm = MultiQueryRetriever.from_llm(\n",
    "      retriever=db.as_retriever(),\n",
    "      llm=llm\n",
    "    )\n",
    "    return retriever_from_llm.get_relevant_documents(question)\n",
    "\n",
    "\n",
    "\n",
    "chat_doc = ChatDoc()\n",
    "chat_doc.doc = \"files/file.docx\"\n",
    "chat_doc.splitSentences()\n",
    "\n",
    "# 设置logging 查看生成查询\n",
    "import logging\n",
    "logging.basicConfig(level=logging.INFO)\n",
    "logging.getLogger(\"langchain.retrievers.multi_query\").setLevel(logging.DEBUG)\n",
    "unique_doc = chat_doc.askAndFindFiles(\"合同争议是怎么解决?\")\n",
    "print(unique_doc)\n",
    "print(len(unique_doc))"
   ]
  },
  {
   "cell_type": "markdown",
   "metadata": {},
   "source": [
    "retriever_from_llm 输出： \n",
    "```python\n",
    "retriever=VectorStoreRetriever(tags=['Chroma', 'OllamaEmbeddings'], vectorstore=<langchain_community.vectorstores.chroma.Chroma object at 0x11e8f8830>, search_kwargs={}) llm_chain=PromptTemplate(input_variables=['question'], input_types={}, partial_variables={}, template='You are an AI language model assistant. Your task is \\n    to generate 3 different versions of the given user \\n    question to retrieve relevant documents from a vector  database. \\n    By generating multiple perspectives on the user question, \\n    your goal is to help the user overcome some of the limitations \\n    of distance-based similarity search. Provide these alternative \\n    questions separated by newlines. Original question: {question}')\n",
    "| ChatOllama(model='llama3.1:8b', temperature=0.0)\n",
    "| LineListOutputParser()\n",
    "```"
   ]
  },
  {
   "cell_type": "markdown",
   "metadata": {},
   "source": [
    "### 9 使用上下文压缩检索，降低冗余信息"
   ]
  },
  {
   "cell_type": "code",
   "execution_count": 3,
   "metadata": {},
   "outputs": [
    {
     "name": "stderr",
     "output_type": "stream",
     "text": [
      "INFO:httpx:HTTP Request: POST http://127.0.0.1:11434/api/chat \"HTTP/1.1 200 OK\"\n",
      "INFO:httpx:HTTP Request: POST http://127.0.0.1:11434/api/chat \"HTTP/1.1 200 OK\"\n",
      "INFO:httpx:HTTP Request: POST http://127.0.0.1:11434/api/chat \"HTTP/1.1 200 OK\"\n",
      "INFO:httpx:HTTP Request: POST http://127.0.0.1:11434/api/chat \"HTTP/1.1 200 OK\"\n"
     ]
    },
    {
     "name": "stdout",
     "output_type": "stream",
     "text": [
      "[Document(metadata={'source': 'files/file.docx'}, page_content='> 合同履行中发生争议，双方应协商解决；协商不成可向乙方所在地人民法院提起诉讼。'), Document(metadata={'source': 'files/file.docx'}, page_content='> 合同履行中发生争议，双方应协商解决；协商不成可向乙方所在地人民法院提起诉讼。'), Document(metadata={'source': 'files/file.docx'}, page_content='> 合同履行中发生争议，双方应协商解决；协商不成可向乙方所在地人民法院提起诉讼。'), Document(metadata={'source': 'files/file.docx'}, page_content='> 第一条 合同主体  \\n>>\\n1. 甲方为学员本人或法定监护人，具有签订本合同的权利和能力，需按时支付教学费用并配合教学安排。')]\n",
      "4\n"
     ]
    }
   ],
   "source": [
    "# 导入必须的包\n",
    "from langchain.document_loaders import Docx2txtLoader\n",
    "from langchain.document_loaders import PyPDFLoader\n",
    "from langchain.document_loaders import UnstructuredExcelLoader\n",
    "from langchain.text_splitter import CharacterTextSplitter\n",
    "\n",
    "# from langchain.embeddings import OpenAIEmbeddings\n",
    "from langchain.embeddings import OllamaEmbeddings\n",
    "from langchain.vectorstores import Chroma\n",
    "\n",
    "# 引入上下文压缩\n",
    "from langchain.retrievers import ContextualCompressionRetriever\n",
    "from langchain.retrievers.document_compressors import LLMChainExtractor\n",
    "\n",
    "# 引入Chat model\n",
    "from langchain_ollama.chat_models import ChatOllama\n",
    "\n",
    "# 定义ChatDoc\n",
    "class ChatDoc():\n",
    "  def __init__(self):\n",
    "    self.doc = None\n",
    "    self.splitText = []\n",
    "\n",
    "  def getFile(self):\n",
    "    doc = self.doc\n",
    "    loaders = {\n",
    "      \"docx\":Docx2txtLoader,\n",
    "      \"pdf\":PyPDFLoader,\n",
    "      \"xlsx\":UnstructuredExcelLoader\n",
    "    }\n",
    "    file_extension = doc.split(\".\")[-1]\n",
    "    loader_class = loaders.get(file_extension)\n",
    "    if loader_class:\n",
    "      try:\n",
    "        loader = loader_class(doc)\n",
    "        text = loader.load()\n",
    "        return text\n",
    "      except Exception as e:\n",
    "        print(f\"Error Loading {file_extension} files: {e}\")\n",
    "    else:\n",
    "      print(f\"Unsupported Loading {file_extension} files: {e}\")\n",
    "      return None\n",
    "\n",
    "  # 文档分割\n",
    "  def splitSentences(self):\n",
    "    full_text = self.getFile()\n",
    "    if full_text != None :\n",
    "      # 对文档进行切割\n",
    "      text_splitter = CharacterTextSplitter(chunk_size=100, chunk_overlap=20)\n",
    "      texts = text_splitter.split_documents(full_text)\n",
    "      self.splitText = texts\n",
    "\n",
    "  # 向量化与向量存储\n",
    "  def embeddingAndVectorDB(self):\n",
    "    # embeddings = OpenAIEmbeddings()\n",
    "\n",
    "    embeddings = OllamaEmbeddings(\n",
    "      base_url=\"http://localhost:11434\",\n",
    "      model=\"nomic-embed-text:latest\"\n",
    "    )\n",
    "    chroma_db = Chroma.from_documents(\n",
    "      documents=self.splitText,\n",
    "      embedding=embeddings\n",
    "    )\n",
    "    return chroma_db\n",
    "\n",
    "  # 提问并找到相关的文本块\n",
    "  def askAndFindFiles(self, question):\n",
    "    db = self.embeddingAndVectorDB()\n",
    "\n",
    "    # 把问题交给LLM进行多角度扩展\n",
    "    llm = ChatOllama(\n",
    "      model=\"llama3.1:8b\",\n",
    "      temperature=0\n",
    "    )\n",
    "\n",
    "    retriever = db.as_retriever()\n",
    "    compressor = LLMChainExtractor.from_llm(\n",
    "      llm=llm\n",
    "    )\n",
    "    compressor_retriever = ContextualCompressionRetriever(\n",
    "      base_retriever=retriever,\n",
    "      base_compressor=compressor\n",
    "    )\n",
    "\n",
    "    return compressor_retriever.get_relevant_documents(question)\n",
    "\n",
    "\n",
    "chat_doc = ChatDoc()\n",
    "chat_doc.doc = \"files/file.docx\"\n",
    "chat_doc.splitSentences()\n",
    "\n",
    "# 设置logging 查看生成查询\n",
    "import logging\n",
    "logging.basicConfig(level=logging.INFO)\n",
    "logging.getLogger(\"langchain.retrievers.multi_query\").setLevel(logging.DEBUG)\n",
    "unique_doc = chat_doc.askAndFindFiles(\"合同争议是怎么解决?\")\n",
    "print(unique_doc)\n",
    "print(len(unique_doc))"
   ]
  },
  {
   "cell_type": "markdown",
   "metadata": {},
   "source": [
    "### 10 在向量存储里面使用最大边际相似MMR，和 相似性打分检索提高精度"
   ]
  }
 ],
 "metadata": {
  "kernelspec": {
   "display_name": "rag",
   "language": "python",
   "name": "python3"
  },
  "language_info": {
   "codemirror_mode": {
    "name": "ipython",
    "version": 3
   },
   "file_extension": ".py",
   "mimetype": "text/x-python",
   "name": "python",
   "nbconvert_exporter": "python",
   "pygments_lexer": "ipython3",
   "version": "3.13.2"
  }
 },
 "nbformat": 4,
 "nbformat_minor": 2
}
