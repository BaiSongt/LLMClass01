{
 "cells": [
  {
   "cell_type": "markdown",
   "metadata": {},
   "source": [
    "## ChatDoc\n",
    "- 读取 pdf, doc, xlsx 三种常见的文档\n",
    "- 根据文档内容，只能收取内容并输出相应的格式"
   ]
  },
  {
   "cell_type": "code",
   "execution_count": null,
   "metadata": {},
   "outputs": [
    {
     "name": "stdout",
     "output_type": "stream",
     "text": [
      "Requirement already satisfied: docx2txt in /opt/homebrew/Caskroom/miniconda/base/envs/rag/lib/python3.13/site-packages (0.9)\n",
      "Requirement already satisfied: pypdf in /opt/homebrew/Caskroom/miniconda/base/envs/rag/lib/python3.13/site-packages (5.4.0)\n",
      "Requirement already satisfied: nltk in /opt/homebrew/Caskroom/miniconda/base/envs/rag/lib/python3.13/site-packages (3.9.1)\n",
      "Requirement already satisfied: unstructured in /opt/homebrew/Caskroom/miniconda/base/envs/rag/lib/python3.13/site-packages (0.17.2)\n",
      "Requirement already satisfied: networkx in /opt/homebrew/Caskroom/miniconda/base/envs/rag/lib/python3.13/site-packages (3.4.2)\n",
      "Requirement already satisfied: click in /opt/homebrew/Caskroom/miniconda/base/envs/rag/lib/python3.13/site-packages (from nltk) (8.1.8)\n",
      "Requirement already satisfied: joblib in /opt/homebrew/Caskroom/miniconda/base/envs/rag/lib/python3.13/site-packages (from nltk) (1.4.2)\n",
      "Requirement already satisfied: regex>=2021.8.3 in /opt/homebrew/Caskroom/miniconda/base/envs/rag/lib/python3.13/site-packages (from nltk) (2024.11.6)\n",
      "Requirement already satisfied: tqdm in /opt/homebrew/Caskroom/miniconda/base/envs/rag/lib/python3.13/site-packages (from nltk) (4.67.1)\n",
      "Requirement already satisfied: chardet in /opt/homebrew/Caskroom/miniconda/base/envs/rag/lib/python3.13/site-packages (from unstructured) (5.2.0)\n",
      "Requirement already satisfied: filetype in /opt/homebrew/Caskroom/miniconda/base/envs/rag/lib/python3.13/site-packages (from unstructured) (1.2.0)\n",
      "Requirement already satisfied: python-magic in /opt/homebrew/Caskroom/miniconda/base/envs/rag/lib/python3.13/site-packages (from unstructured) (0.4.27)\n",
      "Requirement already satisfied: lxml in /opt/homebrew/Caskroom/miniconda/base/envs/rag/lib/python3.13/site-packages (from unstructured) (5.3.1)\n",
      "Requirement already satisfied: requests in /opt/homebrew/Caskroom/miniconda/base/envs/rag/lib/python3.13/site-packages (from unstructured) (2.32.3)\n",
      "Requirement already satisfied: beautifulsoup4 in /opt/homebrew/Caskroom/miniconda/base/envs/rag/lib/python3.13/site-packages (from unstructured) (4.13.3)\n",
      "Requirement already satisfied: emoji in /opt/homebrew/Caskroom/miniconda/base/envs/rag/lib/python3.13/site-packages (from unstructured) (2.14.1)\n",
      "Requirement already satisfied: dataclasses-json in /opt/homebrew/Caskroom/miniconda/base/envs/rag/lib/python3.13/site-packages (from unstructured) (0.6.7)\n",
      "Requirement already satisfied: python-iso639 in /opt/homebrew/Caskroom/miniconda/base/envs/rag/lib/python3.13/site-packages (from unstructured) (2025.2.18)\n",
      "Requirement already satisfied: langdetect in /opt/homebrew/Caskroom/miniconda/base/envs/rag/lib/python3.13/site-packages (from unstructured) (1.0.9)\n",
      "Requirement already satisfied: numpy in /opt/homebrew/Caskroom/miniconda/base/envs/rag/lib/python3.13/site-packages (from unstructured) (2.2.3)\n",
      "Requirement already satisfied: rapidfuzz in /opt/homebrew/Caskroom/miniconda/base/envs/rag/lib/python3.13/site-packages (from unstructured) (3.12.2)\n",
      "Requirement already satisfied: backoff in /opt/homebrew/Caskroom/miniconda/base/envs/rag/lib/python3.13/site-packages (from unstructured) (2.2.1)\n",
      "Requirement already satisfied: typing-extensions in /opt/homebrew/Caskroom/miniconda/base/envs/rag/lib/python3.13/site-packages (from unstructured) (4.12.2)\n",
      "Requirement already satisfied: unstructured-client in /opt/homebrew/Caskroom/miniconda/base/envs/rag/lib/python3.13/site-packages (from unstructured) (0.31.3)\n",
      "Requirement already satisfied: wrapt in /opt/homebrew/Caskroom/miniconda/base/envs/rag/lib/python3.13/site-packages (from unstructured) (1.17.2)\n",
      "Requirement already satisfied: psutil in /opt/homebrew/Caskroom/miniconda/base/envs/rag/lib/python3.13/site-packages (from unstructured) (7.0.0)\n",
      "Requirement already satisfied: python-oxmsg in /opt/homebrew/Caskroom/miniconda/base/envs/rag/lib/python3.13/site-packages (from unstructured) (0.0.2)\n",
      "Requirement already satisfied: html5lib in /opt/homebrew/Caskroom/miniconda/base/envs/rag/lib/python3.13/site-packages (from unstructured) (1.1)\n",
      "Requirement already satisfied: soupsieve>1.2 in /opt/homebrew/Caskroom/miniconda/base/envs/rag/lib/python3.13/site-packages (from beautifulsoup4->unstructured) (2.6)\n",
      "Requirement already satisfied: marshmallow<4.0.0,>=3.18.0 in /opt/homebrew/Caskroom/miniconda/base/envs/rag/lib/python3.13/site-packages (from dataclasses-json->unstructured) (3.26.1)\n",
      "Requirement already satisfied: typing-inspect<1,>=0.4.0 in /opt/homebrew/Caskroom/miniconda/base/envs/rag/lib/python3.13/site-packages (from dataclasses-json->unstructured) (0.9.0)\n",
      "Requirement already satisfied: six>=1.9 in /opt/homebrew/Caskroom/miniconda/base/envs/rag/lib/python3.13/site-packages (from html5lib->unstructured) (1.17.0)\n",
      "Requirement already satisfied: webencodings in /opt/homebrew/Caskroom/miniconda/base/envs/rag/lib/python3.13/site-packages (from html5lib->unstructured) (0.5.1)\n",
      "Requirement already satisfied: olefile in /opt/homebrew/Caskroom/miniconda/base/envs/rag/lib/python3.13/site-packages (from python-oxmsg->unstructured) (0.47)\n",
      "Requirement already satisfied: charset-normalizer<4,>=2 in /opt/homebrew/Caskroom/miniconda/base/envs/rag/lib/python3.13/site-packages (from requests->unstructured) (3.4.1)\n",
      "Requirement already satisfied: idna<4,>=2.5 in /opt/homebrew/Caskroom/miniconda/base/envs/rag/lib/python3.13/site-packages (from requests->unstructured) (3.10)\n",
      "Requirement already satisfied: urllib3<3,>=1.21.1 in /opt/homebrew/Caskroom/miniconda/base/envs/rag/lib/python3.13/site-packages (from requests->unstructured) (2.3.0)\n",
      "Requirement already satisfied: certifi>=2017.4.17 in /opt/homebrew/Caskroom/miniconda/base/envs/rag/lib/python3.13/site-packages (from requests->unstructured) (2025.1.31)\n",
      "Requirement already satisfied: aiofiles>=24.1.0 in /opt/homebrew/Caskroom/miniconda/base/envs/rag/lib/python3.13/site-packages (from unstructured-client->unstructured) (24.1.0)\n",
      "Requirement already satisfied: cryptography>=3.1 in /opt/homebrew/Caskroom/miniconda/base/envs/rag/lib/python3.13/site-packages (from unstructured-client->unstructured) (44.0.2)\n",
      "Requirement already satisfied: eval-type-backport>=0.2.0 in /opt/homebrew/Caskroom/miniconda/base/envs/rag/lib/python3.13/site-packages (from unstructured-client->unstructured) (0.2.2)\n",
      "Requirement already satisfied: httpx>=0.27.0 in /opt/homebrew/Caskroom/miniconda/base/envs/rag/lib/python3.13/site-packages (from unstructured-client->unstructured) (0.28.1)\n",
      "Requirement already satisfied: nest-asyncio>=1.6.0 in /opt/homebrew/Caskroom/miniconda/base/envs/rag/lib/python3.13/site-packages (from unstructured-client->unstructured) (1.6.0)\n",
      "Requirement already satisfied: pydantic>=2.10.3 in /opt/homebrew/Caskroom/miniconda/base/envs/rag/lib/python3.13/site-packages (from unstructured-client->unstructured) (2.10.6)\n",
      "Requirement already satisfied: python-dateutil>=2.8.2 in /opt/homebrew/Caskroom/miniconda/base/envs/rag/lib/python3.13/site-packages (from unstructured-client->unstructured) (2.9.0.post0)\n",
      "Requirement already satisfied: requests-toolbelt>=1.0.0 in /opt/homebrew/Caskroom/miniconda/base/envs/rag/lib/python3.13/site-packages (from unstructured-client->unstructured) (1.0.0)\n",
      "Requirement already satisfied: typing-inspection>=0.4.0 in /opt/homebrew/Caskroom/miniconda/base/envs/rag/lib/python3.13/site-packages (from unstructured-client->unstructured) (0.4.0)\n",
      "Requirement already satisfied: cffi>=1.12 in /opt/homebrew/Caskroom/miniconda/base/envs/rag/lib/python3.13/site-packages (from cryptography>=3.1->unstructured-client->unstructured) (1.17.1)\n",
      "Requirement already satisfied: anyio in /opt/homebrew/Caskroom/miniconda/base/envs/rag/lib/python3.13/site-packages (from httpx>=0.27.0->unstructured-client->unstructured) (4.8.0)\n",
      "Requirement already satisfied: httpcore==1.* in /opt/homebrew/Caskroom/miniconda/base/envs/rag/lib/python3.13/site-packages (from httpx>=0.27.0->unstructured-client->unstructured) (1.0.7)\n",
      "Requirement already satisfied: h11<0.15,>=0.13 in /opt/homebrew/Caskroom/miniconda/base/envs/rag/lib/python3.13/site-packages (from httpcore==1.*->httpx>=0.27.0->unstructured-client->unstructured) (0.14.0)\n",
      "Requirement already satisfied: packaging>=17.0 in /opt/homebrew/Caskroom/miniconda/base/envs/rag/lib/python3.13/site-packages (from marshmallow<4.0.0,>=3.18.0->dataclasses-json->unstructured) (24.2)\n",
      "Requirement already satisfied: annotated-types>=0.6.0 in /opt/homebrew/Caskroom/miniconda/base/envs/rag/lib/python3.13/site-packages (from pydantic>=2.10.3->unstructured-client->unstructured) (0.7.0)\n",
      "Requirement already satisfied: pydantic-core==2.27.2 in /opt/homebrew/Caskroom/miniconda/base/envs/rag/lib/python3.13/site-packages (from pydantic>=2.10.3->unstructured-client->unstructured) (2.27.2)\n",
      "Requirement already satisfied: mypy-extensions>=0.3.0 in /opt/homebrew/Caskroom/miniconda/base/envs/rag/lib/python3.13/site-packages (from typing-inspect<1,>=0.4.0->dataclasses-json->unstructured) (1.0.0)\n",
      "Requirement already satisfied: pycparser in /opt/homebrew/Caskroom/miniconda/base/envs/rag/lib/python3.13/site-packages (from cffi>=1.12->cryptography>=3.1->unstructured-client->unstructured) (2.22)\n",
      "Requirement already satisfied: sniffio>=1.1 in /opt/homebrew/Caskroom/miniconda/base/envs/rag/lib/python3.13/site-packages (from anyio->httpx>=0.27.0->unstructured-client->unstructured) (1.3.1)\n"
     ]
    }
   ],
   "source": [
    "! pip3 install docx2txt pypdf nltk unstructured networkx openpyxl"
   ]
  },
  {
   "cell_type": "markdown",
   "metadata": {},
   "source": [
    "### 2 第一个 加载 docx"
   ]
  },
  {
   "cell_type": "code",
   "execution_count": 3,
   "metadata": {},
   "outputs": [
    {
     "data": {
      "text/plain": [
       "[Document(metadata={'source': '/Users/baisongtao/mycode/LLMClass01/03-ChatDoc/files/file.docx'}, page_content='电吉他教学服务合同 \\n\\n合同编号：_______________  \\n\\n\\n\\n甲方（学员/家长）：  \\n\\n姓名：___________________________  \\n\\n身份证号：_______________________  \\n\\n联系方式：_______________________\\n\\n\\n\\n乙方（教师）：  \\n\\n姓名：___________________________  \\n\\n身份证号：_______________________  \\n\\n联系方式：_______________________\\n\\n\\n\\n\\n\\n\\n\\n第一条 合同主体  \\n\\n1. 甲方为学员本人或法定监护人，具有签订本合同的权利和能力，需按时支付教学费用并配合教学安排。  \\n\\n2. 乙方 _____________________ 专业教师，承诺提供高质量的一对一教学服务。  \\n\\n\\n\\n\\n\\n第二条 教学服务内容\\n\\n1. 教学乐器：电吉他（含必要配件，如效果器、拨片等）。  \\n\\n2. 教学目标：通过系统教学，帮助学员掌握电吉他基本演奏技巧、音阶、和弦、节奏及即兴演奏能力，提升音乐表现力。  \\n\\n3. 教学方式：采用一对一面授方式，结合理论讲解、示范演奏与实践练习。  \\n\\n\\n\\n\\n\\n第三条 教学安排 \\n\\n1. 服务地点：乙方指定教学场所（详细地址：__________________________________________），如需变更需提前3日协商一致。  \\n\\n2. 单次服务时间：  \\n\\n   - 每次课程时长：_________小时（建议45分钟-1小时）  \\n\\n   - 课程周期：自_________年_________月_________日起至_________年_________月_________日止，每周_________次。  \\n\\n3. 课程阶段：根据学员水平动态调整，初期侧重基础技巧，后期逐步增加复杂曲目与即兴创作。  \\n\\n\\n\\n\\n\\n\\n\\n第四条 教学费用\\n\\n1. 收费标准：人民币_________元/课时（含税），总费用_________元。  \\n\\n2. 支付方式：  \\n\\n   - 首期费用：合同签订后3日内支付总费用的30%  \\n\\n   - 后续费用：每完成5课时支付剩余费用（建议通过银行转账，备注“电吉他课程费”）。  \\n\\n3. 退费政策：  \\n\\n   - 因甲方原因退课：开课前全额退款；开课后按未完成课时比例扣除费用（单课时最低收费50%）。  \\n\\n   - 因乙方原因无法授课：全额退款并补偿已消耗课时费用。  \\n\\n   - 若有特殊情况，双方可协商一致退费。\\n\\n\\n\\n\\n\\n第五条 双方权利与义务 \\n\\n甲方义务:\\n\\n- 提供符合教学要求的环境（如安静、有电源插座）。  \\n\\n- 按时参加课程，特殊情况需提前24小时通知乙方。  \\n\\n\\n\\n乙方义务:  \\n\\n- 制定个性化教学计划并定期反馈进度。  \\n\\n- 保证教学质量，不得泄露学员隐私。  \\n\\n\\n\\n\\n\\n第六条 违约责任 \\n\\n1. 甲方逾期支付费用超过7日，乙方有权暂停授课并要求支付每日0.5%滞纳金。  \\n\\n2. 乙方未达标完成教学任务，需退还相应课时费用（按实际完成比例计算）。  \\n\\n\\n\\n\\n\\n第七条 争议解决\\n\\n合同履行中发生争议，双方应协商解决；协商不成可向乙方所在地人民法院提起诉讼。  \\n\\n\\n\\n\\n\\n第八条 其他条款\\n\\n1. 本合同一式两份，甲乙双方各执一份，自签字后生效。  \\n\\n2. 未尽事宜可签订补充协议，与本合同具有同等效力。  \\n\\n3. 此合同最终解释权归乙方所有。\\n\\n\\n\\n\\n\\n\\n\\n甲方签字：______________  日期：_______年___月___日  \\n\\n\\n\\n乙方签字：______________  日期：_______年___月___日  \\n\\n\\t\\t\\t页码：/')]"
      ]
     },
     "execution_count": 3,
     "metadata": {},
     "output_type": "execute_result"
    }
   ],
   "source": [
    "# 导入必须的包\n",
    "from langchain.document_loaders import Docx2txtLoader\n",
    "\n",
    "# 定义ChatDoc\n",
    "class ChatDoc():\n",
    "  def getFile(path):\n",
    "    loader = Docx2txtLoader(path)\n",
    "    text = loader.load()\n",
    "    return text\n",
    "\n",
    "ChatDoc.getFile('/Users/baisongtao/mycode/LLMClass01/03-ChatDoc/files/file.docx')"
   ]
  },
  {
   "cell_type": "markdown",
   "metadata": {},
   "source": [
    "### 3 第二个 加载PDF文档"
   ]
  },
  {
   "cell_type": "code",
   "execution_count": 5,
   "metadata": {},
   "outputs": [
    {
     "name": "stderr",
     "output_type": "stream",
     "text": [
      "Ignoring wrong pointing object 7 0 (offset 0)\n",
      "Ignoring wrong pointing object 18 0 (offset 0)\n",
      "Ignoring wrong pointing object 19 0 (offset 0)\n"
     ]
    },
    {
     "data": {
      "text/plain": [
       "[Document(metadata={'producer': 'macOS 版本15.3.2（版号24D81） Quartz PDFContext', 'creator': 'Pages 文稿', 'creationdate': \"D:20250325010133Z00'00'\", 'title': 'file', 'moddate': \"D:20250325010133Z00'00'\", 'source': '/Users/baisongtao/mycode/LLMClass01/03-ChatDoc/files/file.pdf', 'total_pages': 2, 'page': 0, 'page_label': '1'}, page_content='电吉他教学服务合同  合同编号：_______________   \\n甲⽅（学员/家⻓）：   \\n姓名：___________________________   \\n身份证号：_______________________   \\n联系⽅式：_______________________ \\n⼄⽅（教师）：   \\n姓名：___________________________   \\n身份证号：_______________________   \\n联系⽅式：_______________________ \\n第⼀条 合同主体   \\n1. 甲⽅为学员本⼈或法定监护⼈，具有签订本合同的权利和能⼒，需按时⽀付教学费⽤并配合教学\\n安排。   \\n2. ⼄⽅ _____________________ 专业教师，承诺提供⾼质量的⼀对⼀教学服务。   \\n第⼆条 教学服务内容 \\n1. 教学乐器：电吉他（含必要配件，如效果器、拨⽚等）。   \\n2. 教学⽬标：通过系统教学，帮助学员掌握电吉他基本演奏技巧、⾳阶、和弦、节奏及即兴演奏能\\n⼒，提升⾳乐表现⼒。   \\n3. 教学⽅式：采⽤⼀对⼀⾯授⽅式，结合理论讲解、示范演奏与实践练习。   \\n第三条 教学安排  \\n1. 服务地点：⼄⽅指定教学场所（详细地址：__________________________________________），\\n如需变更需提前3⽇协商⼀致。   \\n2. 单次服务时间：   \\n   - 每次课程时⻓：_________⼩时（建议45分钟-1⼩时）   \\n   - 课程周期：⾃_________年_________⽉_________⽇起⾄_________年_________⽉_________⽇\\n⽌，每周_________次。   \\n3. 课程阶段：根据学员⽔平动态调整，初期侧重基础技巧，后期逐步增加复杂曲⽬与即兴创作。   \\n ⻚码： /1 2'),\n",
       " Document(metadata={'producer': 'macOS 版本15.3.2（版号24D81） Quartz PDFContext', 'creator': 'Pages 文稿', 'creationdate': \"D:20250325010133Z00'00'\", 'title': 'file', 'moddate': \"D:20250325010133Z00'00'\", 'source': '/Users/baisongtao/mycode/LLMClass01/03-ChatDoc/files/file.pdf', 'total_pages': 2, 'page': 1, 'page_label': '2'}, page_content='第四条 教学费⽤ \\n1. 收费标准：⼈⺠币_________元/课时（含税），总费⽤_________元。   \\n2. ⽀付⽅式：   \\n   - ⾸期费⽤：合同签订后3⽇内⽀付总费⽤的30%   \\n   - 后续费⽤：每完成5课时⽀付剩余费⽤（建议通过银⾏转账，备注“电吉他课程费”）。   \\n3. 退费政策：   \\n   - 因甲⽅原因退课：开课前全额退款；开课后按未完成课时⽐例扣除费⽤（单课时最低收费\\n50%）。   \\n   - 因⼄⽅原因⽆法授课：全额退款并补偿已消耗课时费⽤。   \\n   - 若有特殊情况，双⽅可协商⼀致退费。 \\n第五条 双⽅权利与义务  \\n甲⽅义务: \\n- 提供符合教学要求的环境（如安静、有电源插座）。   \\n- 按时参加课程，特殊情况需提前24⼩时通知⼄⽅。   \\n⼄⽅义务:   \\n- 制定个性化教学计划并定期反馈进度。   \\n- 保证教学质量，不得泄露学员隐私。   \\n第六条 违约责任  \\n1. 甲⽅逾期⽀付费⽤超过7⽇，⼄⽅有权暂停授课并要求⽀付每⽇0.5%滞纳⾦。   \\n2. ⼄⽅未达标完成教学任务，需退还相应课时费⽤（按实际完成⽐例计算）。   \\n第七条 争议解决 \\n合同履⾏中发⽣争议，双⽅应协商解决；协商不成可向⼄⽅所在地⼈⺠法院提起诉讼。   \\n第⼋条 其他条款 \\n1. 本合同⼀式两份，甲⼄双⽅各执⼀份，⾃签字后⽣效。   \\n2. 未尽事宜可签订补充协议，与本合同具有同等效⼒。   \\n3. 此合同最终解释权归⼄⽅所有。 \\n甲⽅签字：______________  ⽇期：_______年___⽉___⽇   \\n⼄⽅签字：______________  ⽇期：_______年___⽉___⽇  \\n ⻚码： /2 2')]"
      ]
     },
     "execution_count": 5,
     "metadata": {},
     "output_type": "execute_result"
    }
   ],
   "source": [
    "# 导入必须的包\n",
    "from langchain.document_loaders import PyPDFLoader\n",
    "\n",
    "# 定义ChatDoc\n",
    "class ChatDoc():\n",
    "  def getFile(path):\n",
    "    try:\n",
    "      loader = PyPDFLoader(path)\n",
    "      text = loader.load()\n",
    "      return text\n",
    "    except Exception as e:\n",
    "      print(f\"Error Load files: {e}\")\n",
    "\n",
    "ChatDoc.getFile('/Users/baisongtao/mycode/LLMClass01/03-ChatDoc/files/file.pdf')"
   ]
  },
  {
   "cell_type": "markdown",
   "metadata": {},
   "source": [
    "### 4 加载Excel"
   ]
  },
  {
   "cell_type": "code",
   "execution_count": 15,
   "metadata": {},
   "outputs": [
    {
     "data": {
      "text/plain": [
       "[Document(metadata={'source': '/Users/baisongtao/mycode/LLMClass01/03-ChatDoc/files/file.xlsx', 'file_directory': '/Users/baisongtao/mycode/LLMClass01/03-ChatDoc/files', 'filename': 'file.xlsx', 'last_modified': '2024-09-21T15:07:43', 'page_name': 'Sheet1', 'page_number': 1, 'text_as_html': '<table><tr><td>名称</td><td>电话</td><td>时间</td><td>状态</td><td/></tr><tr><td>曹 路 晴</td><td>18280465608</td><td>9:00-9:15</td><td>已预约</td><td>邹\\\\n996-603-326</td></tr><tr><td>曾 翔</td><td>19851623638</td><td/><td>放弃，前处理已面</td><td/></tr><tr><td>陈乐涵</td><td>18328349796</td><td/><td>模块已面试</td><td/></tr><tr><td>陈铭</td><td>18782577119</td><td>9:15-9:30</td><td>已预约</td><td/></tr><tr><td>陈然</td><td>18582474171</td><td>9:30-9:45</td><td>已预约</td><td/></tr><tr><td>陈 伟</td><td>15762529228</td><td>9:45-10:00</td><td>已预约</td><td/></tr><tr><td>陈希贤</td><td>13086627365</td><td>10:00-10:15</td><td>已预约</td><td/></tr><tr><td>陈孜越</td><td>15295795700</td><td/><td>放弃</td><td/></tr><tr><td>崔春</td><td>187-2547-4029</td><td>10:15-10:30</td><td>已预约</td><td/></tr><tr><td>崔筱婷</td><td>13934575832</td><td/><td>下次</td><td/></tr><tr><td>代清源</td><td>18837502106</td><td/><td>模块已面试</td><td/></tr><tr><td>赵铭卓</td><td>15284132623</td><td>10:30-10:45</td><td>已预约</td><td/></tr><tr><td>朱坤</td><td>18160186527</td><td/><td>模块已面试</td><td/></tr></table>', 'languages': ['zho'], 'filetype': 'application/vnd.openxmlformats-officedocument.spreadsheetml.sheet', 'category': 'Table', 'element_id': 'efe41f58efbe3fd148c61833e6f5e23f'}, page_content='名称 电话 时间 状态 曹 路 晴 18280465608 9:00-9:15 已预约 邹\\\\n996-603-326 曾 翔 19851623638 放弃，前处理已面 陈乐涵 18328349796 模块已面试 陈铭 18782577119 9:15-9:30 已预约 陈然 18582474171 9:30-9:45 已预约 陈 伟 15762529228 9:45-10:00 已预约 陈希贤 13086627365 10:00-10:15 已预约 陈孜越 15295795700 放弃 崔春 187-2547-4029 10:15-10:30 已预约 崔筱婷 13934575832 下次 代清源 18837502106 模块已面试 赵铭卓 15284132623 10:30-10:45 已预约 朱坤 18160186527 模块已面试'),\n",
       " Document(metadata={'source': '/Users/baisongtao/mycode/LLMClass01/03-ChatDoc/files/file.xlsx', 'file_directory': '/Users/baisongtao/mycode/LLMClass01/03-ChatDoc/files', 'filename': 'file.xlsx', 'last_modified': '2024-09-21T15:07:43', 'page_name': 'Sheet1', 'page_number': 1, 'text_as_html': '<table><tr><td>邓涛</td><td>18080962725</td><td>9:00-9:15</td><td>已预约</td><td>白\\\\n395-542-657</td></tr><tr><td>冯昊珵</td><td>19945235316</td><td/><td>上午没空，下次</td><td/></tr><tr><td>侯纪华</td><td>18581541061</td><td>9:15-9:30</td><td>已预约</td><td/></tr><tr><td>胡 帅</td><td>13098280414</td><td>9:30-9:45</td><td>已预约</td><td/></tr><tr><td>黄欣</td><td>18648098133</td><td>9:45-10:00</td><td>已预约</td><td/></tr><tr><td>雷洪艳</td><td>18328071705</td><td>10:00-10:15</td><td>已预约</td><td/></tr><tr><td>刘星宇</td><td>15771073022</td><td>10:15-10:30</td><td>已预约、主动放弃面试</td><td/></tr><tr><td>马 环</td><td>17389352851</td><td>10:30-10:45</td><td>已预约</td><td/></tr><tr><td>尚纪新</td><td>18093845628</td><td/><td>模块已经面了</td><td/></tr><tr><td>邵博</td><td>19182051906</td><td>10:45-11:00</td><td>已预约</td><td/></tr></table>', 'languages': ['zho'], 'filetype': 'application/vnd.openxmlformats-officedocument.spreadsheetml.sheet', 'category': 'Table', 'element_id': '0bec8e93d307d02b88ea9f3996259c71'}, page_content='邓涛 18080962725 9:00-9:15 已预约 白\\\\n395-542-657 冯昊珵 19945235316 上午没空，下次 侯纪华 18581541061 9:15-9:30 已预约 胡 帅 13098280414 9:30-9:45 已预约 黄欣 18648098133 9:45-10:00 已预约 雷洪艳 18328071705 10:00-10:15 已预约 刘星宇 15771073022 10:15-10:30 已预约、主动放弃面试 马 环 17389352851 10:30-10:45 已预约 尚纪新 18093845628 模块已经面了 邵博 19182051906 10:45-11:00 已预约'),\n",
       " Document(metadata={'source': '/Users/baisongtao/mycode/LLMClass01/03-ChatDoc/files/file.xlsx', 'file_directory': '/Users/baisongtao/mycode/LLMClass01/03-ChatDoc/files', 'filename': 'file.xlsx', 'last_modified': '2024-09-21T15:07:43', 'page_name': 'Sheet1', 'page_number': 1, 'text_as_html': '<table><tr><td>舒禹程</td><td>178 0702 3909</td><td>9:00-9:15</td><td>已预约</td><td>徐飞\\\\n420-388-365</td></tr><tr><td>滕宇</td><td>13388962842</td><td/><td>关机</td><td/></tr><tr><td>田明江</td><td>18225475103</td><td/><td>模块已经面了</td><td/></tr><tr><td>王端滉</td><td>19123596093</td><td/><td>模块已经面了</td><td/></tr><tr><td>王浩渊</td><td>13378162289</td><td>9:15-9:30</td><td>已预约</td><td/></tr><tr><td>王朗亭</td><td>18081045855</td><td/><td>下次</td><td/></tr><tr><td>王铁霖</td><td>18048559150</td><td>9:30-9:45</td><td>已预约</td><td/></tr><tr><td>吴范钶</td><td>18281352223</td><td>9:45-10:00</td><td>已预约</td><td/></tr><tr><td>吴小兵</td><td>15235112179</td><td>10:00-10:15</td><td>已预约</td><td/></tr><tr><td>熊永康</td><td>18628988298</td><td/><td>未接通</td><td/></tr><tr><td>许锦程</td><td>18696723130</td><td>10:15-10:30</td><td>已预约</td><td/></tr><tr><td>郑剀中</td><td>13120497487</td><td>10:30-10:45</td><td>已预约</td><td/></tr></table>', 'languages': ['zho'], 'filetype': 'application/vnd.openxmlformats-officedocument.spreadsheetml.sheet', 'category': 'Table', 'element_id': '9cda179fa828dea7ed9809588bdd1d53'}, page_content='舒禹程 178 0702 3909 9:00-9:15 已预约 徐飞\\\\n420-388-365 滕宇 13388962842 关机 田明江 18225475103 模块已经面了 王端滉 19123596093 模块已经面了 王浩渊 13378162289 9:15-9:30 已预约 王朗亭 18081045855 下次 王铁霖 18048559150 9:30-9:45 已预约 吴范钶 18281352223 9:45-10:00 已预约 吴小兵 15235112179 10:00-10:15 已预约 熊永康 18628988298 未接通 许锦程 18696723130 10:15-10:30 已预约 郑剀中 13120497487 10:30-10:45 已预约'),\n",
       " Document(metadata={'source': '/Users/baisongtao/mycode/LLMClass01/03-ChatDoc/files/file.xlsx', 'file_directory': '/Users/baisongtao/mycode/LLMClass01/03-ChatDoc/files', 'filename': 'file.xlsx', 'last_modified': '2024-09-21T15:07:43', 'page_name': 'Sheet1', 'page_number': 1, 'text_as_html': '<table><tr><td>杨西京</td><td>13475097236</td><td/><td>未接通</td><td>范阳\\\\n385-299-887</td></tr><tr><td>叶磊</td><td>177-2502-4153</td><td/><td>下次</td><td/></tr><tr><td>易灵敏</td><td>18874974810</td><td/><td>模块已经面了</td><td/></tr><tr><td>于德友</td><td>13841155387</td><td>9:00-9:15</td><td>已预约</td><td/></tr><tr><td>于兴超</td><td>18845107036</td><td>9:15-9:30</td><td>已预约</td><td/></tr><tr><td>余亦豪</td><td>18048565205</td><td>9:30-9:45</td><td>已预约</td><td/></tr><tr><td>俞振兴</td><td>17828176825</td><td>9:45-10:00</td><td>已预约</td><td/></tr><tr><td>悦茂苓</td><td>177-6113-2416</td><td/><td>模块已经面了</td><td/></tr><tr><td>张 浩</td><td>181-8100-1608</td><td>10:00-10:15</td><td>已预约</td><td/></tr><tr><td>张荣炜</td><td>15959675651</td><td/><td>下次</td><td/></tr><tr><td>张鑫宇</td><td>13350899131</td><td>10:15-10:30</td><td>已预约</td><td/></tr><tr><td>刘旻帑</td><td>186-2831-6265</td><td>10:30-10:45</td><td>已预约</td><td/></tr><tr><td>周鑫睿</td><td>18702333261</td><td>10:45-11:00</td><td>已预约</td><td/></tr></table>', 'languages': ['zho'], 'filetype': 'application/vnd.openxmlformats-officedocument.spreadsheetml.sheet', 'category': 'Table', 'element_id': 'd86dd14f98f5eeaca8f16fc0471a21e3'}, page_content='杨西京 13475097236 未接通 范阳\\\\n385-299-887 叶磊 177-2502-4153 下次 易灵敏 18874974810 模块已经面了 于德友 13841155387 9:00-9:15 已预约 于兴超 18845107036 9:15-9:30 已预约 余亦豪 18048565205 9:30-9:45 已预约 俞振兴 17828176825 9:45-10:00 已预约 悦茂苓 177-6113-2416 模块已经面了 张 浩 181-8100-1608 10:00-10:15 已预约 张荣炜 15959675651 下次 张鑫宇 13350899131 10:15-10:30 已预约 刘旻帑 186-2831-6265 10:30-10:45 已预约 周鑫睿 18702333261 10:45-11:00 已预约')]"
      ]
     },
     "execution_count": 15,
     "metadata": {},
     "output_type": "execute_result"
    }
   ],
   "source": [
    "# 导入必须的包\n",
    "from langchain.document_loaders import UnstructuredExcelLoader\n",
    "\n",
    "# 定义ChatDoc\n",
    "class ChatDoc():\n",
    "  def getFile(path):\n",
    "    try:\n",
    "      loader = UnstructuredExcelLoader(path, mode='elements')\n",
    "      text = loader.load()\n",
    "      return text\n",
    "    except Exception as e:\n",
    "      print(f\"Error Load files: {e}\")\n",
    "\n",
    "ChatDoc.getFile('/Users/baisongtao/mycode/LLMClass01/03-ChatDoc/files/file.xlsx')"
   ]
  },
  {
   "cell_type": "markdown",
   "metadata": {},
   "source": [
    "### 5 整合 动态加载三种格式"
   ]
  },
  {
   "cell_type": "code",
   "execution_count": 22,
   "metadata": {},
   "outputs": [
    {
     "name": "stdout",
     "output_type": "stream",
     "text": [
      "[Document(metadata={'source': '/Users/baisongtao/mycode/LLMClass01/03-ChatDoc/files/file.docx'}, page_content='电吉他教学服务合同 \\n\\n合同编号：_______________  \\n\\n甲方（学员/家长）：  \\n\\n姓名：___________________________'), Document(metadata={'source': '/Users/baisongtao/mycode/LLMClass01/03-ChatDoc/files/file.docx'}, page_content='身份证号：_______________________  \\n\\n联系方式：_______________________\\n\\n乙方（教师）：'), Document(metadata={'source': '/Users/baisongtao/mycode/LLMClass01/03-ChatDoc/files/file.docx'}, page_content='乙方（教师）：  \\n\\n姓名：___________________________  \\n\\n身份证号：_______________________'), Document(metadata={'source': '/Users/baisongtao/mycode/LLMClass01/03-ChatDoc/files/file.docx'}, page_content='联系方式：_______________________\\n\\n第一条 合同主体  \\n\\n1. 甲方为学员本人或法定监护人，具有签订本合同的权利和能力，需按时支付教学费用并配合教学安排。'), Document(metadata={'source': '/Users/baisongtao/mycode/LLMClass01/03-ChatDoc/files/file.docx'}, page_content='2. 乙方 _____________________ 专业教师，承诺提供高质量的一对一教学服务。  \\n\\n第二条 教学服务内容\\n\\n1. 教学乐器：电吉他（含必要配件，如效果器、拨片等）。'), Document(metadata={'source': '/Users/baisongtao/mycode/LLMClass01/03-ChatDoc/files/file.docx'}, page_content='2. 教学目标：通过系统教学，帮助学员掌握电吉他基本演奏技巧、音阶、和弦、节奏及即兴演奏能力，提升音乐表现力。  \\n\\n3. 教学方式：采用一对一面授方式，结合理论讲解、示范演奏与实践练习。'), Document(metadata={'source': '/Users/baisongtao/mycode/LLMClass01/03-ChatDoc/files/file.docx'}, page_content='第三条 教学安排 \\n\\n1. 服务地点：乙方指定教学场所（详细地址：__________________________________________），如需变更需提前3日协商一致。'), Document(metadata={'source': '/Users/baisongtao/mycode/LLMClass01/03-ChatDoc/files/file.docx'}, page_content='2. 单次服务时间：  \\n\\n   - 每次课程时长：_________小时（建议45分钟-1小时）'), Document(metadata={'source': '/Users/baisongtao/mycode/LLMClass01/03-ChatDoc/files/file.docx'}, page_content='- 课程周期：自_________年_________月_________日起至_________年_________月_________日止，每周_________次。'), Document(metadata={'source': '/Users/baisongtao/mycode/LLMClass01/03-ChatDoc/files/file.docx'}, page_content='3. 课程阶段：根据学员水平动态调整，初期侧重基础技巧，后期逐步增加复杂曲目与即兴创作。  \\n\\n第四条 教学费用'), Document(metadata={'source': '/Users/baisongtao/mycode/LLMClass01/03-ChatDoc/files/file.docx'}, page_content='第四条 教学费用\\n\\n1. 收费标准：人民币_________元/课时（含税），总费用_________元。  \\n\\n2. 支付方式：  \\n\\n   - 首期费用：合同签订后3日内支付总费用的30%'), Document(metadata={'source': '/Users/baisongtao/mycode/LLMClass01/03-ChatDoc/files/file.docx'}, page_content='- 后续费用：每完成5课时支付剩余费用（建议通过银行转账，备注“电吉他课程费”）。  \\n\\n3. 退费政策：'), Document(metadata={'source': '/Users/baisongtao/mycode/LLMClass01/03-ChatDoc/files/file.docx'}, page_content='3. 退费政策：  \\n\\n   - 因甲方原因退课：开课前全额退款；开课后按未完成课时比例扣除费用（单课时最低收费50%）。  \\n\\n   - 因乙方原因无法授课：全额退款并补偿已消耗课时费用。'), Document(metadata={'source': '/Users/baisongtao/mycode/LLMClass01/03-ChatDoc/files/file.docx'}, page_content='- 若有特殊情况，双方可协商一致退费。\\n\\n第五条 双方权利与义务 \\n\\n甲方义务:\\n\\n- 提供符合教学要求的环境（如安静、有电源插座）。'), Document(metadata={'source': '/Users/baisongtao/mycode/LLMClass01/03-ChatDoc/files/file.docx'}, page_content='- 按时参加课程，特殊情况需提前24小时通知乙方。  \\n\\n乙方义务:  \\n\\n- 制定个性化教学计划并定期反馈进度。  \\n\\n- 保证教学质量，不得泄露学员隐私。  \\n\\n第六条 违约责任'), Document(metadata={'source': '/Users/baisongtao/mycode/LLMClass01/03-ChatDoc/files/file.docx'}, page_content='第六条 违约责任 \\n\\n1. 甲方逾期支付费用超过7日，乙方有权暂停授课并要求支付每日0.5%滞纳金。  \\n\\n2. 乙方未达标完成教学任务，需退还相应课时费用（按实际完成比例计算）。'), Document(metadata={'source': '/Users/baisongtao/mycode/LLMClass01/03-ChatDoc/files/file.docx'}, page_content='第七条 争议解决\\n\\n合同履行中发生争议，双方应协商解决；协商不成可向乙方所在地人民法院提起诉讼。  \\n\\n第八条 其他条款\\n\\n1. 本合同一式两份，甲乙双方各执一份，自签字后生效。'), Document(metadata={'source': '/Users/baisongtao/mycode/LLMClass01/03-ChatDoc/files/file.docx'}, page_content='2. 未尽事宜可签订补充协议，与本合同具有同等效力。  \\n\\n3. 此合同最终解释权归乙方所有。\\n\\n甲方签字：______________  日期：_______年___月___日'), Document(metadata={'source': '/Users/baisongtao/mycode/LLMClass01/03-ChatDoc/files/file.docx'}, page_content='乙方签字：______________  日期：_______年___月___日  \\n\\n\\t\\t\\t页码：/')]\n"
     ]
    }
   ],
   "source": [
    "# 导入必须的包\n",
    "from langchain.document_loaders import Docx2txtLoader\n",
    "from langchain.document_loaders import PyPDFLoader\n",
    "from langchain.document_loaders import UnstructuredExcelLoader\n",
    "from langchain.text_splitter import CharacterTextSplitter\n",
    "\n",
    "# 定义ChatDoc\n",
    "class ChatDoc():\n",
    "  def __init__(self):\n",
    "    self.doc = None\n",
    "    self.splitText = []\n",
    "\n",
    "  def getFile(self):\n",
    "    doc = self.doc\n",
    "    loaders = {\n",
    "      \"docx\":Docx2txtLoader,\n",
    "      \"pdf\":PyPDFLoader,\n",
    "      \"xlsx\":UnstructuredExcelLoader\n",
    "    }\n",
    "    file_extension = doc.split(\".\")[-1]\n",
    "    loader_class = loaders.get(file_extension)\n",
    "    if loader_class:\n",
    "      try:\n",
    "        loader = loader_class(doc)\n",
    "        text = loader.load()\n",
    "        return text\n",
    "      except Exception as e:\n",
    "        print(f\"Error Loading {file_extension} files: {e}\")\n",
    "    else:\n",
    "      print(f\"Unsupported Loading {file_extension} files: {e}\")\n",
    "      return None\n",
    "\n",
    "  # 文档分割\n",
    "  def splitSentences(self):\n",
    "    full_text = self.getFile()\n",
    "    if full_text != None :\n",
    "      # 对文档进行切割\n",
    "      text_splitter = CharacterTextSplitter(chunk_size=100, chunk_overlap=20)\n",
    "      texts = text_splitter.split_documents(full_text)\n",
    "      self.splitText = texts\n",
    "\n",
    "chat_doc = ChatDoc()\n",
    "chat_doc.doc = \"/Users/baisongtao/mycode/LLMClass01/03-ChatDoc/files/file.docx\"\n",
    "chat_doc.splitSentences()\n",
    "print(chat_doc.splitText)"
   ]
  }
 ],
 "metadata": {
  "kernelspec": {
   "display_name": "rag",
   "language": "python",
   "name": "python3"
  },
  "language_info": {
   "codemirror_mode": {
    "name": "ipython",
    "version": 3
   },
   "file_extension": ".py",
   "mimetype": "text/x-python",
   "name": "python",
   "nbconvert_exporter": "python",
   "pygments_lexer": "ipython3",
   "version": "3.13.2"
  }
 },
 "nbformat": 4,
 "nbformat_minor": 2
}
