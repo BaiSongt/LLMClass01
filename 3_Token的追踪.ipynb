{
 "cells": [
  {
   "cell_type": "markdown",
   "metadata": {},
   "source": [
    "## 追踪Token的使用情况"
   ]
  },
  {
   "cell_type": "code",
   "execution_count": 7,
   "metadata": {},
   "outputs": [
    {
     "name": "stdout",
     "output_type": "stream",
     "text": [
      "<think>\n",
      "嗯，用户让我讲一个50字以内的笑话。首先，我得想一下什么是最符合这个要求的笑话。笑话通常需要幽默和有趣，所以得找一个简单又容易理解的情节。\n",
      "\n",
      "可能的话，我可以从日常生活中的小事件入手。比如，家里的事情或者朋友之间的互动。考虑到字数限制，最好是简短有力，不拖泥带水。\n",
      "\n",
      "再想想，有没有什么常见的场景容易引发笑料。比如说，下雨天的雨伞被淋湿了，这样的情景很常见，而且大家都有类似的经历，容易让人产生共鸣。\n",
      "\n",
      "然后，结构上可以先描述环境，比如“雨天的雨伞”，接着引入人物，“我撑了一把”，再讲一下发现情况，最后搞笑的结果：“原来是我自己买的雨伞”。\n",
      "\n",
      "这样整个情节就清晰了：雨天，撑一把伞，发现有问题，结果是自己买的。这样的笑话既简单又容易理解，而且符合字数要求。\n",
      "\n",
      "另外，要注意语言的简洁和生动，避免过于冗长。用一些感叹词或者夸张的动作，比如“把伞淋湿了”，让笑话更有冲击力。\n",
      "\n",
      "最后，检查一下是否在50字以内，确保没有超过限制，并且笑点明显。看起来是完美的，符合用户的要求。\n",
      "</think>\n",
      "\n",
      "雨天的雨伞被淋湿了，我撑了一把，发现是自己买的。Tokens Used: 0\n",
      "\tPrompt Tokens: 0\n",
      "\t\tPrompt Tokens Cached: 0\n",
      "\tCompletion Tokens: 0\n",
      "\t\tReasoning Tokens: 0\n",
      "Successful Requests: 0\n",
      "Total Cost (USD): $0.0\n"
     ]
    }
   ],
   "source": [
    "from langchain_ollama import OllamaLLM\n",
    "from langchain.callbacks import get_openai_callback\n",
    "\n",
    "# 指定本地模型名称或路径\n",
    "ollama_llm = OllamaLLM(\n",
    "    model=\"deepseek-r1:1.5b\",  # 例如DeepSeek-R1 1.5B模型\n",
    "    base_url=\"http://localhost:11434\",  # Ollama默认地址\n",
    "    type=\"llm\",  # 指定模型类型为LLM\n",
    ")\n",
    "\n",
    "with get_openai_callback() as cp :\n",
    "  for i in ollama_llm.stream(\"讲一个50字以内的笑话\"):\n",
    "    print(i, end=\"\", flush=False)\n",
    "  print(cp)\n"
   ]
  }
 ],
 "metadata": {
  "kernelspec": {
   "display_name": "AI_Class",
   "language": "python",
   "name": "python3"
  },
  "language_info": {
   "codemirror_mode": {
    "name": "ipython",
    "version": 3
   },
   "file_extension": ".py",
   "mimetype": "text/x-python",
   "name": "python",
   "nbconvert_exporter": "python",
   "pygments_lexer": "ipython3",
   "version": "3.12.9"
  }
 },
 "nbformat": 4,
 "nbformat_minor": 2
}
