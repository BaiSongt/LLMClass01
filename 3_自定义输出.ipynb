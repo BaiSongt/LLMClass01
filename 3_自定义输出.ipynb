{
 "cells": [
  {
   "cell_type": "markdown",
   "metadata": {},
   "source": [
    "## 自定义输出\n",
    " - 输出函数参数\n",
    " - 输出 json\n",
    " - 输出 List\n",
    " - 输出 日期等等"
   ]
  },
  {
   "cell_type": "markdown",
   "metadata": {},
   "source": [
    "### 讲笑话机器人 \n",
    "- 希望每次根据指令，可以输出一个这样的笑话：小王怎么死的？蠢死的。"
   ]
  },
  {
   "cell_type": "code",
   "execution_count": 21,
   "metadata": {},
   "outputs": [
    {
     "ename": "AttributeError",
     "evalue": "type object 'JokeResponse' has no attribute 'model_json_schema'",
     "output_type": "error",
     "traceback": [
      "\u001b[31m---------------------------------------------------------------------------\u001b[39m",
      "\u001b[31mAttributeError\u001b[39m                            Traceback (most recent call last)",
      "\u001b[36mCell\u001b[39m\u001b[36m \u001b[39m\u001b[32mIn[21]\u001b[39m\u001b[32m, line 36\u001b[39m\n\u001b[32m     29\u001b[39m         \u001b[38;5;28;01mreturn\u001b[39;00m field.value\n\u001b[32m     31\u001b[39m parser = PydanticOutputParser(pydantic_object=JokeResponse)\n\u001b[32m     33\u001b[39m pt = PromptTemplate(\n\u001b[32m     34\u001b[39m     template=\u001b[33m\"\u001b[39m\u001b[33m回答用户的输入.\u001b[39m\u001b[38;5;130;01m\\n\u001b[39;00m\u001b[38;5;132;01m{format_instruction}\u001b[39;00m\u001b[38;5;130;01m\\n\u001b[39;00m\u001b[38;5;132;01m{query}\u001b[39;00m\u001b[38;5;130;01m\\n\u001b[39;00m\u001b[33m\"\u001b[39m,\n\u001b[32m     35\u001b[39m     input_variables=[\u001b[33m\"\u001b[39m\u001b[33mquery\u001b[39m\u001b[33m\"\u001b[39m],\n\u001b[32m---> \u001b[39m\u001b[32m36\u001b[39m     partial_variables={\u001b[33m\"\u001b[39m\u001b[33mformat_instruction\u001b[39m\u001b[33m\"\u001b[39m: \u001b[43mparser\u001b[49m\u001b[43m.\u001b[49m\u001b[43mget_format_instructions\u001b[49m\u001b[43m(\u001b[49m\u001b[43m)\u001b[49m},\n\u001b[32m     37\u001b[39m )\n\u001b[32m     39\u001b[39m prompt_amd_model = pt | llm\n\u001b[32m     40\u001b[39m out_put = prompt_amd_model.invoke({\u001b[33m\"\u001b[39m\u001b[33mquery\u001b[39m\u001b[33m\"\u001b[39m: \u001b[33m\"\u001b[39m\u001b[33m给我讲一个笑话\u001b[39m\u001b[33m\"\u001b[39m})\n",
      "\u001b[36mFile \u001b[39m\u001b[32m/opt/homebrew/Caskroom/miniconda/base/envs/AI_Class/lib/python3.12/site-packages/langchain_core/output_parsers/pydantic.py:92\u001b[39m, in \u001b[36mPydanticOutputParser.get_format_instructions\u001b[39m\u001b[34m(self)\u001b[39m\n\u001b[32m     86\u001b[39m \u001b[38;5;250m\u001b[39m\u001b[33;03m\"\"\"Return the format instructions for the JSON output.\u001b[39;00m\n\u001b[32m     87\u001b[39m \n\u001b[32m     88\u001b[39m \u001b[33;03mReturns:\u001b[39;00m\n\u001b[32m     89\u001b[39m \u001b[33;03m    The format instructions for the JSON output.\u001b[39;00m\n\u001b[32m     90\u001b[39m \u001b[33;03m\"\"\"\u001b[39;00m\n\u001b[32m     91\u001b[39m \u001b[38;5;66;03m# Copy schema to avoid altering original Pydantic schema.\u001b[39;00m\n\u001b[32m---> \u001b[39m\u001b[32m92\u001b[39m schema = \u001b[38;5;28mdict\u001b[39m(\u001b[38;5;28;43mself\u001b[39;49m\u001b[43m.\u001b[49m\u001b[43mpydantic_object\u001b[49m\u001b[43m.\u001b[49m\u001b[43mmodel_json_schema\u001b[49m().items())\n\u001b[32m     94\u001b[39m \u001b[38;5;66;03m# Remove extraneous fields.\u001b[39;00m\n\u001b[32m     95\u001b[39m reduced_schema = schema\n",
      "\u001b[31mAttributeError\u001b[39m: type object 'JokeResponse' has no attribute 'model_json_schema'"
     ]
    }
   ],
   "source": [
    "from langchain_ollama import OllamaLLM\n",
    "from langchain.output_parsers import PydanticOutputParser\n",
    "from langchain.prompts import PromptTemplate\n",
    "from langchain.pydantic_v1 import BaseModel, Field, validator\n",
    "from typing import List\n",
    "\n",
    "llm = OllamaLLM(\n",
    "    model=\"llama3.1:8b\",\n",
    "    base_url=\"http://localhost:11434\",\n",
    ")\n",
    "\n",
    "class JokeResponse(BaseModel):\n",
    "    setup: str = Field(description=\"笑话的问题\")\n",
    "    punchline: str = Field(description=\"笑话的答案\")\n",
    "\n",
    "    # model_json_schema = {\n",
    "    #     \"type\": \"object\",\n",
    "    #     \"properties\": {\n",
    "    #         \"setup\": {\"type\": \"string\"},\n",
    "    #         \"punchline\": {\"type\": \"string\"}\n",
    "    #     },\n",
    "    #     \"required\": [\"setup\", \"punchline\"]\n",
    "    # }\n",
    "\n",
    "    @validator(\"setup\")\n",
    "    def check_setup(cls, field: Field):\n",
    "        if field.value[-1] != \"?\":\n",
    "            raise ValueError(\"问题必须以问号结尾\")\n",
    "        return field.value\n",
    "\n",
    "parser = PydanticOutputParser(pydantic_object=JokeResponse)\n",
    "\n",
    "pt = PromptTemplate(\n",
    "    template=\"回答用户的输入.\\n{format_instruction}\\n{query}\\n\",\n",
    "    input_variables=[\"query\"],\n",
    "    partial_variables={\"format_instruction\": parser.get_format_instructions()},\n",
    ")\n",
    "\n",
    "prompt_amd_model = pt | llm\n",
    "out_put = prompt_amd_model.invoke({\"query\": \"给我讲一个笑话\"})\n",
    "print(\"输出结果:\\n\", out_put)\n",
    "\n",
    "# 验证解析结果\n",
    "parsed_output = parser.invoke(out_put)\n",
    "print(\"解析后的结构:\\n\", parsed_output)"
   ]
  }
 ],
 "metadata": {
  "kernelspec": {
   "display_name": "AI_Class",
   "language": "python",
   "name": "python3"
  },
  "language_info": {
   "codemirror_mode": {
    "name": "ipython",
    "version": 3
   },
   "file_extension": ".py",
   "mimetype": "text/x-python",
   "name": "python",
   "nbconvert_exporter": "python",
   "pygments_lexer": "ipython3",
   "version": "3.12.9"
  }
 },
 "nbformat": 4,
 "nbformat_minor": 2
}
