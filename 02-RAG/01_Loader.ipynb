{
 "cells": [
  {
   "cell_type": "markdown",
   "metadata": {},
   "source": [
    "## RAG\n",
    "### Loader\n",
    "文件加载\n",
    " - 加载 JSON\n",
    " - 加载 PDF\n",
    " - 加载 图片、视频\n",
    " - 加载 markdown\n",
    " - 加载 html\n",
    " - 加载 txt, csv\n",
    " - ... ..."
   ]
  },
  {
   "cell_type": "code",
   "execution_count": null,
   "metadata": {},
   "outputs": [],
   "source": [
    "from langchain.document_loaders import TextLoader\n",
    "\n",
    "md_loader = TextLoader(\"loaded_files/ex.md\")\n",
    "print(md_loader.load())\n",
    "\n",
    "txt_loader = TextLoader(\"loaded_files/ex.txt\")\n",
    "print(txt_loader.load())"
   ]
  },
  {
   "cell_type": "markdown",
   "metadata": {},
   "source": [
    "#### 加载CSV文件"
   ]
  },
  {
   "cell_type": "code",
   "execution_count": null,
   "metadata": {},
   "outputs": [],
   "source": [
    "from langchain.document_loaders import CSVLoader\n",
    "\n",
    "csv_loader = CSVLoader(\"loaded_files/ex.csv\")\n",
    "print(csv_loader.load())\n",
    "print(\"\\n----------------------\\n\")\n",
    "\n",
    "csv_loader2 = CSVLoader(file_path=\"loaded_files/ex.csv\",\n",
    "                        source_column=\"id\")\n",
    "print(csv_loader2.load())"
   ]
  },
  {
   "cell_type": "markdown",
   "metadata": {},
   "source": [
    "#### 加载 Excel 文件\n",
    "需要先安装一个依赖包， 解析 excel文件"
   ]
  },
  {
   "cell_type": "code",
   "execution_count": null,
   "metadata": {},
   "outputs": [],
   "source": [
    "# ! pip3 install \"unstructured[xlsx]\"\n",
    "# ! pip3 install pdfminer\n",
    "! pip3 install pandas openpyxl"
   ]
  },
  {
   "cell_type": "code",
   "execution_count": null,
   "metadata": {},
   "outputs": [],
   "source": [
    "# 某个目录下有excel xlsx文件，我们需要把目录下的xlsx都加载出来\n",
    "from langchain.document_loaders import DirectoryLoader\n",
    "\n",
    "# xlsx_loader = DirectoryLoader(\"文件夹路径\",\"文件格式后缀\")\n",
    "xlsx_loader = DirectoryLoader(path=\"loaded_files/\", glob=\"*.xlsx\")\n",
    "xlsx_docs = xlsx_loader.load()\n",
    "len(xlsx_docs)\n"
   ]
  },
  {
   "cell_type": "markdown",
   "metadata": {},
   "source": [
    "#### 加载 HTML 文件"
   ]
  },
  {
   "cell_type": "code",
   "execution_count": null,
   "metadata": {},
   "outputs": [],
   "source": [
    "from langchain.document_loaders import UnstructuredHTMLLoader\n",
    "\n",
    "html_loader = UnstructuredHTMLLoader(file_path=\"loaded_files/ex.html\")\n",
    "html_loader.load()"
   ]
  },
  {
   "cell_type": "code",
   "execution_count": null,
   "metadata": {},
   "outputs": [],
   "source": [
    "## 只加载文本信息\n",
    "from langchain.document_loaders import BSHTMLLoader\n",
    "\n",
    "html_loader = BSHTMLLoader(file_path=\"loaded_files/ex.html\")\n",
    "html_loader.load()"
   ]
  },
  {
   "cell_type": "markdown",
   "metadata": {},
   "source": [
    "#### 加载 json 文件"
   ]
  },
  {
   "cell_type": "code",
   "execution_count": null,
   "metadata": {},
   "outputs": [],
   "source": [
    "! pip3 install jq"
   ]
  },
  {
   "cell_type": "code",
   "execution_count": null,
   "metadata": {},
   "outputs": [],
   "source": [
    "from langchain.document_loaders import JSONLoader\n",
    "\n",
    "# jq_schema 相当于选择器\n",
    "json_loader = JSONLoader(file_path=\"loaded_files/ex.json\",\n",
    "                         jq_schema=\".items\",\n",
    "                         text_content=False)\n",
    "json_loader.load()"
   ]
  },
  {
   "cell_type": "markdown",
   "metadata": {},
   "source": [
    "#### PDF loader "
   ]
  },
  {
   "cell_type": "code",
   "execution_count": null,
   "metadata": {},
   "outputs": [],
   "source": [
    "! pip3 install pypdf"
   ]
  },
  {
   "cell_type": "code",
   "execution_count": null,
   "metadata": {},
   "outputs": [],
   "source": [
    "from langchain.document_loaders import PyPDFLoader\n",
    "\n",
    "pypdf_loader = PyPDFLoader(\"loaded_files/cpp_test.pdf\")\n",
    "pages = pypdf_loader.load_and_split()"
   ]
  }
 ],
 "metadata": {
  "kernelspec": {
   "display_name": "AI_Class",
   "language": "python",
   "name": "python3"
  },
  "language_info": {
   "codemirror_mode": {
    "name": "ipython",
    "version": 3
   },
   "file_extension": ".py",
   "mimetype": "text/x-python",
   "name": "python",
   "nbconvert_exporter": "python",
   "pygments_lexer": "ipython3",
   "version": "3.12.9"
  }
 },
 "nbformat": 4,
 "nbformat_minor": 2
}
