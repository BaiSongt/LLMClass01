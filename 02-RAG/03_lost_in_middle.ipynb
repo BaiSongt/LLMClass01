{
 "cells": [
  {
   "cell_type": "markdown",
   "metadata": {},
   "source": [
    "# 如何处理长文本切分信息丢失的问题 Lost in the middle\n",
    "头尾识别精度高，中间低。\n",
    "先切分，再排序，排序将问题相关性高的放在头尾的位置"
   ]
  },
  {
   "cell_type": "code",
   "execution_count": null,
   "metadata": {},
   "outputs": [],
   "source": [
    "! pip3 install sentence-transformers"
   ]
  },
  {
   "cell_type": "code",
   "execution_count": 4,
   "metadata": {},
   "outputs": [
    {
     "data": {
      "text/plain": [
       "[Document(metadata={}, page_content='工程师成功研发出新型量子加密通信协议。'),\n",
       " Document(metadata={}, page_content='工程师成功研发出新型量子加密通信协议。'),\n",
       " Document(metadata={}, page_content='海边渔民撒下渔网等待着丰收的夜晚来临。')]"
      ]
     },
     "execution_count": 4,
     "metadata": {},
     "output_type": "execute_result"
    }
   ],
   "source": [
    "# from langchain.chains import LLMChain, StuffDocumentsChain\n",
    "from langchain_ollama import OllamaEmbeddings\n",
    "# from langchain.document_transformers import LongContextReorder\n",
    "# from langchain.embeddings import HuggingFaceBgeEmbeddings\n",
    "from langchain.vectorstores import Chroma\n",
    "\n",
    "# # 使用 huggingface 托管的开源LLM来做嵌入， MiniLM-L6-v2 是一个较小的LLM\n",
    "# # embeddings = HuggingFaceBgeEmbeddings(model_name=\"all-MiniLM-L6-v2\")\n",
    "embeddings = OllamaEmbeddings(\n",
    "  model=\"nomic-embed-text:latest\",\n",
    "  base_url=\"http://localhost:11434\"\n",
    ")\n",
    "\n",
    "text = [\n",
    "\"清晨的露珠在叶片上闪烁着微弱的光芒。\",\n",
    "\"工程师成功研发出新型量子加密通信协议。\",\n",
    "\"她每天早晨坚持练习瑜伽以保持身形。\",\n",
    "\"远古恐龙化石在博物馆展柜中静默了千万年。\",\n",
    "\"程序员熬夜调试代码时发现了一个致命Bug。\",\n",
    "\"海边渔民撒下渔网等待着丰收的夜晚来临。\",\n",
    "\"天文学家观测到火星表面出现异常陨石坑。\",\n",
    "\"小女孩用蜡笔在画布上描绘出奇幻的城堡。\",\n",
    "\"实验室里的白鼠在迷宫中找到了隐藏的出口。\",\n",
    "\"咖啡馆的钢琴师正在弹奏肖邦的夜曲。\",\n",
    "\"滨江大桥的霓虹灯在雨夜映照出绚丽倒影。\",\n",
    "\"古董书店老板仔细擦拭着泛黄的线装书。\",\n",
    "\"无人机航拍画面显示山火蔓延到了居民区。\",\n",
    "\"生物学家在深海热泉口发现了新物种。\",\n",
    "\"建筑工地的起重机正将钢材精准吊装到位。\",\n",
    "]\n",
    "\n",
    "retrieval = Chroma.from_texts(text, embeddings).as_retriever(\n",
    "  search_kwargs={\"k\":3}\n",
    ")\n",
    "\n",
    "query = \"关于宇宙的信息你知道什么？\"\n",
    "\n",
    "# 根据相关性返回文本块\n",
    "docs = retrieval.get_relevant_documents(query)\n",
    "docs\n"
   ]
  },
  {
   "cell_type": "markdown",
   "metadata": {},
   "source": [
    "以下是为您精心设计的15个短句（均≤18字），包含交叉主题与无关内容混合排列：\n",
    "\n",
    "人工智能将改变医疗行业（科技）<br>\n",
    "快递员清晨配送时发现车祸现场（生活）<br>\n",
    "珊瑚礁因海水酸化大面积白化（自然）<br>\n",
    "古埃及法老图坦卡蒙墓室新发现壁画（历史）<br>\n",
    "这家餐厅的招牌菜是麻辣子鸡（美食）<br>\n",
    "研究表明久坐超过6小时危害健康（健康）<br>\n",
    "北极科考队成功抵达北极点（探险）<br>\n",
    "他的小说获本届诺贝尔文学奖提名（文化）<br>\n",
    "昨夜台风\"海葵\"袭击东南沿海（气象）<br>\n",
    "新型纳米材料可降解塑料制品（环保）<br>\n",
    "患者术后康复需进行物理治疗（医学）<br>\n",
    "敦煌莫高窟启动数字化保护工程（文物）<br>\n",
    "咖啡因过量会导致心悸失眠（生活）<br>\n",
    "太空站宇航员完成植物栽培实验（航天）<br>\n",
    "市中心广场举办 vintage 时装秀（时尚）<br>"
   ]
  },
  {
   "cell_type": "markdown",
   "metadata": {},
   "source": [
    "### 检测下这种方案的精度效果"
   ]
  },
  {
   "cell_type": "code",
   "execution_count": null,
   "metadata": {},
   "outputs": [
    {
     "data": {
      "text/plain": [
       "[Document(metadata={}, page_content='人工智能将改变医疗行业'),\n",
       " Document(metadata={}, page_content='工程师成功研发出新型量子加密通信协议。'),\n",
       " Document(metadata={}, page_content='工程师成功研发出新型量子加密通信协议。')]"
      ]
     },
     "execution_count": 5,
     "metadata": {},
     "output_type": "execute_result"
    }
   ],
   "source": [
    "# from langchain.chains import LLMChain, StuffDocumentsChain\n",
    "from langchain_ollama import OllamaEmbeddings\n",
    "# from langchain.document_transformers import LongContextReorder\n",
    "# from langchain.embeddings import HuggingFaceBgeEmbeddings\n",
    "from langchain.vectorstores import Chroma\n",
    "\n",
    "# # 使用 huggingface 托管的开源LLM来做嵌入， MiniLM-L6-v2 是一个较小的LLM\n",
    "# # embeddings = HuggingFaceBgeEmbeddings(model_name=\"all-MiniLM-L6-v2\")\n",
    "embeddings = OllamaEmbeddings(\n",
    "  model=\"nomic-embed-text:latest\",\n",
    "  base_url=\"http://localhost:11434\"\n",
    ")\n",
    "\n",
    "text = [\n",
    "\"人工智能将改变医疗行业\",\n",
    "\"快递员清晨配送时发现车祸现场\",\n",
    "\"珊瑚礁因海水酸化大面积白化\",\n",
    "\"古埃及法老图坦卡蒙墓室新发现壁画\",\n",
    "\"这家餐厅的招牌菜是麻辣子鸡\",\n",
    "\"研究表明久坐超过6小时危害健康\",\n",
    "\"北极科考队成功抵达北极点\",\n",
    "\"他的小说获本届诺贝尔文学奖提名\",\n",
    "\"昨夜台风'海葵'袭击东南沿海\",\n",
    "\"新型纳米材料可降解塑料制品\",\n",
    "\"患者术后康复需进行物理治疗\",\n",
    "\"敦煌莫高窟启动数字化保护工程\",\n",
    "\"咖啡因过量会导致心悸失眠\",\n",
    "\"太空站宇航员完成植物栽培实验\",\n",
    "\"市中心广场举办丁真珍珠时装秀\",\n",
    "]\n",
    "\n",
    "# 生成向量数据\n",
    "retrieval = Chroma.from_texts(text, embeddings).as_retriever(\n",
    "  search_kwargs={\"k\":3}\n",
    ")\n",
    "\n",
    "query = \"关于人工智能的信息你知道什么？\"\n",
    "\n",
    "# 根据相关性返回文本块\n",
    "docs = retrieval.get_relevant_documents(query)\n",
    "docs"
   ]
  }
 ],
 "metadata": {
  "kernelspec": {
   "display_name": "rag",
   "language": "python",
   "name": "python3"
  },
  "language_info": {
   "codemirror_mode": {
    "name": "ipython",
    "version": 3
   },
   "file_extension": ".py",
   "mimetype": "text/x-python",
   "name": "python",
   "nbconvert_exporter": "python",
   "pygments_lexer": "ipython3",
   "version": "3.13.2"
  }
 },
 "nbformat": 4,
 "nbformat_minor": 2
}
