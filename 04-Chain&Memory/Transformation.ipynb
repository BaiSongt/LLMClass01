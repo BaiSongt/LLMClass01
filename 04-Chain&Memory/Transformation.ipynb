{
 "cells": [
  {
   "cell_type": "markdown",
   "metadata": {},
   "source": [
    "## **Transformation**\n",
    "对输入文件进行预处理，预转换"
   ]
  },
  {
   "cell_type": "code",
   "execution_count": 2,
   "metadata": {},
   "outputs": [],
   "source": [
    "from langchain.prompts import PromptTemplate\n",
    "prompt = PromptTemplate.from_template(\n",
    "  \"\"\"对下面的文字进行总结\n",
    "  {content}。\n",
    "  总结：\"\"\"\n",
    ")\n",
    "\n",
    "with open(\"Readme.md\") as f :\n",
    "  readme = f.read()"
   ]
  },
  {
   "cell_type": "code",
   "execution_count": 6,
   "metadata": {},
   "outputs": [],
   "source": [
    "## 引入Transformation\n",
    "\n",
    "from langchain.chains import TransformChain, LLMChain, SimpleSequentialChain\n",
    "from langchain_ollama import OllamaLLM\n",
    "\n",
    "def transform_func(inputs:dict) -> dict:\n",
    "  text=inputs[\"text\"]\n",
    "  shortened_text = \"\\n\\n\".join(text.split(\"\\n\\n\")[:3])\n",
    "  return {\"content\":shortened_text}\n",
    "\n",
    "# 文档转换链\n",
    "transform_chain = TransformChain(\n",
    "  input_variables=[\"text\"],\n",
    "  output_variables=[\"content\"],\n",
    "  transform=transform_func\n",
    ")\n",
    "\n",
    "template = \"\"\"对下面的文字进行总结\n",
    "{content}\n",
    "\n",
    "总结：\"\"\"\n",
    "\n",
    "prompt = PromptTemplate(\n",
    "  input_variables=[\"content\"],\n",
    "  template=template\n",
    ")\n",
    "# print(prompt)\n",
    "\n",
    "llmchain = LLMChain(\n",
    "  llm = OllamaLLM(model=\"llama3.1:8b\"),\n",
    "  prompt=prompt\n",
    ")\n",
    "\n",
    "# 使用顺序链连接起来\n",
    "squential_chain = SimpleSequentialChain(\n",
    "  chains=[transform_chain, llmchain],\n",
    "  verbose=True\n",
    ")\n"
   ]
  },
  {
   "cell_type": "code",
   "execution_count": 8,
   "metadata": {},
   "outputs": [
    {
     "name": "stdout",
     "output_type": "stream",
     "text": [
      "\n",
      "\n",
      "\u001b[1m> Entering new SimpleSequentialChain chain...\u001b[0m\n",
      "\u001b[36;1m\u001b[1;3m以下是LangChain中几种基础Chain的详细介绍，结合源代码、参数、使用场景及代码示例：\n",
      "\n",
      "---\n",
      "\n",
      "### 一、**LLMChain（语言模型链）**\n",
      "**核心功能**：直接与大型语言模型（如GPT-4、ChatGLM）交互，用于生成或理解自然语言。\n",
      "**参数**：\n",
      "- `llm`：语言模型实例（如`OpenAI()`或`ChatZhipuAI()`）。\n",
      "- `prompt`：提示模板（`PromptTemplate`），定义输入格式和生成规则。\n",
      "**使用场景**：\n",
      "- 简单问答、文本生成、代码编写等单步任务。\n",
      "**代码示例**：\n",
      "```python\n",
      "from langchain import OpenAI\n",
      "from langchain.chains import LLMChain\n",
      "from langchain.prompts import PromptTemplate\u001b[0m\n",
      "\u001b[33;1m\u001b[1;3m这里是对 LangChain 基础 Chain 的简要概述：\n",
      "\n",
      "1. **LLMChain（语言模型链）**：\n",
      "\t* 功能：与大型语言模型（如 GPT-4、ChatGLM）交互，用于生成或理解自然语言。\n",
      "\t* 参数：`llm`（语言模型实例）、`prompt`（提示模板）。\n",
      "\t* 使用场景：单步任务，如简单问答、文本生成、代码编写等。\n",
      "\t* 代码示例：使用 `OpenAI` 或 `ChatZhipuAI` 实例化语言模型，定义提示模板并创建 `LLMChain` 实例。\n",
      "\n",
      "其他 Chain 的介绍可能包括：\n",
      "\n",
      "2. ****（其它 Chain 名称）**\n",
      "\t* 功能：[描述]\n",
      "\t* 参数：[参数列表]\n",
      "\t* 使用场景：[使用场景]\n",
      "\t* 代码示例：[代码示例]\n",
      "\n",
      "请根据实际内容补全总结。\u001b[0m\n",
      "\n",
      "\u001b[1m> Finished chain.\u001b[0m\n"
     ]
    },
    {
     "data": {
      "text/plain": [
       "'这里是对 LangChain 基础 Chain 的简要概述：\\n\\n1. **LLMChain（语言模型链）**：\\n\\t* 功能：与大型语言模型（如 GPT-4、ChatGLM）交互，用于生成或理解自然语言。\\n\\t* 参数：`llm`（语言模型实例）、`prompt`（提示模板）。\\n\\t* 使用场景：单步任务，如简单问答、文本生成、代码编写等。\\n\\t* 代码示例：使用 `OpenAI` 或 `ChatZhipuAI` 实例化语言模型，定义提示模板并创建 `LLMChain` 实例。\\n\\n其他 Chain 的介绍可能包括：\\n\\n2. ****（其它 Chain 名称）**\\n\\t* 功能：[描述]\\n\\t* 参数：[参数列表]\\n\\t* 使用场景：[使用场景]\\n\\t* 代码示例：[代码示例]\\n\\n请根据实际内容补全总结。'"
      ]
     },
     "execution_count": 8,
     "metadata": {},
     "output_type": "execute_result"
    }
   ],
   "source": [
    "squential_chain.run(readme)"
   ]
  }
 ],
 "metadata": {
  "kernelspec": {
   "display_name": "rag",
   "language": "python",
   "name": "python3"
  },
  "language_info": {
   "codemirror_mode": {
    "name": "ipython",
    "version": 3
   },
   "file_extension": ".py",
   "mimetype": "text/x-python",
   "name": "python",
   "nbconvert_exporter": "python",
   "pygments_lexer": "ipython3",
   "version": "3.13.2"
  }
 },
 "nbformat": 4,
 "nbformat_minor": 2
}
