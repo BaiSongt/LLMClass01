{
 "cells": [
  {
   "cell_type": "markdown",
   "metadata": {},
   "source": [
    "## **Transformation**\n",
    "对输入文件进行预处理，预转换"
   ]
  },
  {
   "cell_type": "code",
   "execution_count": 1,
   "metadata": {},
   "outputs": [],
   "source": [
    "from langchain.prompts import PromptTemplate\n",
    "prompt = PromptTemplate.from_template(\n",
    "  \"\"\"对下面的文字进行总结\n",
    "  {content}。\n",
    "  总结：\"\"\"\n",
    ")\n",
    "\n",
    "with open(\"Readme.md\") as f :\n",
    "  readme = f.read()"
   ]
  },
  {
   "cell_type": "code",
   "execution_count": 2,
   "metadata": {},
   "outputs": [
    {
     "name": "stderr",
     "output_type": "stream",
     "text": [
      "/var/folders/d6/8jzk9xqn419djvdnx23ft3y40000gn/T/ipykernel_51385/2797869925.py:29: LangChainDeprecationWarning: The class `LLMChain` was deprecated in LangChain 0.1.17 and will be removed in 1.0. Use :meth:`~RunnableSequence, e.g., `prompt | llm`` instead.\n",
      "  llmchain = LLMChain(\n"
     ]
    }
   ],
   "source": [
    "## 引入Transformation\n",
    "\n",
    "from langchain.chains import TransformChain, LLMChain, SimpleSequentialChain\n",
    "from langchain_ollama import OllamaLLM\n",
    "\n",
    "def transform_func(inputs:dict) -> dict:\n",
    "  text=inputs[\"text\"]\n",
    "  shortened_text = \"\\n\\n\".join(text.split(\"\\n\\n\")[:3])\n",
    "  return {\"content\":shortened_text}\n",
    "\n",
    "# 文档转换链\n",
    "transform_chain = TransformChain(\n",
    "  input_variables=[\"text\"],\n",
    "  output_variables=[\"content\"],\n",
    "  transform=transform_func\n",
    ")\n",
    "\n",
    "template = \"\"\"对下面的文字进行总结\n",
    "{content}\n",
    "\n",
    "总结：\"\"\"\n",
    "\n",
    "prompt = PromptTemplate(\n",
    "  input_variables=[\"content\"],\n",
    "  template=template\n",
    ")\n",
    "# print(prompt)\n",
    "\n",
    "llmchain = LLMChain(\n",
    "  llm = OllamaLLM(model=\"llama3.1:8b\"),\n",
    "  prompt=prompt\n",
    ")\n",
    "\n",
    "# 使用顺序链连接起来\n",
    "squential_chain = SimpleSequentialChain(\n",
    "  chains=[transform_chain, llmchain],\n",
    "  verbose=True\n",
    ")\n"
   ]
  },
  {
   "cell_type": "code",
   "execution_count": 3,
   "metadata": {},
   "outputs": [
    {
     "name": "stderr",
     "output_type": "stream",
     "text": [
      "/var/folders/d6/8jzk9xqn419djvdnx23ft3y40000gn/T/ipykernel_51385/184825187.py:1: LangChainDeprecationWarning: The method `Chain.run` was deprecated in langchain 0.1.0 and will be removed in 1.0. Use :meth:`~invoke` instead.\n",
      "  squential_chain.run(readme)\n"
     ]
    },
    {
     "name": "stdout",
     "output_type": "stream",
     "text": [
      "\n",
      "\n",
      "\u001b[1m> Entering new SimpleSequentialChain chain...\u001b[0m\n",
      "\u001b[36;1m\u001b[1;3mLangChain 提供了多种预制链（Chains）以简化复杂工作流的构建，以下是常用的预制链类型及其应用场景：\n",
      "\n",
      "### 一、通用预制链\n",
      "1. **LLMChain**\n",
      "   基础链类型，封装了提示模板与语言模型的交互，用于单次模型调用。例如通过 `LLMChain(llm=ChatOpenAI(), prompt=prompt_template)` 实现模型调用。\n",
      "\n",
      "2. **SequentialChain**\n",
      "   顺序执行多个子链，支持跨链数据传递。适用于分步骤处理任务，如先解析关键词再检索答案。\u001b[0m\n",
      "\u001b[33;1m\u001b[1;3mLangChain 提供了两个预制链类型来简化复杂工作流的构建：\n",
      "\n",
      "1. **LLMChain**：一个基础链，封装了提示模板与语言模型的交互，可以用于单次模型调用。\n",
      "2. **SequentialChain**：可以顺序执行多个子链，并支持跨链数据传递，适用于分步骤处理任务。\u001b[0m\n",
      "\n",
      "\u001b[1m> Finished chain.\u001b[0m\n"
     ]
    },
    {
     "data": {
      "text/plain": [
       "'LangChain 提供了两个预制链类型来简化复杂工作流的构建：\\n\\n1. **LLMChain**：一个基础链，封装了提示模板与语言模型的交互，可以用于单次模型调用。\\n2. **SequentialChain**：可以顺序执行多个子链，并支持跨链数据传递，适用于分步骤处理任务。'"
      ]
     },
     "execution_count": 3,
     "metadata": {},
     "output_type": "execute_result"
    }
   ],
   "source": [
    "squential_chain.run(readme)"
   ]
  }
 ],
 "metadata": {
  "kernelspec": {
   "display_name": "rag",
   "language": "python",
   "name": "python3"
  },
  "language_info": {
   "codemirror_mode": {
    "name": "ipython",
    "version": 3
   },
   "file_extension": ".py",
   "mimetype": "text/x-python",
   "name": "python",
   "nbconvert_exporter": "python",
   "pygments_lexer": "ipython3",
   "version": "3.13.2"
  }
 },
 "nbformat": 4,
 "nbformat_minor": 2
}
