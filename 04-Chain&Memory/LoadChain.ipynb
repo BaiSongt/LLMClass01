{
 "cells": [
  {
   "cell_type": "markdown",
   "metadata": {},
   "source": [
    "## 使用文件加载专用Chains"
   ]
  },
  {
   "cell_type": "code",
   "execution_count": null,
   "metadata": {},
   "outputs": [],
   "source": [
    "! pip3 install numexpr"
   ]
  },
  {
   "cell_type": "code",
   "execution_count": null,
   "metadata": {},
   "outputs": [],
   "source": [
    "# 该方式已经被弃用\n",
    "from langchain.chains import load_chain\n",
    "\n",
    "# LangChainHub git\n",
    "chain = load_chain(\"lc://chains/llm-math/chain.json\")\n",
    "\n",
    "print(chain.run(\"2 + 6 = ?\"))"
   ]
  },
  {
   "cell_type": "markdown",
   "metadata": {},
   "source": [
    "## 使用LangSmith"
   ]
  },
  {
   "cell_type": "code",
   "execution_count": null,
   "metadata": {},
   "outputs": [],
   "source": [
    "! pip3 install langsmith"
   ]
  },
  {
   "cell_type": "code",
   "execution_count": null,
   "metadata": {},
   "outputs": [],
   "source": [
    "# Create a LANGSMITH_API_KEY in Settings > API Keys\n",
    "from langsmith import Client\n",
    "client = Client(api_key=LANGSMITH_API_KEY)\n",
    "prompt = client.pull_prompt(\"hwchase17/react-chat\", include_model=True)"
   ]
  },
  {
   "cell_type": "markdown",
   "metadata": {},
   "source": [
    "______\n",
    "# 自定义链\n",
    "## **CustomChain**"
   ]
  },
  {
   "cell_type": "code",
   "execution_count": 5,
   "metadata": {},
   "outputs": [],
   "source": [
    "## CustomChain\n",
    "from typing import List,Dict,Any,Optional\n",
    "from langchain.callbacks.manager import CallbackManagerForChainRun\n",
    "from langchain.chains.base import Chain\n",
    "from langchain.prompts.base import BasePromptTemplate\n",
    "from langchain.base_language import BaseLanguageModel"
   ]
  },
  {
   "cell_type": "code",
   "execution_count": 23,
   "metadata": {},
   "outputs": [],
   "source": [
    "# 输入话题生成类型百科介绍\n",
    "\n",
    "class wiki_article_chain(Chain):\n",
    "  \"\"\"开发一个wiki文章生成器\"\"\"\n",
    "  prompt: BasePromptTemplate\n",
    "  llm: BaseLanguageModel\n",
    "  out_key: str = \"text\"\n",
    "\n",
    "  @property\n",
    "  def input_keys(self) -> List[str]:\n",
    "    \"\"\"将返回Prompt所需要的所有Key\"\"\"\n",
    "    return self.prompt.input_variables\n",
    "\n",
    "  @property\n",
    "  def output_keys(self) -> List[str]:\n",
    "    \"\"\"将返回text\"\"\"\n",
    "    return [self.out_key]\n",
    "\n",
    "  def _call(\n",
    "      self,\n",
    "      inputs:Dict[str,Any],\n",
    "      run_manager : Optional[CallbackManagerForChainRun] = None,\n",
    "    ) -> Dict[str,Any]:\n",
    "      \"\"\"运行链\"\"\"\n",
    "      prompt_value = self.prompt.format_prompt(**inputs)\n",
    "      response = self.llm.generate_prompt(\n",
    "        [prompt_value], callbacks=run_manager.get_child() if run_manager else None\n",
    "      )\n",
    "\n",
    "      if run_manager:\n",
    "        run_manager.on_text(\"wiki article is written\")\n",
    "\n",
    "      return {self.out_key:response.generations[0][0].text}\n",
    "\n",
    "  @property\n",
    "  def _chain_type(self) -> str:\n",
    "    \"\"\"链类型\"\"\"\n",
    "    return \"wiki_article_chain\""
   ]
  },
  {
   "cell_type": "code",
   "execution_count": 24,
   "metadata": {},
   "outputs": [
    {
     "name": "stdout",
     "output_type": "stream",
     "text": [
      "**计算机辅助工程 (CAE) 软件工程师**\n",
      "\n",
      "计算机辅助工程（Computer-Aided Engineering，CAE）是指使用计算机技术来设计、分析和优化工程系统或产品。CAE软件工程师是开发和维护这些CAE软件的专业人员。\n",
      "\n",
      "**职责**\n",
      "\n",
      "CAE软件工程师的主要职责包括：\n",
      "\n",
      "1. **CAE软件的设计和开发**: 根据客户需求，设计并开发适合特定行业或领域的CAE软件。\n",
      "2. **CAE软件的测试和调试**: 确保CAE软件能够正确运行，并且能够处理各种输入数据。\n",
      "3. **CAE软件的维护和更新**: 根据用户反馈和新技术的出现，持续改进和更新CAE软件。\n",
      "4. **客户支持和培训**: 为客户提供CAE软件使用指导和支持。\n",
      "\n",
      "**技能要求**\n",
      "\n",
      "CAE软件工程师需要具备以下技能：\n",
      "\n",
      "1. **计算机科学或相关领域的本科或硕士学位**： CAE软件工程师通常需要持有计算机科学、数学或物理等相关领域的学位。\n",
      "2. **编程语言和开发工具**: 熟悉至少一种编程语言（如C++、Java、Python），以及CAE软件开发所需的开发工具（如CAD、FEM等）。\n",
      "3. **CAE软件知识**: 具有CAE软件的使用经验和理解，包括CAE软件的原理、特性和应用。\n",
      "4. **问题解决和分析能力**: 能够分析复杂的问题，并设计有效的解决方案。\n",
      "5. **沟通和团队合作能力**: 能够与客户、同事和其他利益相关者进行有效的沟通和合作。\n",
      "\n",
      "**行业**\n",
      "\n",
      "CAE软件工程师可以在多个行业工作，包括：\n",
      "\n",
      "1. **汽车工业**: CAE软件用于设计和优化汽车零部件和系统。\n",
      "2. **航空航天工业**: CAE软件用于设计和优化飞机和火箭的结构和系统。\n",
      "3. **建筑业**: CAE软件用于设计和优化建筑结构和系统。\n",
      "4. **医疗设备制造业**: CAE软件用于设计和优化医疗设备。\n",
      "\n",
      "**职业发展**\n",
      "\n",
      "CAE软件工程师可以通过以下方式进行职业发展：\n",
      "\n",
      "1. **晋升为CAE软件团队leader**: 领导CAE软件开发团队，负责项目管理和技术指导。\n",
      "2. **转型为CAE软件专家**: 成为CAE软件领域的专家，提供高级咨询和服务。\n",
      "3. **进入研究和开发领域**: 参与CAE软件的研究和开发工作，推动新技术和方法的发展。\n"
     ]
    }
   ],
   "source": [
    "from langchain_ollama import ChatOllama\n",
    "from langchain.prompts import PromptTemplate\n",
    "\n",
    "chain = wiki_article_chain(\n",
    "  prompt=PromptTemplate(\n",
    "    template=\"写一篇关于{topic}的维基百科的文章\",\n",
    "    input_variables=[\"topic\"]\n",
    "  ),\n",
    "  llm=ChatOllama(\n",
    "    model=\"llama3.1:8b\",\n",
    "    temperature=0\n",
    "  )\n",
    ")\n",
    "\n",
    "result = chain.run({\"topic\":\"CAE软件工程师\"})\n",
    "print(result)"
   ]
  }
 ],
 "metadata": {
  "kernelspec": {
   "display_name": "rag",
   "language": "python",
   "name": "python3"
  },
  "language_info": {
   "codemirror_mode": {
    "name": "ipython",
    "version": 3
   },
   "file_extension": ".py",
   "mimetype": "text/x-python",
   "name": "python",
   "nbconvert_exporter": "python",
   "pygments_lexer": "ipython3",
   "version": "3.13.2"
  }
 },
 "nbformat": 4,
 "nbformat_minor": 2
}
