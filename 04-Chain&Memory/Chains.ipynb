{
 "cells": [
  {
   "cell_type": "markdown",
   "metadata": {},
   "source": [
    "# Chains\n",
    "## 一、LLMChain\n",
    "最常用的chain\n",
    "\n",
    "**核心功能**：直接与大型语言模型（如GPT-4、ChatGLM）交互，用于生成或理解自然语言。\n",
    "\n",
    "**参数**：\n",
    "\n",
    "- `llm`：语言模型实例（如`OpenAI()`或`ChatZhipuAI()`）。\n",
    "- `prompt`：提示模板（`PromptTemplate`），定义输入格式和生成规则。\n",
    "- \n",
    "**使用场景**：\n",
    "- 简单问答、文本生成、代码编写等单步任务。\n",
    "**代码示例**："
   ]
  },
  {
   "cell_type": "code",
   "execution_count": 5,
   "metadata": {},
   "outputs": [],
   "source": [
    "from langchain.chains import LLMChain\n",
    "from langchain_ollama import OllamaLLM\n",
    "from langchain.prompts import PromptTemplate\n",
    "\n",
    "llm = OllamaLLM(\n",
    "  model=\"llama3.1:8b\"\n",
    ")\n",
    "\n",
    "prompt_template = \"帮我给{product}想三个可以注册的域名\"\n",
    "\n",
    "llm_chain = LLMChain(\n",
    "  llm=llm,\n",
    "  prompt=PromptTemplate.from_template(prompt_template)\n",
    ")"
   ]
  },
  {
   "cell_type": "code",
   "execution_count": 6,
   "metadata": {},
   "outputs": [
    {
     "data": {
      "text/plain": [
       "{'product': 'AI',\n",
       " 'text': '很高兴帮助你!\\n\\n以下是三种可能可用的域名建议：\\n\\n1.  **yourblog.top**: 这是一个非常简单和易记的域名，可以适用于个人博客或技术博客。\\n2.  **aiworld.net**: 这个域名可以让你的网站表现出与人工智能相关的主题，并且容易让用户记住。\\n3.  **techzone.pro**: 如果你打算创建一个聚合各种技术信息的网站，这个域名会很适合。\\n\\n请注意，域名注册费用和可用性可能因提供商而异。建议在选择域名前检查其当前状态是否为可用，并考虑将来可能的需求和品牌身份设想。'}"
      ]
     },
     "execution_count": 6,
     "metadata": {},
     "output_type": "execute_result"
    }
   ],
   "source": [
    "# llm_chain({\"product\":\"AI\"})\n",
    "llm_chain(\"AI\")"
   ]
  },
  {
   "cell_type": "markdown",
   "metadata": {},
   "source": [
    "## 二、**SequentialChain（顺序链）**\n",
    "\n",
    "**核心功能**：按顺序串联多个步骤，前一步输出作为下一步输入。\n",
    "\n",
    "**参数**：\n",
    "- `chains`：子链列表（如`[LLMChain, ToolChain]`）。\n",
    "- `input_variables`：输入变量名称（需与子链输入匹配）。\n",
    "\n",
    "**使用场景**：\n",
    "- 多步骤任务，如先生成问题再验证答案、文本处理流水线。\n",
    "\n",
    "**示例代码 1  `simpleSequentialChain`**："
   ]
  },
  {
   "cell_type": "code",
   "execution_count": 6,
   "metadata": {},
   "outputs": [],
   "source": [
    "# simpleSequentialChain 只支持固定的链路\n",
    "\n",
    "from langchain.chains import LLMChain\n",
    "from langchain_ollama.chat_models import ChatOllama\n",
    "from langchain.prompts import ChatPromptTemplate\n",
    "from langchain.chains import SimpleSequentialChain\n",
    "\n",
    "chat_ollama_model = ChatOllama(\n",
    "  model=\"llama3.1:8b\",\n",
    "  temperature=0.0\n",
    ")\n",
    "\n",
    "# chain  1  起名字\n",
    "first_prompt = ChatPromptTemplate.from_template(\n",
    "  \"帮我给{product}的公司起一个好听容易记忆的名字？不要建议，只要一个\"\n",
    ")\n",
    "\n",
    "chain_1 = LLMChain(\n",
    "  llm=chat_ollama_model,\n",
    "  prompt=first_prompt,\n",
    "  verbose=True\n",
    ")\n",
    "\n",
    "# chain  2  描述名字\n",
    "second_prompt = ChatPromptTemplate.from_template(\n",
    "  \"用五个词来描述一下这个公司的名字：{company_name}\"\n",
    ")\n",
    "\n",
    "chain_2 = LLMChain(\n",
    "  llm=chat_ollama_model,\n",
    "  prompt=second_prompt,\n",
    "  verbose=True\n",
    ")\n",
    "\n",
    " ## 组合 Chain\n",
    "over_all_chain = SimpleSequentialChain(\n",
    "  chains=[chain_1, chain_2],\n",
    "  verbose=True\n",
    ")"
   ]
  },
  {
   "cell_type": "code",
   "execution_count": 7,
   "metadata": {},
   "outputs": [
    {
     "name": "stdout",
     "output_type": "stream",
     "text": [
      "\n",
      "\n",
      "\u001b[1m> Entering new SimpleSequentialChain chain...\u001b[0m\n",
      "\n",
      "\n",
      "\u001b[1m> Entering new LLMChain chain...\u001b[0m\n",
      "Prompt after formatting:\n",
      "\u001b[32;1m\u001b[1;3mHuman: 帮我给AI教育培训机构的公司起一个好听容易记忆的名字？不要建议，只要一个\u001b[0m\n",
      "\n",
      "\u001b[1m> Finished chain.\u001b[0m\n",
      "\u001b[36;1m\u001b[1;3m\"智慧之源\"\u001b[0m\n",
      "\n",
      "\n",
      "\u001b[1m> Entering new LLMChain chain...\u001b[0m\n",
      "Prompt after formatting:\n",
      "\u001b[32;1m\u001b[1;3mHuman: 用五个词来描述一下这个公司的名字：\"智慧之源\"\u001b[0m\n",
      "\n",
      "\u001b[1m> Finished chain.\u001b[0m\n",
      "\u001b[33;1m\u001b[1;3m这里是五个词来描述这个公司的名字：\n",
      "\n",
      "1. 智慧\n",
      "2. 源头\n",
      "3. 知识\n",
      "4. 创新\n",
      "5. 前瞻\u001b[0m\n",
      "\n",
      "\u001b[1m> Finished chain.\u001b[0m\n"
     ]
    },
    {
     "data": {
      "text/plain": [
       "'这里是五个词来描述这个公司的名字：\\n\\n1. 智慧\\n2. 源头\\n3. 知识\\n4. 创新\\n5. 前瞻'"
      ]
     },
     "execution_count": 7,
     "metadata": {},
     "output_type": "execute_result"
    }
   ],
   "source": [
    "over_all_chain.run(\"AI教育培训机构\")"
   ]
  },
  {
   "cell_type": "markdown",
   "metadata": {},
   "source": [
    "**示例代码 2 `SequentialChain`**："
   ]
  },
  {
   "cell_type": "code",
   "execution_count": 9,
   "metadata": {},
   "outputs": [],
   "source": [
    "from langchain.chains import LLMChain\n",
    "from langchain_ollama.chat_models import ChatOllama\n",
    "from langchain.prompts import ChatPromptTemplate\n",
    "from langchain.chains import SequentialChain\n",
    "\n",
    "chat_ollama_model = ChatOllama(\n",
    "  model=\"llama3.1:8b\",\n",
    "  temperature=0.0\n",
    ")\n",
    "\n",
    "# Chain 1 翻译成中文\n",
    "first_prompt = ChatPromptTemplate.from_template(\n",
    "  \"把下面的内容翻译成英文：\\n\\n{content}\"\n",
    ")\n",
    "chain_1st = LLMChain(\n",
    "  llm = chat_ollama_model,\n",
    "  prompt = first_prompt,\n",
    "  verbose=True,\n",
    "  output_key = \"Chinese_Review\",\n",
    ")\n",
    "\n",
    "# chain 2 对翻译后的英文进行总结摘要\n",
    "second_prompt = ChatPromptTemplate.from_template(\n",
    "  \"用一句话总结以下内容：\\n\\n {Chinese_Review}\"\n",
    ")\n",
    "chain_2nd = LLMChain(\n",
    "  llm = chat_ollama_model,\n",
    "  prompt = second_prompt,\n",
    "  verbose=True,\n",
    "  output_key = \"Chinese_summary\",\n",
    ")\n",
    "\n",
    "# chain 3 智能识别语言 input_key 是上一个chain的 output_key\n",
    "third_prompt = ChatPromptTemplate.from_template(\n",
    "  \"下面的内容是哪种语言？ \\n\\n {Chinese_summary}\"\n",
    ")\n",
    "chain_3rd = LLMChain(\n",
    "  llm = chat_ollama_model,\n",
    "  prompt = third_prompt,\n",
    "  verbose=True,\n",
    "  output_key = \"Language\",\n",
    ")\n",
    "\n",
    "# chain 4 针对摘要进行评论\n",
    "forth_prompt = ChatPromptTemplate.from_template(\n",
    "  \"请使用指定的语言{Language}对以下内容进行回复： \\n\\n {Chinese_summary}\"\n",
    ")\n",
    "chain_4th = LLMChain(\n",
    "  llm = chat_ollama_model,\n",
    "  prompt = forth_prompt,\n",
    "  verbose=True,\n",
    "  output_key = \"Reply\",\n",
    ")\n",
    "\n",
    "# Over_all Chain\n",
    "#\n",
    "overall_chain = SequentialChain(\n",
    "  chains=[chain_1st,chain_2nd,chain_3rd,chain_4th],\n",
    "  verbose=True,\n",
    "  input_variables=[\"content\"],\n",
    "  output_variables=[\"Chinese_Review\",\"Chinese_summary\",\"Language\",\"Reply\"]\n",
    ")"
   ]
  },
  {
   "cell_type": "code",
   "execution_count": 11,
   "metadata": {},
   "outputs": [
    {
     "name": "stderr",
     "output_type": "stream",
     "text": [
      "/var/folders/d6/8jzk9xqn419djvdnx23ft3y40000gn/T/ipykernel_74263/966799136.py:1: LangChainDeprecationWarning: The method `Chain.__call__` was deprecated in langchain 0.1.0 and will be removed in 1.0. Use :meth:`~invoke` instead.\n",
      "  overall_chain(\n"
     ]
    },
    {
     "name": "stdout",
     "output_type": "stream",
     "text": [
      "\n",
      "\n",
      "\u001b[1m> Entering new SequentialChain chain...\u001b[0m\n",
      "\n",
      "\n",
      "\u001b[1m> Entering new LLMChain chain...\u001b[0m\n",
      "Prompt after formatting:\n",
      "\u001b[32;1m\u001b[1;3mHuman: 把下面的内容翻译成英文：\n",
      "\n",
      "床前明月光，疑是地上霜。举头望明月，低头思故乡\u001b[0m\n",
      "\n",
      "\u001b[1m> Finished chain.\u001b[0m\n",
      "\n",
      "\n",
      "\u001b[1m> Entering new LLMChain chain...\u001b[0m\n",
      "Prompt after formatting:\n",
      "\u001b[32;1m\u001b[1;3mHuman: 用一句话总结以下内容：\n",
      "\n",
      " The moon is shining brightly in front of my bed, it looks like frost on the ground. I raise my head to look at the bright moon and lower my head to think about my hometown.\u001b[0m\n",
      "\n",
      "\u001b[1m> Finished chain.\u001b[0m\n",
      "\n",
      "\n",
      "\u001b[1m> Entering new LLMChain chain...\u001b[0m\n",
      "Prompt after formatting:\n",
      "\u001b[32;1m\u001b[1;3mHuman: 下面的内容是哪种语言？ \n",
      "\n",
      " 我抬起头望着明亮的月亮，低下头思念故乡。\u001b[0m\n",
      "\n",
      "\u001b[1m> Finished chain.\u001b[0m\n",
      "\n",
      "\n",
      "\u001b[1m> Entering new LLMChain chain...\u001b[0m\n",
      "Prompt after formatting:\n",
      "\u001b[32;1m\u001b[1;3mHuman: 请使用指定的语言答案：中文对以下内容进行回复： \n",
      "\n",
      " 我抬起头望着明亮的月亮，低下头思念故乡。\u001b[0m\n",
      "\n",
      "\u001b[1m> Finished chain.\u001b[0m\n",
      "\n",
      "\u001b[1m> Finished chain.\u001b[0m\n"
     ]
    },
    {
     "data": {
      "text/plain": [
       "{'content': '床前明月光，疑是地上霜。举头望明月，低头思故乡',\n",
       " 'Chinese_Review': 'The moon is shining brightly in front of my bed, it looks like frost on the ground. I raise my head to look at the bright moon and lower my head to think about my hometown.',\n",
       " 'Chinese_summary': '我抬起头望着明亮的月亮，低下头思念故乡。',\n",
       " 'Language': '答案：中文',\n",
       " 'Reply': '我抬起头望着明亮的月亮，低下头思念故乡。'}"
      ]
     },
     "execution_count": 11,
     "metadata": {},
     "output_type": "execute_result"
    }
   ],
   "source": [
    "overall_chain(\n",
    "  \"床前明月光，疑是地上霜。举头望明月，低头思故乡\"\n",
    ")"
   ]
  }
 ],
 "metadata": {
  "kernelspec": {
   "display_name": "rag",
   "language": "python",
   "name": "python3"
  },
  "language_info": {
   "codemirror_mode": {
    "name": "ipython",
    "version": 3
   },
   "file_extension": ".py",
   "mimetype": "text/x-python",
   "name": "python",
   "nbconvert_exporter": "python",
   "pygments_lexer": "ipython3",
   "version": "3.13.2"
  }
 },
 "nbformat": 4,
 "nbformat_minor": 2
}
