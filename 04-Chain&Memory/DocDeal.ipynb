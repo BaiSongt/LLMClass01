{
 "cells": [
  {
   "cell_type": "markdown",
   "metadata": {},
   "source": [
    "## 四种文档处理链\n",
    "\n",
    "- stuff\n",
    "- refine\n",
    "\n",
    "### **StuffChain**\n",
    "最常见的文档链，将文档直接塞进Prompt中，为LLM回答问题提供上下文资料，适合小文档的场景\n",
    "#### **代码示例**"
   ]
  },
  {
   "cell_type": "code",
   "execution_count": 6,
   "metadata": {},
   "outputs": [
    {
     "name": "stdout",
     "output_type": "stream",
     "text": [
      "<langchain_community.document_loaders.pdf.PyPDFLoader object at 0x10efedbd0>\n"
     ]
    },
    {
     "name": "stderr",
     "output_type": "stream",
     "text": [
      "/var/folders/d6/8jzk9xqn419djvdnx23ft3y40000gn/T/ipykernel_84007/80839697.py:23: LangChainDeprecationWarning: This class is deprecated. Use the `create_stuff_documents_chain` constructor instead. See migration guide here: https://python.langchain.com/docs/versions/migrating_chains/stuff_docs_chain/\n",
      "  stuff_chain = StuffDocumentsChain(\n",
      "Ignoring wrong pointing object 7 0 (offset 0)\n",
      "Ignoring wrong pointing object 18 0 (offset 0)\n",
      "Ignoring wrong pointing object 19 0 (offset 0)\n",
      "/var/folders/d6/8jzk9xqn419djvdnx23ft3y40000gn/T/ipykernel_84007/80839697.py:29: LangChainDeprecationWarning: The method `Chain.run` was deprecated in langchain 0.1.0 and will be removed in 1.0. Use :meth:`~invoke` instead.\n",
      "  result = stuff_chain.run(docs)\n"
     ]
    },
    {
     "name": "stdout",
     "output_type": "stream",
     "text": [
      "这是一份电吉他教学服务合同。 \n",
      "\n",
      "**简要内容：**\n",
      "\n",
      "* 合同编号： \n",
      "* 学员姓名、身份证号和联系方式\n",
      "* 教师姓名、身份证号和联系方式\n",
      "* 合同主体：\n",
      "\t+ 学员承诺按时付费并配合教学安排\n",
      "\t+ 教师承诺提供高质量的一对一教学服务\n",
      "* 教学服务内容：\n",
      "\t+ 电吉他教学（含必要配件）\n",
      "\t+ 帮助学生掌握电吉他基本演奏技巧、音阶、和弦、节奏及即兴演奏能力\n",
      "\t+ 学习方式：一对一面授，结合理论讲解、示范演奏与实践练习\n",
      "* 教学安排：\n",
      "\t+ 服务地点：指定教学场所（详细地址）\n",
      "\t+ 单次服务时间和课程周期\n",
      "\t+ 课程阶段：根据学生水平动态调整\n",
      "* 教学费用：\n",
      "\t+ 收费标准：人民币xx元/课时（含税），总费用xx元\n",
      "\t+ 支付方式：首期费用合同签订后3天内支付，剩余费用每完成5课时支付\n",
      "\t+ 退费政策：因学生原因退课，开课前全额退款；开课后按未完成课时比例扣除费用\n",
      "* 双方权利与义务：\n",
      "\t+ 学员义务：提供符合教学要求的环境，并按时参加课程\n",
      "\t+ 教师义务：制定个性化教学计划并定期反馈进度，保证教学质量，不得泄露学生隐私\n",
      "* 违约责任：\n",
      "\t+ 学生逾期支付费用超过7天，教师有权暂停授课并要求支付每日0.5%滞纳金\n",
      "\t+ 教师未达标完成教学任务，需退还相应课时费用\n",
      "* 争议解决：双方协商解决，协商不成可向法院提起诉讼\n"
     ]
    }
   ],
   "source": [
    "from langchain.chains.combine_documents.stuff import StuffDocumentsChain\n",
    "from langchain.chains.llm import LLMChain\n",
    "from langchain.prompts import PromptTemplate\n",
    "from langchain.document_loaders import PyPDFLoader\n",
    "from langchain_ollama import ChatOllama\n",
    "\n",
    "loader = PyPDFLoader(\"../03-ChatDoc/files/file.pdf\")\n",
    "print(loader)\n",
    "\n",
    "prompt_template = \"\"\"对以下文字做简要总结：\n",
    "{text}\n",
    "总结：\"\"\"\n",
    "\n",
    "prompt = PromptTemplate.from_template(prompt_template)\n",
    "\n",
    "llm = ChatOllama(model=\"llama3.1:8b\")\n",
    "\n",
    "llm_chain = LLMChain(\n",
    "  llm=llm,\n",
    "  prompt=prompt\n",
    ")\n",
    "\n",
    "stuff_chain = StuffDocumentsChain(\n",
    "  llm_chain=llm_chain,\n",
    "  document_variable_name=\"text\"\n",
    ")\n",
    "\n",
    "docs = loader.load()\n",
    "result = stuff_chain.run(docs)\n",
    "print(result)\n"
   ]
  }
 ],
 "metadata": {
  "kernelspec": {
   "display_name": "rag",
   "language": "python",
   "name": "python3"
  },
  "language_info": {
   "codemirror_mode": {
    "name": "ipython",
    "version": 3
   },
   "file_extension": ".py",
   "mimetype": "text/x-python",
   "name": "python",
   "nbconvert_exporter": "python",
   "pygments_lexer": "ipython3",
   "version": "3.13.2"
  }
 },
 "nbformat": 4,
 "nbformat_minor": 2
}
