{
 "cells": [
  {
   "cell_type": "markdown",
   "metadata": {},
   "source": [
    "## 四种文档处理链\n",
    "\n",
    "- stuff\n",
    "- refine\n",
    "\n",
    "### **StuffChain**\n",
    "最常见的文档链，将文档直接塞进Prompt中，为LLM回答问题提供上下文资料，适合小文档的场景\n",
    "#### **代码示例**"
   ]
  },
  {
   "cell_type": "code",
   "execution_count": 11,
   "metadata": {},
   "outputs": [
    {
     "name": "stderr",
     "output_type": "stream",
     "text": [
      "Ignoring wrong pointing object 7 0 (offset 0)\n",
      "Ignoring wrong pointing object 18 0 (offset 0)\n",
      "Ignoring wrong pointing object 19 0 (offset 0)\n"
     ]
    },
    {
     "name": "stdout",
     "output_type": "stream",
     "text": [
      "<langchain_community.document_loaders.pdf.PyPDFLoader object at 0x10fefe990>\n",
      "\n",
      "\n",
      "\u001b[1m> Entering new StuffDocumentsChain chain...\u001b[0m\n",
      "\n",
      "\u001b[1m> Finished chain.\u001b[0m\n",
      "该合同主要内容包括：合同主体、教学服务内容、教学安排、教学费用的支付方式和退费政策等。\n"
     ]
    }
   ],
   "source": [
    "from langchain.chains.combine_documents.stuff import StuffDocumentsChain\n",
    "from langchain.chains.llm import LLMChain\n",
    "from langchain.prompts import PromptTemplate\n",
    "from langchain.document_loaders import PyPDFLoader\n",
    "from langchain_ollama import ChatOllama\n",
    "\n",
    "loader = PyPDFLoader(\"../03-ChatDoc/files/file.pdf\")\n",
    "print(loader)\n",
    "\n",
    "prompt_template = \"\"\"用一句话对以下文字做简要总结：\n",
    "{text}\n",
    "总结：\"\"\"\n",
    "\n",
    "prompt = PromptTemplate.from_template(prompt_template)\n",
    "\n",
    "llm = ChatOllama(model=\"llama3.1:8b\")\n",
    "\n",
    "llm_chain = LLMChain(\n",
    "  llm=llm,\n",
    "  prompt=prompt\n",
    ")\n",
    "\n",
    "stuff_chain = StuffDocumentsChain(\n",
    "  llm_chain=llm_chain,\n",
    "  document_variable_name=\"text\",\n",
    "  verbose=True\n",
    ")\n",
    "\n",
    "docs = loader.load()\n",
    "result = stuff_chain.run(docs)\n",
    "print(result)\n"
   ]
  },
  {
   "cell_type": "markdown",
   "metadata": {},
   "source": [
    "### 使用已经封装好的 load_summarize_chain"
   ]
  },
  {
   "cell_type": "code",
   "execution_count": 12,
   "metadata": {},
   "outputs": [
    {
     "name": "stdout",
     "output_type": "stream",
     "text": [
      "\n",
      "\n",
      "\u001b[1m> Entering new StuffDocumentsChain chain...\u001b[0m\n",
      "\n",
      "\n",
      "\u001b[1m> Entering new LLMChain chain...\u001b[0m\n",
      "Prompt after formatting:\n",
      "\u001b[32;1m\u001b[1;3mWrite a concise summary of the following:\n",
      "\n",
      "\n",
      "\"电吉他教学服务合同  合同编号：_______________   \n",
      "甲⽅（学员/家⻓）：   \n",
      "姓名：___________________________   \n",
      "身份证号：_______________________   \n",
      "联系⽅式：_______________________ \n",
      "⼄⽅（教师）：   \n",
      "姓名：___________________________   \n",
      "身份证号：_______________________   \n",
      "联系⽅式：_______________________ \n",
      "第⼀条 合同主体   \n",
      "1. 甲⽅为学员本⼈或法定监护⼈，具有签订本合同的权利和能⼒，需按时⽀付教学费⽤并配合教学\n",
      "安排。   \n",
      "2. ⼄⽅ _____________________ 专业教师，承诺提供⾼质量的⼀对⼀教学服务。   \n",
      "第⼆条 教学服务内容 \n",
      "1. 教学乐器：电吉他（含必要配件，如效果器、拨⽚等）。   \n",
      "2. 教学⽬标：通过系统教学，帮助学员掌握电吉他基本演奏技巧、⾳阶、和弦、节奏及即兴演奏能\n",
      "⼒，提升⾳乐表现⼒。   \n",
      "3. 教学⽅式：采⽤⼀对⼀⾯授⽅式，结合理论讲解、示范演奏与实践练习。   \n",
      "第三条 教学安排  \n",
      "1. 服务地点：⼄⽅指定教学场所（详细地址：__________________________________________），\n",
      "如需变更需提前3⽇协商⼀致。   \n",
      "2. 单次服务时间：   \n",
      "   - 每次课程时⻓：_________⼩时（建议45分钟-1⼩时）   \n",
      "   - 课程周期：⾃_________年_________⽉_________⽇起⾄_________年_________⽉_________⽇\n",
      "⽌，每周_________次。   \n",
      "3. 课程阶段：根据学员⽔平动态调整，初期侧重基础技巧，后期逐步增加复杂曲⽬与即兴创作。   \n",
      " ⻚码： /1 2\n",
      "\n",
      "第四条 教学费⽤ \n",
      "1. 收费标准：⼈⺠币_________元/课时（含税），总费⽤_________元。   \n",
      "2. ⽀付⽅式：   \n",
      "   - ⾸期费⽤：合同签订后3⽇内⽀付总费⽤的30%   \n",
      "   - 后续费⽤：每完成5课时⽀付剩余费⽤（建议通过银⾏转账，备注“电吉他课程费”）。   \n",
      "3. 退费政策：   \n",
      "   - 因甲⽅原因退课：开课前全额退款；开课后按未完成课时⽐例扣除费⽤（单课时最低收费\n",
      "50%）。   \n",
      "   - 因⼄⽅原因⽆法授课：全额退款并补偿已消耗课时费⽤。   \n",
      "   - 若有特殊情况，双⽅可协商⼀致退费。 \n",
      "第五条 双⽅权利与义务  \n",
      "甲⽅义务: \n",
      "- 提供符合教学要求的环境（如安静、有电源插座）。   \n",
      "- 按时参加课程，特殊情况需提前24⼩时通知⼄⽅。   \n",
      "⼄⽅义务:   \n",
      "- 制定个性化教学计划并定期反馈进度。   \n",
      "- 保证教学质量，不得泄露学员隐私。   \n",
      "第六条 违约责任  \n",
      "1. 甲⽅逾期⽀付费⽤超过7⽇，⼄⽅有权暂停授课并要求⽀付每⽇0.5%滞纳⾦。   \n",
      "2. ⼄⽅未达标完成教学任务，需退还相应课时费⽤（按实际完成⽐例计算）。   \n",
      "第七条 争议解决 \n",
      "合同履⾏中发⽣争议，双⽅应协商解决；协商不成可向⼄⽅所在地⼈⺠法院提起诉讼。   \n",
      "第⼋条 其他条款 \n",
      "1. 本合同⼀式两份，甲⼄双⽅各执⼀份，⾃签字后⽣效。   \n",
      "2. 未尽事宜可签订补充协议，与本合同具有同等效⼒。   \n",
      "3. 此合同最终解释权归⼄⽅所有。 \n",
      "甲⽅签字：______________  ⽇期：_______年___⽉___⽇   \n",
      "⼄⽅签字：______________  ⽇期：_______年___⽉___⽇  \n",
      " ⻚码： /2 2\"\n",
      "\n",
      "\n",
      "CONCISE SUMMARY:\u001b[0m\n",
      "\n",
      "\u001b[1m> Finished chain.\u001b[0m\n",
      "\n",
      "\u001b[1m> Finished chain.\u001b[0m\n",
      "Here is a concise summary of the Electric Guitar Teaching Service Contract:\n",
      "\n",
      "**Contract Overview**\n",
      "\n",
      "This contract outlines the terms and conditions between a student/parent (甲方) and an electric guitar teacher (乙方). The contract specifies the service details, payment terms, and responsibilities of both parties.\n",
      "\n",
      "**Key Points**\n",
      "\n",
      "* The teacher will provide one-on-one teaching services to help the student master basic playing skills, music theory, and improvisation.\n",
      "* The contract specifies the duration, frequency, and location of lessons.\n",
      "* Payment terms include a 30% deposit within 3 days of signing, with remaining fees paid in installments after every 5 lessons.\n",
      "* Refund policies are outlined for cancellations due to student or teacher reasons.\n",
      "* Both parties have specific responsibilities, including preparation for classes and maintaining teaching quality.\n",
      "\n",
      "**Duration and Termination**\n",
      "\n",
      "The contract is valid for a specified period, with options to terminate early. In case of disputes, both parties agree to negotiate in good faith before seeking external resolution.\n"
     ]
    }
   ],
   "source": [
    "from langchain.chains.summarize import load_summarize_chain\n",
    "\n",
    "load_sum_chain = load_summarize_chain(\n",
    "  llm=llm,\n",
    "  chain_type=\"stuff\",\n",
    "  verbose=True\n",
    ")\n",
    "\n",
    "print(load_sum_chain.run(docs))"
   ]
  }
 ],
 "metadata": {
  "kernelspec": {
   "display_name": "rag",
   "language": "python",
   "name": "python3"
  },
  "language_info": {
   "codemirror_mode": {
    "name": "ipython",
    "version": 3
   },
   "file_extension": ".py",
   "mimetype": "text/x-python",
   "name": "python",
   "nbconvert_exporter": "python",
   "pygments_lexer": "ipython3",
   "version": "3.13.2"
  }
 },
 "nbformat": 4,
 "nbformat_minor": 2
}
