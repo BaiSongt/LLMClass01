{
 "cells": [
  {
   "cell_type": "markdown",
   "metadata": {},
   "source": [
    "# 不同的Memory工具\n",
    "- 短时记忆： 存储在内存中\n",
    "- 构建记忆实体清单\n",
    "- 接入知识图谱\n",
    "- 长对话在内存中的处理方式\n",
    "- 长时记忆的实现方式"
   ]
  },
  {
   "cell_type": "markdown",
   "metadata": {},
   "source": [
    "### 1 短时记忆 内存中的短时记忆\n",
    "- ConversationBufferMemory\n",
    "- ConversationBufferWindowMemory"
   ]
  },
  {
   "cell_type": "code",
   "execution_count": 16,
   "metadata": {},
   "outputs": [
    {
     "data": {
      "text/plain": [
       "{'history': 'Human: 你好，我是人类\\nAI: 你好，我是人工智能助手 凯影，有什么需要帮助的吗'}"
      ]
     },
     "execution_count": 16,
     "metadata": {},
     "output_type": "execute_result"
    }
   ],
   "source": [
    "from langchain.memory import ConversationBufferMemory\n",
    "\n",
    "memory = ConversationBufferMemory()\n",
    "memory.chat_memory.add_user_message(\"你好，我是人类\")\n",
    "memory.chat_memory.add_ai_message(\"你好，我是人工智能助手 凯影，有什么需要帮助的吗\")\n",
    "\n",
    "memory.load_memory_variables({})"
   ]
  },
  {
   "cell_type": "code",
   "execution_count": 17,
   "metadata": {},
   "outputs": [
    {
     "data": {
      "text/plain": [
       "{'history': 'Human: 你好，我饿了\\nAI: 你有什么忌口吗？我给你提供食谱'}"
      ]
     },
     "execution_count": 17,
     "metadata": {},
     "output_type": "execute_result"
    }
   ],
   "source": [
    "# 实现一个最近的对话窗口，超过窗口条数的对话将被删除\n",
    "from langchain.memory import ConversationBufferWindowMemory\n",
    "memory = ConversationBufferWindowMemory(k=1)\n",
    "# 对话条目\n",
    "memory.save_context({'input': \"你好，我是人类\"}, {\"output\":\"你好，我是人工智能助手XXX，有什么需要帮助的吗\"})\n",
    "memory.save_context({'input': \"你好，我饿了\"}, {\"output\":\"你有什么忌口吗？我给你提供食谱\"})\n",
    "# 测试输出\n",
    "memory.load_memory_variables({})"
   ]
  },
  {
   "cell_type": "markdown",
   "metadata": {},
   "source": [
    "### 2 构建记忆实体清单 \n",
    "- ConversationEntityMemory"
   ]
  },
  {
   "cell_type": "code",
   "execution_count": 39,
   "metadata": {},
   "outputs": [
    {
     "data": {
      "text/plain": [
       "{'history': '', 'entities': {'胡万': '', '麻匪': '', '九桶': '', '四桶': ''}}"
      ]
     },
     "execution_count": 39,
     "metadata": {},
     "output_type": "execute_result"
    }
   ],
   "source": [
    "from langchain_ollama import OllamaLLM\n",
    "from langchain.memory import ConversationEntityMemory\n",
    "\n",
    "# llm = OllamaLLM(model=\"deepseek-r1:1.5b\", temperature= 0)\n",
    "llm = OllamaLLM(model=\"qwen2.5:latest\", temperature= 0)\n",
    "\n",
    "memory = ConversationEntityMemory(llm=llm)\n",
    "_input = {\n",
    "  \"input\":\"胡万和麻匪在半夜火拼，九桶和四桶被打死了，胡万被埋了\"\n",
    "}\n",
    "\n",
    "memory.load_memory_variables(_input)"
   ]
  },
  {
   "cell_type": "code",
   "execution_count": 40,
   "metadata": {},
   "outputs": [
    {
     "data": {
      "text/plain": [
       "{'history': 'Human: 胡万和麻匪在半夜火拼，九桶和四桶被打死了，胡万被埋了\\nAI: 好刺激，我也想加入', 'entities': {}}"
      ]
     },
     "execution_count": 40,
     "metadata": {},
     "output_type": "execute_result"
    }
   ],
   "source": [
    "memory.save_context(_input,\n",
    "  {\n",
    "    \"output\":\"好刺激，我也想加入\"\n",
    "  }\n",
    ")\n",
    "memory.load_memory_variables({\"input\":\"我该加入谁？\"})"
   ]
  },
  {
   "cell_type": "markdown",
   "metadata": {},
   "source": [
    "### 3 使用知识图谱构建记忆 \n",
    "- ConversationKGMemory"
   ]
  },
  {
   "cell_type": "code",
   "execution_count": 35,
   "metadata": {},
   "outputs": [],
   "source": [
    "from langchain_ollama import OllamaLLM\n",
    "from langchain.memory import ConversationKGMemory\n",
    "\n",
    "# llm = OllamaLLM(model=\"deepseek-r1:1.5b\")\n",
    "llm = OllamaLLM(model=\"qwen2.5:latest\")\n",
    "\n",
    "memory = ConversationKGMemory(llm=llm)\n",
    "\n",
    "# 构建知识谱\n",
    "memory.save_context(\n",
    "  {\"input\":\"帮我找一下发财\"},\n",
    "  {\"output\":\"请问发财是什么？\"}\n",
    ")\n",
    "memory.save_context(\n",
    "  {\"input\":\"发财是一只黑色小猫咪\"},\n",
    "  {\"output\":\"好的我知道了。\"}\n",
    ")"
   ]
  },
  {
   "cell_type": "code",
   "execution_count": 36,
   "metadata": {},
   "outputs": [
    {
     "data": {
      "text/plain": [
       "{'history': 'On 发财: 发财 是 黑色小猫咪.'}"
      ]
     },
     "execution_count": 36,
     "metadata": {},
     "output_type": "execute_result"
    }
   ],
   "source": [
    "# 如何使用知识谱记忆\n",
    "# 增加一条条目\n",
    "memory.load_memory_variables({\"input\":\"发财是什么？\"})"
   ]
  },
  {
   "cell_type": "code",
   "execution_count": 37,
   "metadata": {},
   "outputs": [
    {
     "data": {
      "text/plain": [
       "['发财']"
      ]
     },
     "execution_count": 37,
     "metadata": {},
     "output_type": "execute_result"
    }
   ],
   "source": [
    "# 如何使用知识谱记忆\n",
    "memory.get_current_entities(\"发财喜欢做什么？\")"
   ]
  },
  {
   "cell_type": "code",
   "execution_count": 38,
   "metadata": {},
   "outputs": [
    {
     "data": {
      "text/plain": [
       "[KnowledgeTriple(subject='D衰退', predicate='likes to', object_='run everywhere')]"
      ]
     },
     "execution_count": 38,
     "metadata": {},
     "output_type": "execute_result"
    }
   ],
   "source": [
    "# 获取知识图谱 三元结构拆解\n",
    "memory.get_knowledge_triplets(\"发财喜欢到处跑\")"
   ]
  },
  {
   "cell_type": "markdown",
   "metadata": {},
   "source": [
    "### 4 长对话在内存中的处理方式 ConversationSummaryMemory\n",
    "- 总结摘要\n",
    "   - ConversationSummaryMemory\n",
    "   - ChatMessageHistory \n",
    "- 计算Token\n",
    "   - ConversationTokenBufferMemory"
   ]
  },
  {
   "cell_type": "code",
   "execution_count": 43,
   "metadata": {},
   "outputs": [],
   "source": [
    "from langchain.memory import ConversationSummaryMemory\n",
    "from langchain_ollama import OllamaLLM\n",
    "\n",
    "llm = OllamaLLM(model=\"llama3.1:8b\",temperature=0)\n",
    "\n",
    "memory = ConversationSummaryMemory(llm=llm)\n",
    "\n",
    "memory.save_context(\n",
    "  {\"input\":\"帮我找一下发财\"},\n",
    "  {\"output\":\"请问发财是什么？\"}\n",
    ")\n",
    "memory.save_context(\n",
    "  {\"input\":\"发财是一只黑色小猫咪\"},\n",
    "  {\"output\":\"好的我知道了。\"}\n",
    ")"
   ]
  },
  {
   "cell_type": "code",
   "execution_count": null,
   "metadata": {},
   "outputs": [
    {
     "data": {
      "text/plain": [
       "{'history': 'The human asks the AI to find something called \"发财\", but the AI is initially unsure. The human clarifies that \"发财\" refers to a black cat, and the AI understands what it means now.'}"
      ]
     },
     "execution_count": 44,
     "metadata": {},
     "output_type": "execute_result"
    }
   ],
   "source": [
    "# 把上面的对话内容摘要成一句话\n",
    "memory.load_memory_variables({})"
   ]
  },
  {
   "cell_type": "code",
   "execution_count": 46,
   "metadata": {},
   "outputs": [
    {
     "data": {
      "text/plain": [
       "'The human asks the AI to find something called \"发财\" (which translates to \"getting rich\"). The AI is unsure what \"发财\" refers to, but the human clarifies that it\\'s a black cat. The AI acknowledges understanding now.'"
      ]
     },
     "execution_count": 46,
     "metadata": {},
     "output_type": "execute_result"
    }
   ],
   "source": [
    "messages = memory.chat_memory.messages\n",
    "memory.predict_new_summary(messages,\"\")"
   ]
  },
  {
   "cell_type": "code",
   "execution_count": 48,
   "metadata": {},
   "outputs": [
    {
     "data": {
      "text/plain": [
       "'Here\\'s the updated summary:\\n\\nThe human greets the AI in Chinese, saying \"你好，我是人类\" (nǐ hǎo, wǒ shì rén lèi). The AI responds in a playful tone, introducing itself as \"发财，一只快乐的小猫咪\" (fā cái, yī zhī kuài lè de xiǎo māo mī), which roughly translates to \"Get rich, a happy little cat\".'"
      ]
     },
     "execution_count": 48,
     "metadata": {},
     "output_type": "execute_result"
    }
   ],
   "source": [
    "# 通过ChatMessageHistory快速获得对话摘要\n",
    "\n",
    "from langchain.memory import ChatMessageHistory\n",
    "\n",
    "history = ChatMessageHistory()\n",
    "history.add_user_message(\"你好，我是人类\")\n",
    "history.add_ai_message(\"你好，我是发财，一只快乐的小猫咪\")\n",
    "\n",
    "memory = ConversationSummaryMemory.from_messages(\n",
    "  llm=OllamaLLM(model=\"llama3.1:8b\",temperature=0),\n",
    "  chat_memory=history,\n",
    "  return_messages=True\n",
    ")\n",
    "memory.buffer"
   ]
  },
  {
   "cell_type": "markdown",
   "metadata": {},
   "source": [
    "- 当对话持续进行且对话内容很多的时候\n",
    "- 我们可以使用ConversationSummaryBufferMemory来存对话摘要\n",
    "- 这是一种非常有用的方式，他会根据Token消耗数目来自动判断是否需要进行摘要\n",
    "- 比较久的对话会被删除， 在删除前会进行摘要"
   ]
  },
  {
   "cell_type": "code",
   "execution_count": null,
   "metadata": {},
   "outputs": [
    {
     "data": {
      "text/plain": [
       "[SystemMessage(content='Here is the new summary:\\n\\nThe human asks the AI to find something called \"发财\", which the AI doesn\\'t understand. The human explains that \"发财\" refers to a black cat.\\n\\nLet me know when you\\'re ready to add more lines of conversation!', additional_kwargs={}, response_metadata={}),\n",
       " AIMessage(content='好的我知道了。', additional_kwargs={}, response_metadata={}),\n",
       " HumanMessage(content='发财喜欢在房间里到处跑', additional_kwargs={}, response_metadata={}),\n",
       " AIMessage(content='好的我知道的， 还有别的特点吗？。', additional_kwargs={}, response_metadata={})]"
      ]
     },
     "execution_count": 59,
     "metadata": {},
     "output_type": "execute_result"
    }
   ],
   "source": [
    "from langchain.memory import ConversationSummaryBufferMemory\n",
    "from langchain_ollama import OllamaLLM\n",
    "\n",
    "llm = OllamaLLM(model=\"llama3.1:8b\",temperature=0)\n",
    "\n",
    "# 可以根据Token 的长度让llm自行总结前面的对话内容\n",
    "memory = ConversationSummaryBufferMemory(llm=llm, max_token_limit=100,return_messages=True)\n",
    "# memory = ConversationSummaryBufferMemory(llm=llm, max_token_limit=20,return_messages=True)\n",
    "\n",
    "memory.save_context(\n",
    "  {\"input\":\"帮我找一下发财\"},\n",
    "  {\"output\":\"请问发财是什么？\"}\n",
    ")\n",
    "memory.save_context(\n",
    "  {\"input\":\"发财是一只黑色小猫咪\"},\n",
    "  {\"output\":\"好的我知道了。\"}\n",
    ")\n",
    "memory.save_context(\n",
    "  {\"input\":\"发财喜欢在房间里到处跑\"},\n",
    "  {\"output\":\"好的我知道的， 还有别的特点吗？。\"}\n",
    ")\n",
    "\n",
    "memory.buffer"
   ]
  },
  {
   "cell_type": "code",
   "execution_count": 60,
   "metadata": {},
   "outputs": [
    {
     "data": {
      "text/plain": [
       "{'history': [SystemMessage(content='Here is the new summary:\\n\\nThe human asks the AI to find something called \"发财\", which the AI doesn\\'t understand. The human explains that \"发财\" refers to a black cat.\\n\\nLet me know when you\\'re ready to add more lines of conversation!', additional_kwargs={}, response_metadata={}),\n",
       "  AIMessage(content='好的我知道了。', additional_kwargs={}, response_metadata={}),\n",
       "  HumanMessage(content='发财喜欢在房间里到处跑', additional_kwargs={}, response_metadata={}),\n",
       "  AIMessage(content='好的我知道的， 还有别的特点吗？。', additional_kwargs={}, response_metadata={})]}"
      ]
     },
     "execution_count": 60,
     "metadata": {},
     "output_type": "execute_result"
    }
   ],
   "source": [
    "memory.load_memory_variables({})"
   ]
  },
  {
   "cell_type": "markdown",
   "metadata": {},
   "source": [
    "#### ConversationTokenBuffer 使用Token长度来决定什么时候刷新内存"
   ]
  },
  {
   "cell_type": "code",
   "execution_count": 64,
   "metadata": {},
   "outputs": [
    {
     "data": {
      "text/plain": [
       "[HumanMessage(content='发财喜欢在房间里到处跑', additional_kwargs={}, response_metadata={}),\n",
       " AIMessage(content='好的我知道的， 还有别的特点吗？。', additional_kwargs={}, response_metadata={}),\n",
       " HumanMessage(content='发财喜欢睡觉，发财喜欢拉粑粑', additional_kwargs={}, response_metadata={}),\n",
       " AIMessage(content='好的我知道的。还有别的吗？', additional_kwargs={}, response_metadata={}),\n",
       " HumanMessage(content='发财喜欢钻到犄角旮旯，就这些了', additional_kwargs={}, response_metadata={}),\n",
       " AIMessage(content='好的我知道的', additional_kwargs={}, response_metadata={})]"
      ]
     },
     "execution_count": 64,
     "metadata": {},
     "output_type": "execute_result"
    }
   ],
   "source": [
    "from langchain.memory import ConversationTokenBufferMemory\n",
    "from langchain_ollama import OllamaLLM\n",
    "\n",
    "llm = OllamaLLM(model=\"llama3.1:8b\",temperature=0)\n",
    "\n",
    "memory = ConversationTokenBufferMemory(llm=llm, max_token_limit=200,return_messages=True)\n",
    "# memory = ConversationTokenBufferMemory(llm=llm, max_token_limit=20,return_messages=True)\n",
    "\n",
    "memory.save_context(\n",
    "  {\"input\":\"帮我找一下发财\"},\n",
    "  {\"output\":\"请问发财是什么？\"}\n",
    ")\n",
    "memory.save_context(\n",
    "  {\"input\":\"发财是一只黑色小猫咪\"},\n",
    "  {\"output\":\"好的我知道了。\"}\n",
    ")\n",
    "memory.save_context(\n",
    "  {\"input\":\"发财喜欢在房间里到处跑\"},\n",
    "  {\"output\":\"好的我知道的， 还有别的特点吗？。\"}\n",
    ")\n",
    "memory.save_context(\n",
    "  {\"input\":\"发财喜欢睡觉，发财喜欢拉粑粑\"},\n",
    "  {\"output\":\"好的我知道的。还有别的吗？\"}\n",
    ")\n",
    "memory.save_context(\n",
    "  {\"input\":\"发财喜欢钻到犄角旮旯，就这些了\"},\n",
    "  {\"output\":\"好的我知道的\"}\n",
    ")\n",
    "memory.buffer"
   ]
  },
  {
   "cell_type": "markdown",
   "metadata": {},
   "source": [
    "### 5 长时记忆的实现方式\n",
    "\n",
    "通过向量数据库存之前的对话内容，有的向量数据库会自动摘要，每次对话的时候，都会从向量数据库里查询文档或者对话历史"
   ]
  },
  {
   "cell_type": "code",
   "execution_count": null,
   "metadata": {},
   "outputs": [],
   "source": [
    "from langchain.embeddings.openai import OpenAIEmbeddings\n",
    "from langchain.memory import ConversationBufferMemory\n",
    "from langchain.vectorstores import FAISS\n",
    "from langchain_ollama import OllamaEmbeddings, OllamaLLM"
   ]
  },
  {
   "cell_type": "code",
   "execution_count": 76,
   "metadata": {},
   "outputs": [
    {
     "data": {
      "text/plain": [
       "'Human: 帮我找一下发财\\nAI: 请问发财是什么？\\nHuman: 发财是一只黑色小猫咪\\nAI: 好的我知道了。\\nHuman: 发财喜欢在房间里到处跑\\nAI: 好的我知道的， 还有别的特点吗？。\\nHuman: 发财喜欢睡觉，发财喜欢拉粑粑\\nAI: 好的我知道的。还有别的吗？\\nHuman: 发财喜欢钻到犄角旮旯，就这些了\\nAI: 好的我知道的'"
      ]
     },
     "execution_count": 76,
     "metadata": {},
     "output_type": "execute_result"
    }
   ],
   "source": [
    "memory = ConversationBufferMemory()\n",
    "memory.save_context(\n",
    "  {\"input\":\"帮我找一下发财\"},\n",
    "  {\"output\":\"请问发财是什么？\"}\n",
    ")\n",
    "memory.save_context(\n",
    "  {\"input\":\"发财是一只黑色小猫咪\"},\n",
    "  {\"output\":\"好的我知道了。\"}\n",
    ")\n",
    "memory.save_context(\n",
    "  {\"input\":\"发财喜欢在房间里到处跑\"},\n",
    "  {\"output\":\"好的我知道的， 还有别的特点吗？。\"}\n",
    ")\n",
    "memory.save_context(\n",
    "  {\"input\":\"发财喜欢睡觉，发财喜欢拉粑粑\"},\n",
    "  {\"output\":\"好的我知道的。还有别的吗？\"}\n",
    ")\n",
    "memory.save_context(\n",
    "  {\"input\":\"发财喜欢钻到犄角旮旯，就这些了\"},\n",
    "  {\"output\":\"好的我知道的\"}\n",
    ")\n",
    "memory.buffer"
   ]
  },
  {
   "cell_type": "code",
   "execution_count": 83,
   "metadata": {},
   "outputs": [],
   "source": [
    "# 定义数据库\n",
    "# Define the vectorstore\n",
    "bed = OllamaEmbeddings(model=\"nomic-embed-text:latest\")\n",
    "texts = f\"{memory.buffer}\".split('\\n')\n",
    "vectorstore = FAISS.from_texts(\n",
    "  texts=texts,\n",
    "  embedding=bed\n",
    ")\n",
    "FAISS.save_local(vectorstore, \"test_faiss\")"
   ]
  },
  {
   "cell_type": "code",
   "execution_count": 88,
   "metadata": {},
   "outputs": [
    {
     "data": {
      "text/plain": [
       "[Document(id='32d192c6-092c-4eec-8876-5363cfb7e808', metadata={}, page_content='AI: 请问发财是什么？'),\n",
       " Document(id='5f5ae85d-730b-4a0b-a2d8-43c6c26bb6ed', metadata={}, page_content='Human: 发财是一只黑色小猫咪'),\n",
       " Document(id='5b2b6d77-cf65-4a31-8461-b7e1b58b82f9', metadata={}, page_content='AI: 好的我知道了。'),\n",
       " Document(id='3f291f1d-d5a2-4536-949c-469b476d4938', metadata={}, page_content='Human: 帮我找一下发财')]"
      ]
     },
     "execution_count": 88,
     "metadata": {},
     "output_type": "execute_result"
    }
   ],
   "source": [
    "# 验证数据看\n",
    "\n",
    "FAISS.load_local(\"test_faiss\", bed,\n",
    "                 allow_dangerous_deserialization=True).similarity_search(\"发财\")"
   ]
  },
  {
   "cell_type": "code",
   "execution_count": null,
   "metadata": {},
   "outputs": [
    {
     "data": {
      "text/plain": [
       "{'history': 'AI: 请问发财是什么？\\nAI: 好的我知道的。还有别的吗？\\nAI: 好的我知道的， 还有别的特点吗？。\\nHuman: 发财是一只黑色小猫咪'}"
      ]
     },
     "execution_count": 92,
     "metadata": {},
     "output_type": "execute_result"
    }
   ],
   "source": [
    "from langchain.vectorstores import FAISS\n",
    "from langchain_ollama import OllamaEmbeddings\n",
    "from langchain.memory import VectorStoreRetrieverMemory\n",
    "\n",
    "r1 = FAISS.load_local(\"test_faiss\", bed, allow_dangerous_deserialization=True)\n",
    "r2 = r1.as_retriever(search_kwargs={\"k\":4})\n",
    "\n",
    "memory2 = VectorStoreRetrieverMemory(retriever=r2)\n",
    "memory2.load_memory_variables({\"prompt\":\"发财是什么？\"})\n",
    "\n",
    "## memory2 是新建的memory 从 r1数据库中来"
   ]
  }
 ],
 "metadata": {
  "kernelspec": {
   "display_name": "rag",
   "language": "python",
   "name": "python3"
  },
  "language_info": {
   "codemirror_mode": {
    "name": "ipython",
    "version": 3
   },
   "file_extension": ".py",
   "mimetype": "text/x-python",
   "name": "python",
   "nbconvert_exporter": "python",
   "pygments_lexer": "ipython3",
   "version": "3.13.2"
  }
 },
 "nbformat": 4,
 "nbformat_minor": 2
}
