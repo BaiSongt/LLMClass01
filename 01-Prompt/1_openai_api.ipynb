{
 "cells": [
  {
   "cell_type": "markdown",
   "metadata": {},
   "source": [
    "## OpenAI API "
   ]
  },
  {
   "cell_type": "code",
   "execution_count": null,
   "metadata": {},
   "outputs": [],
   "source": [
    "from langchain.prompts import PromptTemplate\n",
    "from langchain.llms import OpenAI\n",
    "import os\n",
    "\n",
    "openai_api_key = os.getenv(\"OPENAI_API_KEY\")\n",
    "# openai_base_url = os.getenv(\"\")\n",
    "\n",
    "llm = OpenAI(\n",
    "  model=\"gpt-4o\",\n",
    "  openai_api_key=openai_api_key,\n",
    "  # openai_base_url=openai_base_url,\n",
    ")\n",
    "\n",
    "prompt = PromptTemplate.from_template(\"你是一个{area}专家\")\n",
    "prompt.format(area=\"AI模型\")\n",
    "print(llm.invoke(prompt.format(area=\"AI模型\")))\n"
   ]
  }
 ],
 "metadata": {
  "kernelspec": {
   "display_name": "AI_Class",
   "language": "python",
   "name": "python3"
  },
  "language_info": {
   "codemirror_mode": {
    "name": "ipython",
    "version": 3
   },
   "file_extension": ".py",
   "mimetype": "text/x-python",
   "name": "python",
   "nbconvert_exporter": "python",
   "pygments_lexer": "ipython3",
   "version": "3.12.9"
  }
 },
 "nbformat": 4,
 "nbformat_minor": 2
}
