{
 "cells": [
  {
   "cell_type": "markdown",
   "metadata": {},
   "source": [
    "## 序列化，使用文件来管理提示词模板\n",
    "- 便于共享提示词\n",
    "- 便于管理提示词\n",
    "- 便于开发和存储\n",
    "- 支持常见格式 json yaml txt"
   ]
  },
  {
   "cell_type": "code",
   "execution_count": 10,
   "metadata": {},
   "outputs": [
    {
     "name": "stdout",
     "output_type": "stream",
     "text": [
      "Hello, my name is John  and I am 28 years old.\n",
      "_________________________\n",
      "Hello, my name is Jcobi and I am 25 years old.\n"
     ]
    }
   ],
   "source": [
    "\n",
    "from langchain.prompts import load_prompt\n",
    "\n",
    "# Example usage\n",
    "json_prompt = load_prompt('sample_json.json')\n",
    "print(json_prompt.format(name='John ', age=28))\n",
    "print(\"_________________________\")\n",
    "yaml_prompt = load_prompt('sample_yaml.yaml')\n",
    "print(yaml_prompt.format(name='Jcobi', age=25))"
   ]
  }
 ],
 "metadata": {
  "kernelspec": {
   "display_name": "AI_Class",
   "language": "python",
   "name": "python3"
  },
  "language_info": {
   "codemirror_mode": {
    "name": "ipython",
    "version": 3
   },
   "file_extension": ".py",
   "mimetype": "text/x-python",
   "name": "python",
   "nbconvert_exporter": "python",
   "pygments_lexer": "ipython3",
   "version": "3.12.9"
  }
 },
 "nbformat": 4,
 "nbformat_minor": 2
}
