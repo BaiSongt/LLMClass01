{
 "cells": [
  {
   "cell_type": "markdown",
   "id": "23772001",
   "metadata": {},
   "source": [
    "# RAG Search Example\n",
    "- 建立向量数据\n",
    "- 使用RAG增强"
   ]
  },
  {
   "cell_type": "code",
   "execution_count": 2,
   "id": "50c0ea06",
   "metadata": {},
   "outputs": [],
   "source": [
    "! pip install --quiet faiss-cpu tiktoken"
   ]
  },
  {
   "cell_type": "code",
   "execution_count": 10,
   "id": "92f1d551",
   "metadata": {},
   "outputs": [
    {
     "name": "stdout",
     "output_type": "stream",
     "text": [
      "HELLO WORLD\n"
     ]
    }
   ],
   "source": [
    "from langchain_core.runnables import RunnableLambda, RunnablePassthrough\n",
    "\n",
    "# 定义一个自定义处理逻辑\n",
    "process_data = RunnableLambda(lambda x: x.upper())\n",
    "\n",
    "# 定义一个直接传递输入的 Runnable\n",
    "passthrough = RunnablePassthrough()\n",
    "\n",
    "# 将两个 Runnables 组合成一个任务链\n",
    "chain = passthrough | process_data\n",
    "\n",
    "# 执行任务链\n",
    "result = chain.invoke(\"hello world\")\n",
    "print(result)  # 输出: HELLO WORLD"
   ]
  },
  {
   "cell_type": "code",
   "execution_count": 5,
   "id": "0f72195d",
   "metadata": {},
   "outputs": [],
   "source": [
    "from operator import itemgetter\n",
    "from langchain_core.output_parsers import StrOutputParser\n",
    "from langchain_core.prompts import ChatPromptTemplate\n",
    "\n",
    "# 引入 runnables\n",
    "from langchain_core.runnables import RunnableLambda, RunnablePassthrough\n",
    "from langchain_ollama.chat_models import ChatOllama\n",
    "from langchain_ollama.embeddings import OllamaEmbeddings\n",
    "from langchain.vectorstores import FAISS"
   ]
  },
  {
   "cell_type": "code",
   "execution_count": null,
   "id": "b158d72e",
   "metadata": {},
   "outputs": [],
   "source": [
    "vectorstore = FAISS.from_texts(\n",
    "  [\"\"\"CaiXukun is working in JianYu\"\"\"],\n",
    "    embedding=OllamaEmbeddings(model=\"bge-m3\")\n",
    ")\n",
    "\n",
    "retriever = vectorstore.as_retriever()\n",
    "\n",
    "template = \"\"\"Answer the question based only on the following context:\n",
    "{context}\n",
    "Question:{question}\n",
    "\"\"\"\n",
    "\n",
    "prompt = ChatPromptTemplate.from_template(template)\n",
    "\n",
    "model = ChatOllama(model=\"qwen2.5:7b\")\n",
    "\n",
    "chain = (\n",
    "  # 定义一个字典，其中 \"context\" 使用 retriever 检索器，\"question\" 使用 RunnablePassthrough 直接传递输入\n",
    "  {\"context\": retriever, \"question\": RunnablePassthrough()}\n",
    "  # 将上述字典作为输入，传递给 prompt 模板，用于生成提示\n",
    "  | prompt\n",
    "  # 将生成的提示传递给模型（ChatOllama）进行推理\n",
    "  | model\n",
    "  # 将模型的输出通过 StrOutputParser 解析为字符串\n",
    "  | StrOutputParser()\n",
    ")"
   ]
  },
  {
   "cell_type": "code",
   "execution_count": 9,
   "id": "3500a527",
   "metadata": {},
   "outputs": [
    {
     "data": {
      "text/plain": [
       "'According to the provided context, CaiXukun works at JianYu.'"
      ]
     },
     "execution_count": 9,
     "metadata": {},
     "output_type": "execute_result"
    }
   ],
   "source": [
    "chain.invoke(\"Where did CaiXukun work\")"
   ]
  },
  {
   "cell_type": "markdown",
   "id": "96921d62",
   "metadata": {},
   "source": [
    "### 自定义"
   ]
  },
  {
   "cell_type": "code",
   "execution_count": 11,
   "id": "45ec8839",
   "metadata": {},
   "outputs": [],
   "source": [
    "template = \"\"\"Answer the question based only on the following context:\n",
    "{context}\n",
    "Question:{question}\n",
    "\n",
    "Answer in the following language: {language}\n",
    "\"\"\"\n",
    "\n",
    "prompt = ChatPromptTemplate.from_template(template)\n",
    "\n",
    "chain = (\n",
    "  {\n",
    "    # 定义输入字典，\n",
    "    # 其中 \"context\" 是通过 retriever 检索器获取的内容，\n",
    "    # retriever 的输入是从 \"question\" 字段中提取的值\n",
    "    # itemgetter 用于从输入字典中提取指定字段的值\n",
    "    \"context\": itemgetter(\"question\") | retriever,\n",
    "    # \"question\" 字段直接从输入中提取\n",
    "    \"question\": itemgetter(\"question\"),\n",
    "    # \"language\" 字段直接从输入中提取，用于指定回答的语言\n",
    "    \"language\": itemgetter(\"language\"),\n",
    "  }\n",
    "  # 将上述输入字典传递给 prompt 模板，用于生成提示\n",
    "  | prompt\n",
    "  # 将生成的提示传递给模型（ChatOllama）进行推理\n",
    "  | model\n",
    "  # 将模型的输出通过 StrOutputParser 解析为字符串\n",
    "  | StrOutputParser()\n",
    ")"
   ]
  },
  {
   "cell_type": "code",
   "execution_count": null,
   "id": "edcc14ed",
   "metadata": {},
   "outputs": [
    {
     "data": {
      "text/plain": [
       "'蔡徐坤在jianyu工作。'"
      ]
     },
     "execution_count": 12,
     "metadata": {},
     "output_type": "execute_result"
    }
   ],
   "source": [
    "chain.invoke({\"question\":\"Where did CaiXukun work\", \"language\":\"Chinese\"})"
   ]
  }
 ],
 "metadata": {
  "kernelspec": {
   "display_name": "rag",
   "language": "python",
   "name": "python3"
  },
  "language_info": {
   "codemirror_mode": {
    "name": "ipython",
    "version": 3
   },
   "file_extension": ".py",
   "mimetype": "text/x-python",
   "name": "python",
   "nbconvert_exporter": "python",
   "pygments_lexer": "ipython3",
   "version": "3.13.2"
  }
 },
 "nbformat": 4,
 "nbformat_minor": 5
}
