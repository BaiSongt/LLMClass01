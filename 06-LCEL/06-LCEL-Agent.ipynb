{
 "cells": [
  {
   "cell_type": "markdown",
   "id": "27df3abc",
   "metadata": {},
   "source": [
    "# LCEL: Agent 核心组件\n",
    "![Agent](pngs/LCELAgents.png)\n",
    "![Agent](pngs/LCELAgentsCore.png)"
   ]
  },
  {
   "cell_type": "code",
   "execution_count": 19,
   "id": "0d976f53",
   "metadata": {},
   "outputs": [
    {
     "ename": "ValidationError",
     "evalue": "1 validation error for OpenAI\n  Value error, Did not find openai_api_key, please add an environment variable `OPENAI_API_KEY` which contains it, or pass `openai_api_key` as a named parameter. [type=value_error, input_value={'temperature': 0, 'model...ne, 'http_client': None}, input_type=dict]\n    For further information visit https://errors.pydantic.dev/2.10/v/value_error",
     "output_type": "error",
     "traceback": [
      "\u001b[31m---------------------------------------------------------------------------\u001b[39m",
      "\u001b[31mValidationError\u001b[39m                           Traceback (most recent call last)",
      "\u001b[36mCell\u001b[39m\u001b[36m \u001b[39m\u001b[32mIn[19]\u001b[39m\u001b[32m, line 18\u001b[39m\n\u001b[32m     15\u001b[39m   \u001b[38;5;28;01mreturn\u001b[39;00m \u001b[38;5;28mstr\u001b[39m(\u001b[38;5;28msum\u001b[39m(numbers))\n\u001b[32m     17\u001b[39m \u001b[38;5;66;03m# 初始化语言模型\u001b[39;00m\n\u001b[32m---> \u001b[39m\u001b[32m18\u001b[39m llm = \u001b[43mOpenAI\u001b[49m\u001b[43m(\u001b[49m\u001b[43mtemperature\u001b[49m\u001b[43m=\u001b[49m\u001b[32;43m0\u001b[39;49m\u001b[43m)\u001b[49m\n\u001b[32m     20\u001b[39m \u001b[38;5;66;03m# 定义工具列表\u001b[39;00m\n\u001b[32m     21\u001b[39m tools = [Tool(name=\u001b[33m\"\u001b[39m\u001b[33mAddition\u001b[39m\u001b[33m\"\u001b[39m, func=add_numbers, description=\u001b[33m\"\u001b[39m\u001b[33m用于计算两个数字的和\u001b[39m\u001b[33m\"\u001b[39m)]\n",
      "\u001b[36mFile \u001b[39m\u001b[32m/opt/homebrew/Caskroom/miniconda/base/envs/rag/lib/python3.13/site-packages/langchain_core/_api/deprecation.py:214\u001b[39m, in \u001b[36mdeprecated.<locals>.deprecate.<locals>.finalize.<locals>.warn_if_direct_instance\u001b[39m\u001b[34m(self, *args, **kwargs)\u001b[39m\n\u001b[32m    212\u001b[39m     warned = \u001b[38;5;28;01mTrue\u001b[39;00m\n\u001b[32m    213\u001b[39m     emit_warning()\n\u001b[32m--> \u001b[39m\u001b[32m214\u001b[39m \u001b[38;5;28;01mreturn\u001b[39;00m \u001b[43mwrapped\u001b[49m\u001b[43m(\u001b[49m\u001b[38;5;28;43mself\u001b[39;49m\u001b[43m,\u001b[49m\u001b[43m \u001b[49m\u001b[43m*\u001b[49m\u001b[43margs\u001b[49m\u001b[43m,\u001b[49m\u001b[43m \u001b[49m\u001b[43m*\u001b[49m\u001b[43m*\u001b[49m\u001b[43mkwargs\u001b[49m\u001b[43m)\u001b[49m\n",
      "\u001b[36mFile \u001b[39m\u001b[32m/opt/homebrew/Caskroom/miniconda/base/envs/rag/lib/python3.13/site-packages/langchain_core/load/serializable.py:125\u001b[39m, in \u001b[36mSerializable.__init__\u001b[39m\u001b[34m(self, *args, **kwargs)\u001b[39m\n\u001b[32m    123\u001b[39m \u001b[38;5;28;01mdef\u001b[39;00m\u001b[38;5;250m \u001b[39m\u001b[34m__init__\u001b[39m(\u001b[38;5;28mself\u001b[39m, *args: Any, **kwargs: Any) -> \u001b[38;5;28;01mNone\u001b[39;00m:\n\u001b[32m    124\u001b[39m \u001b[38;5;250m    \u001b[39m\u001b[33;03m\"\"\"\"\"\"\u001b[39;00m\n\u001b[32m--> \u001b[39m\u001b[32m125\u001b[39m     \u001b[38;5;28;43msuper\u001b[39;49m\u001b[43m(\u001b[49m\u001b[43m)\u001b[49m\u001b[43m.\u001b[49m\u001b[34;43m__init__\u001b[39;49m\u001b[43m(\u001b[49m\u001b[43m*\u001b[49m\u001b[43margs\u001b[49m\u001b[43m,\u001b[49m\u001b[43m \u001b[49m\u001b[43m*\u001b[49m\u001b[43m*\u001b[49m\u001b[43mkwargs\u001b[49m\u001b[43m)\u001b[49m\n",
      "\u001b[36mFile \u001b[39m\u001b[32m/opt/homebrew/Caskroom/miniconda/base/envs/rag/lib/python3.13/site-packages/pydantic/main.py:214\u001b[39m, in \u001b[36mBaseModel.__init__\u001b[39m\u001b[34m(self, **data)\u001b[39m\n\u001b[32m    212\u001b[39m \u001b[38;5;66;03m# `__tracebackhide__` tells pytest and some other tools to omit this function from tracebacks\u001b[39;00m\n\u001b[32m    213\u001b[39m __tracebackhide__ = \u001b[38;5;28;01mTrue\u001b[39;00m\n\u001b[32m--> \u001b[39m\u001b[32m214\u001b[39m validated_self = \u001b[38;5;28;43mself\u001b[39;49m\u001b[43m.\u001b[49m\u001b[43m__pydantic_validator__\u001b[49m\u001b[43m.\u001b[49m\u001b[43mvalidate_python\u001b[49m\u001b[43m(\u001b[49m\u001b[43mdata\u001b[49m\u001b[43m,\u001b[49m\u001b[43m \u001b[49m\u001b[43mself_instance\u001b[49m\u001b[43m=\u001b[49m\u001b[38;5;28;43mself\u001b[39;49m\u001b[43m)\u001b[49m\n\u001b[32m    215\u001b[39m \u001b[38;5;28;01mif\u001b[39;00m \u001b[38;5;28mself\u001b[39m \u001b[38;5;129;01mis\u001b[39;00m \u001b[38;5;129;01mnot\u001b[39;00m validated_self:\n\u001b[32m    216\u001b[39m     warnings.warn(\n\u001b[32m    217\u001b[39m         \u001b[33m'\u001b[39m\u001b[33mA custom validator is returning a value other than `self`.\u001b[39m\u001b[38;5;130;01m\\n\u001b[39;00m\u001b[33m'\u001b[39m\n\u001b[32m    218\u001b[39m         \u001b[33m\"\u001b[39m\u001b[33mReturning anything other than `self` from a top level model validator isn\u001b[39m\u001b[33m'\u001b[39m\u001b[33mt supported when validating via `__init__`.\u001b[39m\u001b[38;5;130;01m\\n\u001b[39;00m\u001b[33m\"\u001b[39m\n\u001b[32m    219\u001b[39m         \u001b[33m'\u001b[39m\u001b[33mSee the `model_validator` docs (https://docs.pydantic.dev/latest/concepts/validators/#model-validators) for more details.\u001b[39m\u001b[33m'\u001b[39m,\n\u001b[32m    220\u001b[39m         stacklevel=\u001b[32m2\u001b[39m,\n\u001b[32m    221\u001b[39m     )\n",
      "\u001b[31mValidationError\u001b[39m: 1 validation error for OpenAI\n  Value error, Did not find openai_api_key, please add an environment variable `OPENAI_API_KEY` which contains it, or pass `openai_api_key` as a named parameter. [type=value_error, input_value={'temperature': 0, 'model...ne, 'http_client': None}, input_type=dict]\n    For further information visit https://errors.pydantic.dev/2.10/v/value_error"
     ]
    }
   ],
   "source": [
    "from langchain.agents import initialize_agent, Tool\n",
    "from langchain.llms import OpenAI\n",
    "from langchain.tools import tool\n",
    "\n",
    "# LCEL Agent 是 LangChain 中的一种核心组件，用于处理复杂的任务分解和执行。\n",
    "# 它通过结合语言模型和工具（如搜索引擎、计算器等）来完成多步骤任务。\n",
    "# LCEL Agent 的主要特点是其灵活性和可扩展性，适用于各种场景。\n",
    "\n",
    "\n",
    "# 定义一个简单的工具\n",
    "@tool\n",
    "def add_numbers(input: str) -> str:\n",
    "  \"\"\"接受两个数字并返回它们的和\"\"\"\n",
    "  numbers = list(map(int, input.split()))\n",
    "  return str(sum(numbers))\n",
    "\n",
    "# 初始化语言模型\n",
    "llm = OpenAI(temperature=0)\n",
    "\n",
    "# 定义工具列表\n",
    "tools = [Tool(name=\"Addition\", func=add_numbers, description=\"用于计算两个数字的和\")]\n",
    "\n",
    "# 初始化 LCEL Agent\n",
    "agent = initialize_agent(tools, llm, agent=\"zero-shot-react-description\", verbose=True)\n",
    "\n",
    "# 使用 Agent 执行任务\n",
    "result = agent.run(\"请帮我计算 12 和 8 的和。\")\n",
    "print(result)"
   ]
  },
  {
   "cell_type": "markdown",
   "id": "1c5c621d",
   "metadata": {},
   "source": [
    "### 一个比较复杂的Agent\n",
    "- RAG\n",
    "- 搜索"
   ]
  },
  {
   "cell_type": "code",
   "execution_count": 20,
   "id": "e89dc3f6",
   "metadata": {},
   "outputs": [
    {
     "name": "stdout",
     "output_type": "stream",
     "text": [
      "引用: 1\n",
      "标题: 今天是什么日子?2025年黄历宜忌每日查询_万年历_财源_农历\n",
      "URL: https://www.sohu.com/a/880565401_121123713\n",
      "摘要:  今天是2025年4月7日星期一 2025年黄历万年历 农历三月初十 乙巳蛇年 戊寅月 丙午日 ㊗️财源广进､万事如意 美好的一天,早安好☕️🏃 返回搜狐,查看更多\n",
      "网站名称: 搜狐\n",
      "网站图标: https://th.bochaai.com/favicon?domain_url=https://www.sohu.com/a/880565401_121123713\n",
      "发布时间: 2025-04-07T06:38:00Z\n",
      "\n",
      "引用: 2\n",
      "标题: 2025年4月7日黄历:宜嫁娶,忌安葬_红色_建议_颜色\n",
      "URL: https://www.sohu.com/a/880525229_122001004\n",
      "摘要: 日期:公历2025年4月7日,星期一,农历三月初八(乙巳年 庚辰月 丙午日) 生肖运势:今日最佳:马､蛇､羊;次吉生肖:猴､鸡､狗;今日带衰:鼠､牛､兔 方位:喜神方位:西南;财神方位:正东;福神方位:东南;阳贵方位:东北 幸运数字:3､8 幸运颜色:红色､黄色､白色 宜忌:宜:结婚､开业､交易､签约､祈福､祭祀;忌:安葬､破土､修造､动土 吉时:今日吉时:巳时(09:00-11:00)､午时(11:00-13:00)､未时(13:00-15:00) 建议:今天是个适合举行婚礼和开业的好日子,尤其是对于属马､蛇､羊的朋友来说,运势特别好｡如果有重要的商业活动或家庭聚会,可以考虑安排在上午9点到下午3点之间进行,这样更有利于事情的顺利开展｡ 择吉:本月适宜嫁娶的日子有4月7日､4月16日､4月25日; 【大吉色】红色:今天穿上红色的衣服,不仅能够提升个人魅力,还能带来好运｡ 【次吉色】黄色:黄色也是今天的幸运色之一,它代表着财富和智慧,适合在工作中穿着,有助于提升工作效率｡ 【平平色】白色:白色虽然不是今天的最佳选择,但也能带来一定的平衡感,适合日常穿搭｡ 【忌用色】绿色:绿色在今天不太吉利,建议避免穿着或使用绿色的物品｡ 温馨小提示:五行穿衣色不仅可以用于衣服,日常生活中随身携带的小物和佩戴的饰品都可以参考五行旺运颜色来搭配哦! 建议:结合本月宜忌和其余信息,合理安排自己的生活和工作,注意把握时机,相信会有一个美好的未来｡周一大吉!\n",
      "网站名称: 搜狐\n",
      "网站图标: https://th.bochaai.com/favicon?domain_url=https://www.sohu.com/a/880525229_122001004\n",
      "发布时间: 2025-04-07T00:00:00Z\n",
      "\n",
      "引用: 3\n",
      "标题: 2025年4月7日黄历:宜嫁娶,忌安葬_颜色_吉时_五行\n",
      "URL: https://www.sohu.com/a/880531227_122001004\n",
      "摘要: 日期:公历2025年4月7日,星期一,农历三月初七(乙巳年 庚辰月 丁亥日) 生肖运势:今日最佳:猪､兔､羊;次吉生肖:鼠､龙､鸡;今日带衰:牛､虎､狗｡ 方位:喜神方位:西南;财神方位:正东;福神方位:东南;阳贵方位:东北｡ 幸运数字:6､8｡ 幸运颜色:红色､粉色､橙色｡ 宜忌:宜:结婚､开业､交易､求医､动土;忌:安葬､祭祀､出行｡ 吉时:今日吉时:卯时(05:00-07:00)､巳时(09:00-11:00)､未时(13:00-15:00)｡ 建议:今天是结婚的好日子,适宜举行婚礼｡同时,开业和交易也是不错的选择｡但要注意避免安葬和祭祀活动,以免冲撞煞气｡此外,不宜远行,特别是长途旅行,容易遇到不顺｡ 择吉:本月适宜嫁娶的日期有:4月7日､4月12日､4月18日｡入宅的好日子有:4月10日､4月15日､4月20日｡ 【平平色】绿色､青色 —— 平平无奇的颜色,适合低调行事｡ 【慎用色】白色､银色 —— 今天慎用这些颜色,可能会带来一些小麻烦｡ 【忌用色】黑色､蓝色 —— 今天应避免使用这些颜色,以免影响运势｡\n",
      "网站名称: 搜狐\n",
      "网站图标: https://th.bochaai.com/favicon?domain_url=https://www.sohu.com/a/880531227_122001004\n",
      "发布时间: 2025-04-07T00:00:00Z\n",
      "\n",
      "引用: 4\n",
      "标题: 2025年4月7日黄历:宜嫁娶,忌安葬_交易_日期_五行\n",
      "URL: https://www.sohu.com/a/880572263_122001004\n",
      "摘要: 日期:公历2025年4月7日,星期一,农历二月初十(乙未年 己卯月 庚子日) 生肖运势:今日最佳:鼠､龙､猴;次吉生肖:牛､蛇､鸡;今日带衰:羊､马､狗｡ 方位:喜神方位:西南;财神方位:正东;福神方位:东南;阳贵方位:东北｡ 幸运数字:5､8 幸运颜色:红色､黄色､白色 宜忌:宜:结婚､开业､出行､交易;忌:安葬､动土､破土｡ 吉时:今日吉时:巳时(9:00-11:00)､酉时(17:00-19:00) 建议:今天是结婚和开业的好日子,适合进行这些重要的活动｡同时,出行和交易也是不错的选择｡然而,不宜进行安葬､动土和破土等事宜,以免带来不利影响｡ 择吉:本月适宜嫁娶的日期有:4月7日､4月15日､4月23日;适宜入宅的日期有:4月8日､4月16日､4月24日;适宜出行的日期有:4月9日､4月17日､4月25日;适宜交易的日期有:4月10日､4月18日､4月26日｡\n",
      "网站名称: 搜狐\n",
      "网站图标: https://th.bochaai.com/favicon?domain_url=https://www.sohu.com/a/880572263_122001004\n",
      "发布时间: 2025-04-07T00:00:00Z\n",
      "\n",
      "引用: 5\n",
      "标题: 2025年4月8日黄历:宜祭祀,忌动土_日期_五行_影响\n",
      "URL: https://www.sohu.com/a/880525756_122001004\n",
      "摘要: 日期:公历2025年4月8日,星期二,农历三月初八(乙巳年 庚辰月 丙午日) 生肖运势:今日最佳:马､狗､猪;次吉生肖:羊､虎､兔;今日带衰:鼠､牛､龙 方位:喜神方位:西南;财神方位:正东;福神方位:东南;阳贵方位:东北 幸运数字:3､6 幸运颜色:红色､紫色､绿色 宜忌:宜:祭祀､祈福､开光､求医､治病､出行､交易､订盟､纳采､嫁娶;忌:动土､破土､安葬､移徙､入宅 今日吉时:子时(23:00-01:00)､卯时(05:00-07:00)､未时(13:00-15:00) 建议:今天适宜进行一些祈福和祭祀活动,特别是有家庭成员身体不适的,可以去寺庙或道观祈福｡同时,今天也是出行的好日子,无论是短途旅行还是长途出差,都能顺利平安｡不过要注意的是,不宜进行动土､破土等工程类活动,以免招致不必要的麻烦｡ 择吉:本月适宜嫁娶的日期有三月初一､初六､十五､廿五;适宜入宅的日期有初三､初十､廿三;适宜出行的日期有初四､初九､廿七;适宜交易的日期有初二､十八､廿八｡ 【平平色】绿色:带来平衡与和谐,适合日常生活｡ 【慎用色】黑色:容易招惹小人,尽量避免使用｡ 建议:结合本月的宜忌,大家在安排重要事务时可以选择上述推荐的吉日,以求事半功倍｡特别是计划结婚的朋友,选择一个好日子不仅能让婚礼更加圆满,还能为未来的生活带来好运｡此外,平时多关注自己的运势变化,适时调整生活方式,相信会带来更多积极的影响｡ 特别祝福:周二愉快,愿你今天事事顺心!\n",
      "网站名称: 搜狐\n",
      "网站图标: https://th.bochaai.com/favicon?domain_url=https://www.sohu.com/a/880525756_122001004\n",
      "发布时间: 2025-04-07T00:00:00Z\n"
     ]
    }
   ],
   "source": [
    "from langchain.pydantic_v1 import  BaseModel, Field\n",
    "from langchain.tools import BaseTool, StructuredTool, tool\n",
    "from langchain_community.utilities import SerpAPIWrapper\n",
    "import sys\n",
    "import os\n",
    "\n",
    "# Add the root directory to the Python path\n",
    "sys.path.append(os.path.abspath(os.path.join(os.getcwd(), \"..\")))\n",
    "\n",
    "from bocha_api import bocha_websearch_tool\n",
    "\n",
    "print(bocha_websearch_tool(\"今天的老黄历\"))"
   ]
  },
  {
   "cell_type": "code",
   "execution_count": 24,
   "id": "403a159e",
   "metadata": {},
   "outputs": [
    {
     "name": "stdout",
     "output_type": "stream",
     "text": [
      "Loaded 1 documents\n"
     ]
    },
    {
     "data": {
      "text/plain": [
       "<generator object Runnable.stream at 0x11c8524d0>"
      ]
     },
     "execution_count": 24,
     "metadata": {},
     "output_type": "execute_result"
    }
   ],
   "source": [
    "# RAG\n",
    "from langchain.text_splitter import RecursiveCharacterTextSplitter\n",
    "from langchain_community.document_loaders import WebBaseLoader\n",
    "from langchain_community.vectorstores import FAISS\n",
    "from langchain_ollama.embeddings import OllamaEmbeddings\n",
    "\n",
    "# 使用 WebBaseLoader 加载指定 URL 的文档\n",
    "loader = WebBaseLoader(\"https://docs.smith.langchain.com/user_guide\")\n",
    "docs = loader.load()  # 加载文档\n",
    "print(f\"Loaded {len(docs)} documents\")  # 打印加载的文档数量\n",
    "\n",
    "# 使用 RecursiveCharacterTextSplitter 对文档进行分块\n",
    "documents = RecursiveCharacterTextSplitter(\n",
    "  chunk_size=1000,  # 每个块的最大字符数\n",
    "  chunk_overlap=200  # 块之间的重叠字符数\n",
    ").split_documents(docs)\n",
    "\n",
    "# 使用 OllamaEmbeddings 创建嵌入，并将文档存储到 FAISS 向量数据库中\n",
    "vector = FAISS.from_documents(documents, OllamaEmbeddings(model=\"bge-m3:latest\"))\n",
    "\n",
    "# 将向量数据库转换为检索器\n",
    "retriever = vector.as_retriever()\n",
    "\n",
    "# 使用检索器进行查询，并以流式方式返回结果\n",
    "retriever.stream(\"How to use the smith platform\")\n"
   ]
  },
  {
   "cell_type": "code",
   "execution_count": 25,
   "id": "2704843e",
   "metadata": {},
   "outputs": [
    {
     "data": {
      "text/plain": [
       "Tool(name='langchain_search', description='搜索有关 LangSmith 的信息。 关于 LangSmith 的任何问题都使用该工具。', args_schema=<class 'langchain_core.tools.retriever.RetrieverInput'>, func=functools.partial(<function _get_relevant_documents at 0x10a906b60>, retriever=VectorStoreRetriever(tags=['FAISS', 'OllamaEmbeddings'], vectorstore=<langchain_community.vectorstores.faiss.FAISS object at 0x11c820b00>, search_kwargs={}), document_prompt=PromptTemplate(input_variables=['page_content'], input_types={}, partial_variables={}, template='{page_content}'), document_separator='\\n\\n', response_format='content'), coroutine=functools.partial(<function _aget_relevant_documents at 0x10ac85f80>, retriever=VectorStoreRetriever(tags=['FAISS', 'OllamaEmbeddings'], vectorstore=<langchain_community.vectorstores.faiss.FAISS object at 0x11c820b00>, search_kwargs={}), document_prompt=PromptTemplate(input_variables=['page_content'], input_types={}, partial_variables={}, template='{page_content}'), document_separator='\\n\\n', response_format='content'))"
      ]
     },
     "execution_count": 25,
     "metadata": {},
     "output_type": "execute_result"
    }
   ],
   "source": [
    "# 把检索器加入到工具中\n",
    "from langchain.tools.retriever import create_retriever_tool\n",
    "retriever_tool = create_retriever_tool(\n",
    "  retriever,\n",
    "  \"langchain_search\",\n",
    "  \"搜索有关 LangSmith 的信息。 关于 LangSmith 的任何问题都使用该工具。\"\n",
    ")\n",
    "\n",
    "retriever_tool"
   ]
  },
  {
   "cell_type": "code",
   "execution_count": 26,
   "id": "b9aaab04",
   "metadata": {},
   "outputs": [
    {
     "data": {
      "text/plain": [
       "[StructuredTool(name='bocha_websearch_tool', description='使用Bocha Web Search API 进行网页搜索。\\n\\n参数:\\n- query: 搜索关键词\\n- freshness: 搜索的时间范围\\n- summary: 是否显示文本摘要\\n- count: 返回的搜索结果数量\\n\\n返回:\\n- 搜索结果的详细信息，包括网页标题、网页URL、网页摘要、网站名称、网站Icon、网页发布时间等。', args_schema=<class 'langchain_core.utils.pydantic.bocha_websearch_tool'>, func=<function bocha_websearch_tool at 0x10b8fdf80>),\n",
       " Tool(name='langchain_search', description='搜索有关 LangSmith 的信息。 关于 LangSmith 的任何问题都使用该工具。', args_schema=<class 'langchain_core.tools.retriever.RetrieverInput'>, func=functools.partial(<function _get_relevant_documents at 0x10a906b60>, retriever=VectorStoreRetriever(tags=['FAISS', 'OllamaEmbeddings'], vectorstore=<langchain_community.vectorstores.faiss.FAISS object at 0x11c820b00>, search_kwargs={}), document_prompt=PromptTemplate(input_variables=['page_content'], input_types={}, partial_variables={}, template='{page_content}'), document_separator='\\n\\n', response_format='content'), coroutine=functools.partial(<function _aget_relevant_documents at 0x10ac85f80>, retriever=VectorStoreRetriever(tags=['FAISS', 'OllamaEmbeddings'], vectorstore=<langchain_community.vectorstores.faiss.FAISS object at 0x11c820b00>, search_kwargs={}), document_prompt=PromptTemplate(input_variables=['page_content'], input_types={}, partial_variables={}, template='{page_content}'), document_separator='\\n\\n', response_format='content'))]"
      ]
     },
     "execution_count": 26,
     "metadata": {},
     "output_type": "execute_result"
    }
   ],
   "source": [
    "# 工具集\n",
    "tools = [bocha_websearch_tool, retriever_tool]\n",
    "tools"
   ]
  },
  {
   "cell_type": "code",
   "execution_count": 27,
   "id": "c5b90bf8",
   "metadata": {},
   "outputs": [],
   "source": [
    "# 定义模型\n",
    "from langchain_ollama.llms import OllamaLLM\n",
    "llm = OllamaLLM(model=\"qwen2.5:7b\",temperature=0)"
   ]
  },
  {
   "cell_type": "code",
   "execution_count": 28,
   "id": "5b4ac68b",
   "metadata": {},
   "outputs": [
    {
     "name": "stderr",
     "output_type": "stream",
     "text": [
      "/opt/homebrew/Caskroom/miniconda/base/envs/rag/lib/python3.13/site-packages/langsmith/client.py:253: LangSmithMissingAPIKeyWarning: API key must be provided when using hosted LangSmith API\n",
      "  warnings.warn(\n"
     ]
    },
    {
     "data": {
      "text/plain": [
       "[SystemMessagePromptTemplate(prompt=PromptTemplate(input_variables=[], input_types={}, partial_variables={}, template='You are a helpful assistant'), additional_kwargs={}),\n",
       " MessagesPlaceholder(variable_name='chat_history', optional=True),\n",
       " HumanMessagePromptTemplate(prompt=PromptTemplate(input_variables=['input'], input_types={}, partial_variables={}, template='{input}'), additional_kwargs={}),\n",
       " MessagesPlaceholder(variable_name='agent_scratchpad')]"
      ]
     },
     "execution_count": 28,
     "metadata": {},
     "output_type": "execute_result"
    }
   ],
   "source": [
    "# 从 Hub 中获取模板\n",
    "from langchain import hub\n",
    "\n",
    "# 一个最简单的模板，带记忆\n",
    "prompt = hub.pull(\"hwchase17/openai-functions-agent\")\n",
    "prompt.messages"
   ]
  },
  {
   "cell_type": "code",
   "execution_count": 35,
   "id": "b39d8a28",
   "metadata": {},
   "outputs": [],
   "source": [
    "# 创建agent\n",
    "# from langchain.agents import create_openai_functions_agent\n",
    "# 没有OpenAIKey\n",
    "# agent = create_openai_functions_agent(llm, tools, prompt)\n",
    "\n",
    "from langchain.agents import AgentType, initialize_agent\n",
    "agent = initialize_agent(\n",
    "  tools= [retriever_tool],\n",
    "  llm=llm,\n",
    "  agent=AgentType.CHAT_ZERO_SHOT_REACT_DESCRIPTION,\n",
    "  verbose=True\n",
    ")"
   ]
  },
  {
   "cell_type": "code",
   "execution_count": 40,
   "id": "03af1fef",
   "metadata": {},
   "outputs": [],
   "source": [
    "# 创建Agent 执行器 AgentExecutor\n",
    "from langchain.agents import AgentExecutor\n",
    "agent_executor = AgentExecutor(agent=agent, tools=tools, verbose=True)"
   ]
  },
  {
   "cell_type": "code",
   "execution_count": 38,
   "id": "75729406",
   "metadata": {},
   "outputs": [
    {
     "name": "stdout",
     "output_type": "stream",
     "text": [
      "\n",
      "\n",
      "\u001b[1m> Entering new AgentExecutor chain...\u001b[0m\n",
      "\n",
      "\n",
      "\u001b[1m> Entering new None chain...\u001b[0m\n"
     ]
    },
    {
     "ename": "TypeError",
     "evalue": "Agent.plan() got multiple values for argument 'intermediate_steps'",
     "output_type": "error",
     "traceback": [
      "\u001b[31m---------------------------------------------------------------------------\u001b[39m",
      "\u001b[31mTypeError\u001b[39m                                 Traceback (most recent call last)",
      "\u001b[36mCell\u001b[39m\u001b[36m \u001b[39m\u001b[32mIn[38]\u001b[39m\u001b[32m, line 2\u001b[39m\n\u001b[32m      1\u001b[39m \u001b[38;5;66;03m# 执行\u001b[39;00m\n\u001b[32m----> \u001b[39m\u001b[32m2\u001b[39m \u001b[43magent_executor\u001b[49m\u001b[43m.\u001b[49m\u001b[43minvoke\u001b[49m\u001b[43m(\u001b[49m\u001b[43m{\u001b[49m\u001b[33;43m\"\u001b[39;49m\u001b[33;43minput\u001b[39;49m\u001b[33;43m\"\u001b[39;49m\u001b[43m:\u001b[49m\u001b[33;43m\"\u001b[39;49m\u001b[33;43mhi\u001b[39;49m\u001b[33;43m\"\u001b[39;49m\u001b[43m}\u001b[49m\u001b[43m)\u001b[49m\n",
      "\u001b[36mFile \u001b[39m\u001b[32m/opt/homebrew/Caskroom/miniconda/base/envs/rag/lib/python3.13/site-packages/langchain/chains/base.py:170\u001b[39m, in \u001b[36mChain.invoke\u001b[39m\u001b[34m(self, input, config, **kwargs)\u001b[39m\n\u001b[32m    168\u001b[39m \u001b[38;5;28;01mexcept\u001b[39;00m \u001b[38;5;167;01mBaseException\u001b[39;00m \u001b[38;5;28;01mas\u001b[39;00m e:\n\u001b[32m    169\u001b[39m     run_manager.on_chain_error(e)\n\u001b[32m--> \u001b[39m\u001b[32m170\u001b[39m     \u001b[38;5;28;01mraise\u001b[39;00m e\n\u001b[32m    171\u001b[39m run_manager.on_chain_end(outputs)\n\u001b[32m    173\u001b[39m \u001b[38;5;28;01mif\u001b[39;00m include_run_info:\n",
      "\u001b[36mFile \u001b[39m\u001b[32m/opt/homebrew/Caskroom/miniconda/base/envs/rag/lib/python3.13/site-packages/langchain/chains/base.py:160\u001b[39m, in \u001b[36mChain.invoke\u001b[39m\u001b[34m(self, input, config, **kwargs)\u001b[39m\n\u001b[32m    157\u001b[39m \u001b[38;5;28;01mtry\u001b[39;00m:\n\u001b[32m    158\u001b[39m     \u001b[38;5;28mself\u001b[39m._validate_inputs(inputs)\n\u001b[32m    159\u001b[39m     outputs = (\n\u001b[32m--> \u001b[39m\u001b[32m160\u001b[39m         \u001b[38;5;28;43mself\u001b[39;49m\u001b[43m.\u001b[49m\u001b[43m_call\u001b[49m\u001b[43m(\u001b[49m\u001b[43minputs\u001b[49m\u001b[43m,\u001b[49m\u001b[43m \u001b[49m\u001b[43mrun_manager\u001b[49m\u001b[43m=\u001b[49m\u001b[43mrun_manager\u001b[49m\u001b[43m)\u001b[49m\n\u001b[32m    161\u001b[39m         \u001b[38;5;28;01mif\u001b[39;00m new_arg_supported\n\u001b[32m    162\u001b[39m         \u001b[38;5;28;01melse\u001b[39;00m \u001b[38;5;28mself\u001b[39m._call(inputs)\n\u001b[32m    163\u001b[39m     )\n\u001b[32m    165\u001b[39m     final_outputs: Dict[\u001b[38;5;28mstr\u001b[39m, Any] = \u001b[38;5;28mself\u001b[39m.prep_outputs(\n\u001b[32m    166\u001b[39m         inputs, outputs, return_only_outputs\n\u001b[32m    167\u001b[39m     )\n\u001b[32m    168\u001b[39m \u001b[38;5;28;01mexcept\u001b[39;00m \u001b[38;5;167;01mBaseException\u001b[39;00m \u001b[38;5;28;01mas\u001b[39;00m e:\n",
      "\u001b[36mFile \u001b[39m\u001b[32m/opt/homebrew/Caskroom/miniconda/base/envs/rag/lib/python3.13/site-packages/langchain/agents/agent.py:1624\u001b[39m, in \u001b[36mAgentExecutor._call\u001b[39m\u001b[34m(self, inputs, run_manager)\u001b[39m\n\u001b[32m   1622\u001b[39m \u001b[38;5;66;03m# We now enter the agent loop (until it returns something).\u001b[39;00m\n\u001b[32m   1623\u001b[39m \u001b[38;5;28;01mwhile\u001b[39;00m \u001b[38;5;28mself\u001b[39m._should_continue(iterations, time_elapsed):\n\u001b[32m-> \u001b[39m\u001b[32m1624\u001b[39m     next_step_output = \u001b[38;5;28;43mself\u001b[39;49m\u001b[43m.\u001b[49m\u001b[43m_take_next_step\u001b[49m\u001b[43m(\u001b[49m\n\u001b[32m   1625\u001b[39m \u001b[43m        \u001b[49m\u001b[43mname_to_tool_map\u001b[49m\u001b[43m,\u001b[49m\n\u001b[32m   1626\u001b[39m \u001b[43m        \u001b[49m\u001b[43mcolor_mapping\u001b[49m\u001b[43m,\u001b[49m\n\u001b[32m   1627\u001b[39m \u001b[43m        \u001b[49m\u001b[43minputs\u001b[49m\u001b[43m,\u001b[49m\n\u001b[32m   1628\u001b[39m \u001b[43m        \u001b[49m\u001b[43mintermediate_steps\u001b[49m\u001b[43m,\u001b[49m\n\u001b[32m   1629\u001b[39m \u001b[43m        \u001b[49m\u001b[43mrun_manager\u001b[49m\u001b[43m=\u001b[49m\u001b[43mrun_manager\u001b[49m\u001b[43m,\u001b[49m\n\u001b[32m   1630\u001b[39m \u001b[43m    \u001b[49m\u001b[43m)\u001b[49m\n\u001b[32m   1631\u001b[39m     \u001b[38;5;28;01mif\u001b[39;00m \u001b[38;5;28misinstance\u001b[39m(next_step_output, AgentFinish):\n\u001b[32m   1632\u001b[39m         \u001b[38;5;28;01mreturn\u001b[39;00m \u001b[38;5;28mself\u001b[39m._return(\n\u001b[32m   1633\u001b[39m             next_step_output, intermediate_steps, run_manager=run_manager\n\u001b[32m   1634\u001b[39m         )\n",
      "\u001b[36mFile \u001b[39m\u001b[32m/opt/homebrew/Caskroom/miniconda/base/envs/rag/lib/python3.13/site-packages/langchain/agents/agent.py:1332\u001b[39m, in \u001b[36mAgentExecutor._take_next_step\u001b[39m\u001b[34m(self, name_to_tool_map, color_mapping, inputs, intermediate_steps, run_manager)\u001b[39m\n\u001b[32m   1321\u001b[39m \u001b[38;5;28;01mdef\u001b[39;00m\u001b[38;5;250m \u001b[39m\u001b[34m_take_next_step\u001b[39m(\n\u001b[32m   1322\u001b[39m     \u001b[38;5;28mself\u001b[39m,\n\u001b[32m   1323\u001b[39m     name_to_tool_map: Dict[\u001b[38;5;28mstr\u001b[39m, BaseTool],\n\u001b[32m   (...)\u001b[39m\u001b[32m   1327\u001b[39m     run_manager: Optional[CallbackManagerForChainRun] = \u001b[38;5;28;01mNone\u001b[39;00m,\n\u001b[32m   1328\u001b[39m ) -> Union[AgentFinish, List[Tuple[AgentAction, \u001b[38;5;28mstr\u001b[39m]]]:\n\u001b[32m   1329\u001b[39m     \u001b[38;5;28;01mreturn\u001b[39;00m \u001b[38;5;28mself\u001b[39m._consume_next_step(\n\u001b[32m   1330\u001b[39m         [\n\u001b[32m   1331\u001b[39m             a\n\u001b[32m-> \u001b[39m\u001b[32m1332\u001b[39m             \u001b[38;5;28;01mfor\u001b[39;00m a \u001b[38;5;129;01min\u001b[39;00m \u001b[38;5;28mself\u001b[39m._iter_next_step(\n\u001b[32m   1333\u001b[39m                 name_to_tool_map,\n\u001b[32m   1334\u001b[39m                 color_mapping,\n\u001b[32m   1335\u001b[39m                 inputs,\n\u001b[32m   1336\u001b[39m                 intermediate_steps,\n\u001b[32m   1337\u001b[39m                 run_manager,\n\u001b[32m   1338\u001b[39m             )\n\u001b[32m   1339\u001b[39m         ]\n\u001b[32m   1340\u001b[39m     )\n",
      "\u001b[36mFile \u001b[39m\u001b[32m/opt/homebrew/Caskroom/miniconda/base/envs/rag/lib/python3.13/site-packages/langchain/agents/agent.py:1358\u001b[39m, in \u001b[36mAgentExecutor._iter_next_step\u001b[39m\u001b[34m(self, name_to_tool_map, color_mapping, inputs, intermediate_steps, run_manager)\u001b[39m\n\u001b[32m   1355\u001b[39m     intermediate_steps = \u001b[38;5;28mself\u001b[39m._prepare_intermediate_steps(intermediate_steps)\n\u001b[32m   1357\u001b[39m     \u001b[38;5;66;03m# Call the LLM to see what to do.\u001b[39;00m\n\u001b[32m-> \u001b[39m\u001b[32m1358\u001b[39m     output = \u001b[38;5;28;43mself\u001b[39;49m\u001b[43m.\u001b[49m\u001b[43m_action_agent\u001b[49m\u001b[43m.\u001b[49m\u001b[43mplan\u001b[49m\u001b[43m(\u001b[49m\n\u001b[32m   1359\u001b[39m \u001b[43m        \u001b[49m\u001b[43mintermediate_steps\u001b[49m\u001b[43m,\u001b[49m\n\u001b[32m   1360\u001b[39m \u001b[43m        \u001b[49m\u001b[43mcallbacks\u001b[49m\u001b[43m=\u001b[49m\u001b[43mrun_manager\u001b[49m\u001b[43m.\u001b[49m\u001b[43mget_child\u001b[49m\u001b[43m(\u001b[49m\u001b[43m)\u001b[49m\u001b[43m \u001b[49m\u001b[38;5;28;43;01mif\u001b[39;49;00m\u001b[43m \u001b[49m\u001b[43mrun_manager\u001b[49m\u001b[43m \u001b[49m\u001b[38;5;28;43;01melse\u001b[39;49;00m\u001b[43m \u001b[49m\u001b[38;5;28;43;01mNone\u001b[39;49;00m\u001b[43m,\u001b[49m\n\u001b[32m   1361\u001b[39m \u001b[43m        \u001b[49m\u001b[43m*\u001b[49m\u001b[43m*\u001b[49m\u001b[43minputs\u001b[49m\u001b[43m,\u001b[49m\n\u001b[32m   1362\u001b[39m \u001b[43m    \u001b[49m\u001b[43m)\u001b[49m\n\u001b[32m   1363\u001b[39m \u001b[38;5;28;01mexcept\u001b[39;00m OutputParserException \u001b[38;5;28;01mas\u001b[39;00m e:\n\u001b[32m   1364\u001b[39m     \u001b[38;5;28;01mif\u001b[39;00m \u001b[38;5;28misinstance\u001b[39m(\u001b[38;5;28mself\u001b[39m.handle_parsing_errors, \u001b[38;5;28mbool\u001b[39m):\n",
      "\u001b[36mFile \u001b[39m\u001b[32m/opt/homebrew/Caskroom/miniconda/base/envs/rag/lib/python3.13/site-packages/langchain/agents/agent.py:465\u001b[39m, in \u001b[36mRunnableAgent.plan\u001b[39m\u001b[34m(self, intermediate_steps, callbacks, **kwargs)\u001b[39m\n\u001b[32m    457\u001b[39m final_output: Any = \u001b[38;5;28;01mNone\u001b[39;00m\n\u001b[32m    458\u001b[39m \u001b[38;5;28;01mif\u001b[39;00m \u001b[38;5;28mself\u001b[39m.stream_runnable:\n\u001b[32m    459\u001b[39m     \u001b[38;5;66;03m# Use streaming to make sure that the underlying LLM is invoked in a\u001b[39;00m\n\u001b[32m    460\u001b[39m     \u001b[38;5;66;03m# streaming\u001b[39;00m\n\u001b[32m   (...)\u001b[39m\u001b[32m    463\u001b[39m     \u001b[38;5;66;03m# Because the response from the plan is not a generator, we need to\u001b[39;00m\n\u001b[32m    464\u001b[39m     \u001b[38;5;66;03m# accumulate the output into final output and return that.\u001b[39;00m\n\u001b[32m--> \u001b[39m\u001b[32m465\u001b[39m \u001b[43m    \u001b[49m\u001b[38;5;28;43;01mfor\u001b[39;49;00m\u001b[43m \u001b[49m\u001b[43mchunk\u001b[49m\u001b[43m \u001b[49m\u001b[38;5;129;43;01min\u001b[39;49;00m\u001b[43m \u001b[49m\u001b[38;5;28;43mself\u001b[39;49m\u001b[43m.\u001b[49m\u001b[43mrunnable\u001b[49m\u001b[43m.\u001b[49m\u001b[43mstream\u001b[49m\u001b[43m(\u001b[49m\u001b[43minputs\u001b[49m\u001b[43m,\u001b[49m\u001b[43m \u001b[49m\u001b[43mconfig\u001b[49m\u001b[43m=\u001b[49m\u001b[43m{\u001b[49m\u001b[33;43m\"\u001b[39;49m\u001b[33;43mcallbacks\u001b[39;49m\u001b[33;43m\"\u001b[39;49m\u001b[43m:\u001b[49m\u001b[43m \u001b[49m\u001b[43mcallbacks\u001b[49m\u001b[43m}\u001b[49m\u001b[43m)\u001b[49m\u001b[43m:\u001b[49m\n\u001b[32m    466\u001b[39m \u001b[43m        \u001b[49m\u001b[38;5;28;43;01mif\u001b[39;49;00m\u001b[43m \u001b[49m\u001b[43mfinal_output\u001b[49m\u001b[43m \u001b[49m\u001b[38;5;129;43;01mis\u001b[39;49;00m\u001b[43m \u001b[49m\u001b[38;5;28;43;01mNone\u001b[39;49;00m\u001b[43m:\u001b[49m\n\u001b[32m    467\u001b[39m \u001b[43m            \u001b[49m\u001b[43mfinal_output\u001b[49m\u001b[43m \u001b[49m\u001b[43m=\u001b[49m\u001b[43m \u001b[49m\u001b[43mchunk\u001b[49m\n",
      "\u001b[36mFile \u001b[39m\u001b[32m/opt/homebrew/Caskroom/miniconda/base/envs/rag/lib/python3.13/site-packages/langchain/agents/agent.py:1773\u001b[39m, in \u001b[36mAgentExecutor.stream\u001b[39m\u001b[34m(self, input, config, **kwargs)\u001b[39m\n\u001b[32m   1761\u001b[39m config = ensure_config(config)\n\u001b[32m   1762\u001b[39m iterator = AgentExecutorIterator(\n\u001b[32m   1763\u001b[39m     \u001b[38;5;28mself\u001b[39m,\n\u001b[32m   1764\u001b[39m     \u001b[38;5;28minput\u001b[39m,\n\u001b[32m   (...)\u001b[39m\u001b[32m   1771\u001b[39m     **kwargs,\n\u001b[32m   1772\u001b[39m )\n\u001b[32m-> \u001b[39m\u001b[32m1773\u001b[39m \u001b[43m\u001b[49m\u001b[38;5;28;43;01mfor\u001b[39;49;00m\u001b[43m \u001b[49m\u001b[43mstep\u001b[49m\u001b[43m \u001b[49m\u001b[38;5;129;43;01min\u001b[39;49;00m\u001b[43m \u001b[49m\u001b[43miterator\u001b[49m\u001b[43m:\u001b[49m\n\u001b[32m   1774\u001b[39m \u001b[43m    \u001b[49m\u001b[38;5;28;43;01myield\u001b[39;49;00m\u001b[43m \u001b[49m\u001b[43mstep\u001b[49m\n",
      "\u001b[36mFile \u001b[39m\u001b[32m/opt/homebrew/Caskroom/miniconda/base/envs/rag/lib/python3.13/site-packages/langchain/agents/agent_iterator.py:199\u001b[39m, in \u001b[36mAgentExecutorIterator.__iter__\u001b[39m\u001b[34m(self)\u001b[39m\n\u001b[32m    193\u001b[39m \u001b[38;5;28;01mwhile\u001b[39;00m \u001b[38;5;28mself\u001b[39m.agent_executor._should_continue(\n\u001b[32m    194\u001b[39m     \u001b[38;5;28mself\u001b[39m.iterations, \u001b[38;5;28mself\u001b[39m.time_elapsed\n\u001b[32m    195\u001b[39m ):\n\u001b[32m    196\u001b[39m     \u001b[38;5;66;03m# take the next step: this plans next action, executes it,\u001b[39;00m\n\u001b[32m    197\u001b[39m     \u001b[38;5;66;03m# yielding action and observation as they are generated\u001b[39;00m\n\u001b[32m    198\u001b[39m     next_step_seq: NextStepOutput = []\n\u001b[32m--> \u001b[39m\u001b[32m199\u001b[39m \u001b[43m    \u001b[49m\u001b[38;5;28;43;01mfor\u001b[39;49;00m\u001b[43m \u001b[49m\u001b[43mchunk\u001b[49m\u001b[43m \u001b[49m\u001b[38;5;129;43;01min\u001b[39;49;00m\u001b[43m \u001b[49m\u001b[38;5;28;43mself\u001b[39;49m\u001b[43m.\u001b[49m\u001b[43magent_executor\u001b[49m\u001b[43m.\u001b[49m\u001b[43m_iter_next_step\u001b[49m\u001b[43m(\u001b[49m\n\u001b[32m    200\u001b[39m \u001b[43m        \u001b[49m\u001b[38;5;28;43mself\u001b[39;49m\u001b[43m.\u001b[49m\u001b[43mname_to_tool_map\u001b[49m\u001b[43m,\u001b[49m\n\u001b[32m    201\u001b[39m \u001b[43m        \u001b[49m\u001b[38;5;28;43mself\u001b[39;49m\u001b[43m.\u001b[49m\u001b[43mcolor_mapping\u001b[49m\u001b[43m,\u001b[49m\n\u001b[32m    202\u001b[39m \u001b[43m        \u001b[49m\u001b[38;5;28;43mself\u001b[39;49m\u001b[43m.\u001b[49m\u001b[43minputs\u001b[49m\u001b[43m,\u001b[49m\n\u001b[32m    203\u001b[39m \u001b[43m        \u001b[49m\u001b[38;5;28;43mself\u001b[39;49m\u001b[43m.\u001b[49m\u001b[43mintermediate_steps\u001b[49m\u001b[43m,\u001b[49m\n\u001b[32m    204\u001b[39m \u001b[43m        \u001b[49m\u001b[43mrun_manager\u001b[49m\u001b[43m,\u001b[49m\n\u001b[32m    205\u001b[39m \u001b[43m    \u001b[49m\u001b[43m)\u001b[49m\u001b[43m:\u001b[49m\n\u001b[32m    206\u001b[39m \u001b[43m        \u001b[49m\u001b[43mnext_step_seq\u001b[49m\u001b[43m.\u001b[49m\u001b[43mappend\u001b[49m\u001b[43m(\u001b[49m\u001b[43mchunk\u001b[49m\u001b[43m)\u001b[49m\n\u001b[32m    207\u001b[39m \u001b[43m        \u001b[49m\u001b[38;5;66;43;03m# if we're yielding actions, yield them as they come\u001b[39;49;00m\n\u001b[32m    208\u001b[39m \u001b[43m        \u001b[49m\u001b[38;5;66;43;03m# do not yield AgentFinish, which will be handled below\u001b[39;49;00m\n",
      "\u001b[36mFile \u001b[39m\u001b[32m/opt/homebrew/Caskroom/miniconda/base/envs/rag/lib/python3.13/site-packages/langchain/agents/agent.py:1358\u001b[39m, in \u001b[36mAgentExecutor._iter_next_step\u001b[39m\u001b[34m(self, name_to_tool_map, color_mapping, inputs, intermediate_steps, run_manager)\u001b[39m\n\u001b[32m   1355\u001b[39m     intermediate_steps = \u001b[38;5;28mself\u001b[39m._prepare_intermediate_steps(intermediate_steps)\n\u001b[32m   1357\u001b[39m     \u001b[38;5;66;03m# Call the LLM to see what to do.\u001b[39;00m\n\u001b[32m-> \u001b[39m\u001b[32m1358\u001b[39m     output = \u001b[38;5;28;43mself\u001b[39;49m\u001b[43m.\u001b[49m\u001b[43m_action_agent\u001b[49m\u001b[43m.\u001b[49m\u001b[43mplan\u001b[49m\u001b[43m(\u001b[49m\n\u001b[32m   1359\u001b[39m \u001b[43m        \u001b[49m\u001b[43mintermediate_steps\u001b[49m\u001b[43m,\u001b[49m\n\u001b[32m   1360\u001b[39m \u001b[43m        \u001b[49m\u001b[43mcallbacks\u001b[49m\u001b[43m=\u001b[49m\u001b[43mrun_manager\u001b[49m\u001b[43m.\u001b[49m\u001b[43mget_child\u001b[49m\u001b[43m(\u001b[49m\u001b[43m)\u001b[49m\u001b[43m \u001b[49m\u001b[38;5;28;43;01mif\u001b[39;49;00m\u001b[43m \u001b[49m\u001b[43mrun_manager\u001b[49m\u001b[43m \u001b[49m\u001b[38;5;28;43;01melse\u001b[39;49;00m\u001b[43m \u001b[49m\u001b[38;5;28;43;01mNone\u001b[39;49;00m\u001b[43m,\u001b[49m\n\u001b[32m   1361\u001b[39m \u001b[43m        \u001b[49m\u001b[43m*\u001b[49m\u001b[43m*\u001b[49m\u001b[43minputs\u001b[49m\u001b[43m,\u001b[49m\n\u001b[32m   1362\u001b[39m \u001b[43m    \u001b[49m\u001b[43m)\u001b[49m\n\u001b[32m   1363\u001b[39m \u001b[38;5;28;01mexcept\u001b[39;00m OutputParserException \u001b[38;5;28;01mas\u001b[39;00m e:\n\u001b[32m   1364\u001b[39m     \u001b[38;5;28;01mif\u001b[39;00m \u001b[38;5;28misinstance\u001b[39m(\u001b[38;5;28mself\u001b[39m.handle_parsing_errors, \u001b[38;5;28mbool\u001b[39m):\n",
      "\u001b[31mTypeError\u001b[39m: Agent.plan() got multiple values for argument 'intermediate_steps'"
     ]
    }
   ],
   "source": [
    "# 执行\n",
    "agent_executor.invoke({\"input\":\"hi\"})"
   ]
  }
 ],
 "metadata": {
  "kernelspec": {
   "display_name": "rag",
   "language": "python",
   "name": "python3"
  },
  "language_info": {
   "codemirror_mode": {
    "name": "ipython",
    "version": 3
   },
   "file_extension": ".py",
   "mimetype": "text/x-python",
   "name": "python",
   "nbconvert_exporter": "python",
   "pygments_lexer": "ipython3",
   "version": "3.13.2"
  }
 },
 "nbformat": 4,
 "nbformat_minor": 5
}
