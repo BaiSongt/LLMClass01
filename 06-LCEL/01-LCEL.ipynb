{
 "cells": [
  {
   "cell_type": "markdown",
   "id": "3f38d80d",
   "metadata": {},
   "source": [
    "# LangChain LCEL 介绍\n",
    "\n",
    "LangChain LCEL（LangChain Expression Language）是一种用于构建和操作语言模型链的表达式语言。它提供了一种简洁的方式来定义和组合不同的语言模型组件，从而实现复杂的自然语言处理任务。\n",
    "\n",
    "LCEL 的主要特点包括：\n",
    "- **模块化设计**：支持将不同的语言模型组件组合成一个工作流。\n",
    "- **灵活性**：可以轻松调整和扩展工作流以满足特定需求。\n",
    "- **易用性**：通过简单的表达式语法，快速定义复杂的任务。\n",
    "\n",
    "LCEL 适用于构建聊天机器人、问答系统、文本生成等多种应用场景。\n",
    "\n",
    "---\n",
    "\n",
    "![LCEL1](pngs/LCEL是什么-0001.png)\n",
    "![LCEL2](pngs/LCEL是什么-0002.png)\n",
    "![LCEL3](pngs/LCEL是什么-0003.png)\n",
    "![LCEL4](pngs/LCEL是什么-0004.png)\n",
    "![LCEL5](pngs/LCEL是什么-0005.png)"
   ]
  },
  {
   "cell_type": "markdown",
   "id": "6b0a25e8",
   "metadata": {},
   "source": [
    "## 代码示例\n",
    "### 第一个示例  Chain 的使用"
   ]
  },
  {
   "cell_type": "code",
   "execution_count": 2,
   "id": "f6a77c4f",
   "metadata": {},
   "outputs": [
    {
     "name": "stdout",
     "output_type": "stream",
     "text": [
      "当然可以！这里有一个简短的关于KFC“疯狂星期四”的笑话：\n",
      "\n",
      "为什么说KFC的“疯狂星期四”是个公平交易？\n",
      "\n",
      "因为如果你只买一份鸡腿，你就只能得到一颗快乐；\n",
      "\n",
      "但如果你全心投入，整份购买，就能收获一整天的好心情！\n",
      "\n",
      "（注：这里的“快乐”指的是KFC鸡腿，“好心情”是对KFC优惠活动的幽默描述。）\n"
     ]
    }
   ],
   "source": [
    "from langchain_core.output_parsers import StrOutputParser\n",
    "from langchain_core.prompts import ChatPromptTemplate\n",
    "from langchain_ollama.chat_models import ChatOllama\n",
    "\n",
    "prompt = ChatPromptTemplate.from_template(\n",
    "  \"tell me a short joke about {topic}\"\n",
    ")\n",
    "\n",
    "model = ChatOllama(model=\"qwen2.5:7b\")\n",
    "output_parser = StrOutputParser()\n",
    "\n",
    "# 组合Chain\n",
    "chain = prompt | model | output_parser\n",
    "\n",
    "out = chain.invoke({\"topic\":\"KFC 疯狂星期四\"})\n",
    "print(out)"
   ]
  },
  {
   "cell_type": "markdown",
   "id": "2edc82d3",
   "metadata": {},
   "source": [
    "## Prompt"
   ]
  },
  {
   "cell_type": "code",
   "execution_count": 4,
   "id": "223bc78f",
   "metadata": {},
   "outputs": [
    {
     "name": "stdout",
     "output_type": "stream",
     "text": [
      "messages=[HumanMessage(content='tell me a short joke about 劳动法', additional_kwargs={}, response_metadata={})]\n"
     ]
    }
   ],
   "source": [
    "prompt_value = prompt.invoke({\"topic\":\"劳动法\"})\n",
    "print(prompt_value)"
   ]
  },
  {
   "cell_type": "code",
   "execution_count": 5,
   "id": "3ae495b0",
   "metadata": {},
   "outputs": [
    {
     "data": {
      "text/plain": [
       "[HumanMessage(content='tell me a short joke about 劳动法', additional_kwargs={}, response_metadata={})]"
      ]
     },
     "execution_count": 5,
     "metadata": {},
     "output_type": "execute_result"
    }
   ],
   "source": [
    "prompt_value.to_messages()"
   ]
  },
  {
   "cell_type": "code",
   "execution_count": 6,
   "id": "8141921a",
   "metadata": {},
   "outputs": [
    {
     "data": {
      "text/plain": [
       "'Human: tell me a short joke about 劳动法'"
      ]
     },
     "execution_count": 6,
     "metadata": {},
     "output_type": "execute_result"
    }
   ],
   "source": [
    "prompt_value.to_string()"
   ]
  },
  {
   "cell_type": "code",
   "execution_count": 7,
   "id": "07d26742",
   "metadata": {},
   "outputs": [
    {
     "data": {
      "text/plain": [
       "{'lc': 1,\n",
       " 'type': 'constructor',\n",
       " 'id': ['langchain', 'prompts', 'chat', 'ChatPromptValue'],\n",
       " 'kwargs': {'messages': [HumanMessage(content='tell me a short joke about 劳动法', additional_kwargs={}, response_metadata={})]}}"
      ]
     },
     "execution_count": 7,
     "metadata": {},
     "output_type": "execute_result"
    }
   ],
   "source": [
    "prompt_value.to_json()"
   ]
  },
  {
   "cell_type": "markdown",
   "id": "e0403e4d",
   "metadata": {},
   "source": [
    "## model"
   ]
  },
  {
   "cell_type": "code",
   "execution_count": 9,
   "id": "c8c577a1",
   "metadata": {},
   "outputs": [
    {
     "data": {
      "text/plain": [
       "AIMessage(content='当然可以！这里有一个关于劳动法的短笑话：\\n\\n为什么程序员不喜欢在公司加班？\\n\\n因为根据最新的劳动法，他们有权获得加班费，而程序员们宁愿把这些时间用来开发新的算法和程序呢！\\n\\n希望这个笑话能让您会心一笑！如果您有任何其他问题或需要更多帮助，请随时告诉我。', additional_kwargs={}, response_metadata={'model': 'qwen2.5:7b', 'created_at': '2025-04-06T02:26:14.775541Z', 'done': True, 'done_reason': 'stop', 'total_duration': 4319521417, 'load_duration': 25056417, 'prompt_eval_count': 39, 'prompt_eval_duration': 695168958, 'eval_count': 67, 'eval_duration': 3597923750, 'message': Message(role='assistant', content='', images=None, tool_calls=None)}, id='run-dafb8e7b-6d77-4f9d-b7ed-278710dbaa68-0', usage_metadata={'input_tokens': 39, 'output_tokens': 67, 'total_tokens': 106})"
      ]
     },
     "execution_count": 9,
     "metadata": {},
     "output_type": "execute_result"
    }
   ],
   "source": [
    "message = model.invoke(prompt_value)\n",
    "message"
   ]
  },
  {
   "cell_type": "markdown",
   "id": "1b0693e1",
   "metadata": {},
   "source": [
    "## 使用 LLM 的区别"
   ]
  },
  {
   "cell_type": "code",
   "execution_count": 8,
   "id": "6a477108",
   "metadata": {},
   "outputs": [
    {
     "data": {
      "text/plain": [
       "\"Sure! Here's a light-hearted joke about labor laws:\\n\\nWhy did the worker go to court?\\n\\nBecause he wanted to sue for unpaid overtime—according to the labor law, that's two times the wage!\""
      ]
     },
     "execution_count": 8,
     "metadata": {},
     "output_type": "execute_result"
    }
   ],
   "source": [
    "from langchain_ollama.llms import OllamaLLM\n",
    "\n",
    "llm = OllamaLLM(model=\"qwen2.5:7b\")\n",
    "llm.invoke(prompt_value)"
   ]
  },
  {
   "cell_type": "markdown",
   "id": "e7dc895b",
   "metadata": {},
   "source": [
    "## Output Parser"
   ]
  },
  {
   "cell_type": "code",
   "execution_count": 10,
   "id": "a695984b",
   "metadata": {},
   "outputs": [
    {
     "data": {
      "text/plain": [
       "'当然可以！这里有一个关于劳动法的短笑话：\\n\\n为什么程序员不喜欢在公司加班？\\n\\n因为根据最新的劳动法，他们有权获得加班费，而程序员们宁愿把这些时间用来开发新的算法和程序呢！\\n\\n希望这个笑话能让您会心一笑！如果您有任何其他问题或需要更多帮助，请随时告诉我。'"
      ]
     },
     "execution_count": 10,
     "metadata": {},
     "output_type": "execute_result"
    }
   ],
   "source": [
    "output_parser.invoke(message)"
   ]
  },
  {
   "cell_type": "markdown",
   "id": "46e32678",
   "metadata": {},
   "source": [
    "## LCEL 的 Pipeline\n",
    "```mermaid\n",
    "graph LR;\n",
    "    input:Topic--dict-->PropmtTemplate;\n",
    "    PropmtTemplate--PromptValue-->ChatModel;\n",
    "    ChatModel--ChatMessage-->StrOutputParser;\n",
    "    StrOutputParser--String-->Result;\n",
    "```"
   ]
  }
 ],
 "metadata": {
  "kernelspec": {
   "display_name": "rag",
   "language": "python",
   "name": "python3"
  },
  "language_info": {
   "codemirror_mode": {
    "name": "ipython",
    "version": 3
   },
   "file_extension": ".py",
   "mimetype": "text/x-python",
   "name": "python",
   "nbconvert_exporter": "python",
   "pygments_lexer": "ipython3",
   "version": "3.13.2"
  }
 },
 "nbformat": 4,
 "nbformat_minor": 5
}
