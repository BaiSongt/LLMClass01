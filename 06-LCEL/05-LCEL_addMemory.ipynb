{
 "cells": [
  {
   "cell_type": "markdown",
   "id": "4e395947",
   "metadata": {},
   "source": [
    "# LCEL 中添加 memory"
   ]
  },
  {
   "cell_type": "code",
   "execution_count": 1,
   "id": "538d036d",
   "metadata": {},
   "outputs": [],
   "source": [
    "from operator import itemgetter\n",
    "from langchain.memory import ConversationBufferMemory\n",
    "from langchain_core.prompts import ChatPromptTemplate, MessagesPlaceholder\n",
    "from langchain_core.runnables import RunnableLambda, RunnablePassthrough\n",
    "from langchain_ollama.chat_models import ChatOllama\n",
    "\n",
    "model = ChatOllama(model=\"qwen2.5:7b\")\n",
    "prompt = ChatPromptTemplate.from_messages(\n",
    "  [\n",
    "    (\"system\", \"你是一个乐于助人的机器人\"),\n",
    "    MessagesPlaceholder(variable_name=\"history\"),\n",
    "    (\"human\",\"{input}\"),\n",
    "  ]\n",
    ")"
   ]
  },
  {
   "cell_type": "code",
   "execution_count": 3,
   "id": "2355b5c7",
   "metadata": {},
   "outputs": [
    {
     "data": {
      "text/plain": [
       "{'history': []}"
      ]
     },
     "execution_count": 3,
     "metadata": {},
     "output_type": "execute_result"
    }
   ],
   "source": [
    "memory = ConversationBufferMemory(return_messages=True)\n",
    "memory.load_memory_variables(inputs={})"
   ]
  },
  {
   "cell_type": "code",
   "execution_count": 6,
   "id": "1dcfca9a",
   "metadata": {},
   "outputs": [],
   "source": [
    "# 增加一条链\n",
    "# 创建一个链式调用的链对象\n",
    "# 1. 使用 RunnablePassthrough.assign 方法为链分配变量\n",
    "#    - history: 通过 RunnableLambda 调用 memory.load_memory_variables 方法加载内存变量\n",
    "#    - 然后通过 itemgetter('history') 提取 'history' 键对应的值\n",
    "# 2. 将分配的变量传递给 prompt 模板\n",
    "# 3. 最后将 prompt 的输出传递给 model 进行处理\n",
    "\n",
    "chain = (\n",
    "  RunnablePassthrough.assign(\n",
    "    history=RunnableLambda(memory.load_memory_variables) | itemgetter('history')\n",
    "  )\n",
    "  | prompt | model\n",
    ")"
   ]
  },
  {
   "cell_type": "code",
   "execution_count": 11,
   "id": "ac24b70b",
   "metadata": {},
   "outputs": [],
   "source": [
    "inputs = {\"input\":\"你好我是GGBom\"}"
   ]
  },
  {
   "cell_type": "code",
   "execution_count": 12,
   "id": "fa27b4e3",
   "metadata": {},
   "outputs": [],
   "source": [
    "response =  chain.invoke(inputs)"
   ]
  },
  {
   "cell_type": "code",
   "execution_count": 13,
   "id": "d9bbe9b9",
   "metadata": {},
   "outputs": [
    {
     "data": {
      "text/plain": [
       "{'history': [HumanMessage(content='你好我是GGBom', additional_kwargs={}, response_metadata={}),\n",
       "  AIMessage(content='你好！GGBom，很高兴认识你。你可以告诉我更多关于你自己或者你需要帮助的一些事情吗？我会尽力提供帮助。', additional_kwargs={}, response_metadata={})]}"
      ]
     },
     "execution_count": 13,
     "metadata": {},
     "output_type": "execute_result"
    }
   ],
   "source": [
    "# 保存记忆\n",
    "memory.save_context(inputs, {\"outputs\":response.content})\n",
    "memory.load_memory_variables({})"
   ]
  },
  {
   "cell_type": "code",
   "execution_count": 14,
   "id": "d9717877",
   "metadata": {},
   "outputs": [
    {
     "data": {
      "text/plain": [
       "'你在自我介绍时说你是“GGBom”，这个名字可能是指你的昵称或者是某个特定角色/账号的名字。在我们之前的对话中，你是想要了解自己是谁吗？还是有其他问题呢？如果你能提供更多背景信息，我会更好地帮助你。'"
      ]
     },
     "execution_count": 14,
     "metadata": {},
     "output_type": "execute_result"
    }
   ],
   "source": [
    "inputs = {\"input\":\"我是谁？\"}\n",
    "response = chain.invoke(inputs)\n",
    "response.content"
   ]
  },
  {
   "cell_type": "markdown",
   "id": "82be471e",
   "metadata": {},
   "source": [
    "## 使用Redis来实现长期记忆"
   ]
  },
  {
   "cell_type": "code",
   "execution_count": null,
   "id": "97cc5aeb",
   "metadata": {},
   "outputs": [
    {
     "name": "stdout",
     "output_type": "stream",
     "text": [
      "Collecting redis\n",
      "  Downloading redis-5.2.1-py3-none-any.whl.metadata (9.1 kB)\n",
      "Downloading redis-5.2.1-py3-none-any.whl (261 kB)\n",
      "Installing collected packages: redis\n",
      "Successfully installed redis-5.2.1\n"
     ]
    }
   ],
   "source": [
    "! pip install redis"
   ]
  },
  {
   "cell_type": "markdown",
   "id": "eb2fc71c",
   "metadata": {},
   "source": [
    "### Redis\n",
    "Redis 是一个开源的内存数据结构存储，用作数据库、缓存和消息代理。它支持多种数据结构，如字符串、哈希、列表、集合和有序集合。Redis 通常用于需要快速访问和存储数据的场景。\n",
    "\n",
    "在本项目中，我们使用 Redis 来实现长期记忆功能。通过将聊天记录存储在 Redis 中，可以在不同会话之间共享和持久化聊天历史。\n",
    "\n",
    "以下是 Redis 的基本使用步骤：\n",
    "1. 安装 Redis 并启动服务。\n",
    "2. 使用 Redis 客户端连接到 Redis 服务器。\n",
    "3. 执行基本的 Redis 命令，如 `SET` 和 `GET`，来存储和检索数据。\n",
    "4. 在本项目中，通过 `RedisChatMessageHistory` 类与 Redis 集成，实现聊天记录的存储和管理。"
   ]
  },
  {
   "cell_type": "code",
   "execution_count": null,
   "id": "2433bc2a",
   "metadata": {},
   "outputs": [],
   "source": [
    "from langchain.memory import ConversationBufferMemory\n",
    "from langchain_core.prompts import ChatPromptTemplate, MessagesPlaceholder\n",
    "from langchain_core.chat_history import BaseChatMessageHistory\n",
    "from langchain_community.chat_message_histories import RedisChatMessageHistory\n",
    "from langchain_ollama.chat_models import ChatOllama\n",
    "from langchain_core.runnables import RunnableWithMessageHistory\n",
    "\n",
    "model = ChatOllama(model=\"qwen2.5:7b\")\n",
    "prompt = ChatPromptTemplate.from_messages(\n",
    "  [\n",
    "    (\"system\", \"你是一个善于{dowhat}的机器人\"),\n",
    "    MessagesPlaceholder(variable_name=\"history\"),\n",
    "    (\"human\",\"{input}\"),\n",
    "  ]\n",
    ")\n",
    "\n",
    "chain_with_histroy = RunnableWithMessageHistory(\n",
    "  chain,\n",
    "  # 使用 Redis 存储聊天记录\n",
    "  lambda session_id: RedisChatMessageHistory(session_id, url=\"redis://localhost:6379/0\"),\n",
    "  input_messages_key=\"question\",\n",
    "  tory_messages_key=\"history\"\n",
    ")"
   ]
  }
 ],
 "metadata": {
  "kernelspec": {
   "display_name": "rag",
   "language": "python",
   "name": "python3"
  },
  "language_info": {
   "codemirror_mode": {
    "name": "ipython",
    "version": 3
   },
   "file_extension": ".py",
   "mimetype": "text/x-python",
   "name": "python",
   "nbconvert_exporter": "python",
   "pygments_lexer": "ipython3",
   "version": "3.13.2"
  }
 },
 "nbformat": 4,
 "nbformat_minor": 5
}
