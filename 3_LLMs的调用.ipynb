{
 "cells": [
  {
   "cell_type": "markdown",
   "metadata": {},
   "source": [
    "# LangChain 核心组件 LLMs and ChatModels\n",
    "\n",
    "## 如何调用以及区别\n",
    "\n",
    "## - OpenAI 与 ChatOpenAI"
   ]
  },
  {
   "cell_type": "code",
   "execution_count": 20,
   "metadata": {},
   "outputs": [
    {
     "name": "stdout",
     "output_type": "stream",
     "text": [
      "<think>\n",
      "\n",
      "</think>\n",
      "\n",
      "你好！很高兴见到你，有什么我可以帮忙的吗？无论是问题、建议还是闲聊，我都在这儿等着你呢！😊\n"
     ]
    }
   ],
   "source": [
    "from langchain_ollama import OllamaLLM\n",
    "\n",
    "# 指定本地模型名称或路径\n",
    "ollama_llm = OllamaLLM(\n",
    "    model=\"deepseek-r1:1.5b\",  # 例如DeepSeek-R1 1.5B模型\n",
    "    base_url=\"http://localhost:11434\",  # Ollama默认地址\n",
    "    type=\"llm\",  # 指定模型类型为LLM\n",
    ")\n",
    "print(ollama_llm.invoke(\"你好\"))"
   ]
  },
  {
   "cell_type": "code",
   "execution_count": 18,
   "metadata": {},
   "outputs": [
    {
     "name": "stdout",
     "output_type": "stream",
     "text": [
      "<think>\n",
      "\n",
      "</think>\n",
      "\n",
      "你好！很高兴见到你，有什么我可以帮忙的吗？无论是学习、工作还是生活中的问题，都可以告诉我哦！😊\n"
     ]
    }
   ],
   "source": [
    "from langchain_ollama import ChatOllama\n",
    "\n",
    "# 指定本地模型名称或路径\n",
    "ollama_llm = ChatOllama(\n",
    "    model=\"deepseek-r1:1.5b\",  # 例如DeepSeek-R1 1.5B模型\n",
    "    type=\"chat\",  # 指定模型类型为LLM\n",
    "    base_url=\"http://localhost:11434\"  # Ollama默认地址\n",
    ")\n",
    "out = ollama_llm.invoke(\"你好\")\n",
    "print(out.content)"
   ]
  },
  {
   "cell_type": "code",
   "execution_count": 31,
   "metadata": {},
   "outputs": [
    {
     "name": "stdout",
     "output_type": "stream",
     "text": [
      "<think>\n",
      "观察给定的等式：\n",
      "\n",
      "1 + 2 = 4  \n",
      "2 + 4 = 16  \n",
      "3 + 6 = 36  \n",
      "\n",
      "首先，发现每个等式的左边数字似乎有规律。例如，在第一个等式中，1 和 2 的和是 3；在第二个等式中，2 和 4 的和是 6；第三个等式中，3 和 6 的和是 9。\n",
      "\n",
      "接下来，计算右边的结果：\n",
      "\n",
      "1 + 2 = 4  \n",
      "2 + 4 = 16  \n",
      "3 + 6 = 36  \n",
      "\n",
      "观察右边结果：4, 16, 36。这些数字看起来像是平方数：2²=4，4²=16，6²=36。\n",
      "\n",
      "接下来，确定加数之间的关系：\n",
      "\n",
      "第一个等式左边是 1 和 2，右边的4可以表示为 (1×2)² = 4  \n",
      "第二个等式左边是 2 和 4，右边的16可以表示为 (2×4)² = 16  \n",
      "第三个等式左边是3和6，右边的36可以表示为 (3×6)² = 36  \n",
      "\n",
      "因此，可以看出规律为：当给定两个数a和b时，其相加的结果等于它们乘积的平方。\n",
      "\n",
      "应用这个规律到第四个等式：\n",
      "\n",
      "4 + 8  \n",
      "计算乘积：4 × 8 = 32  \n",
      "然后求平方：32² = 1024  \n",
      "\n",
      "因此，4 + 8 应该等于 1024。\n",
      "</think>\n",
      "\n",
      "我们需要找出一个规律，使得每个等式左边的两个数相加的结果等于右边的平方。\n",
      "\n",
      "观察给出的例子：\n",
      "\n",
      "\\[\n",
      "1 + 2 = 4  \n",
      "\\]\n",
      "\\[\n",
      "2 + 4 = 16  \n",
      "\\]\n",
      "\\[\n",
      "3 + 6 = 36  \n",
      "\\]\n",
      "\n",
      "我们发现右边的数字是左边数字乘积的平方：\n",
      "\n",
      "- \\( (1 \\times 2) = 2 \\)，\\( 2^2 = 4 \\)\n",
      "- \\( (2 \\times 4) = 8 \\)，\\( 8^2 = 64 \\)（但给出的结果却是16，这不符合）\n",
      "  \n",
      "哦，这里可能需要重新分析。\n",
      "\n",
      "再仔细看看：\n",
      "\n",
      "\\[\n",
      "(1 + 2) \\times (1 + 2) = 3 \\times 3 = 9 \\neq 4  \n",
      "\\]\n",
      "\\[\n",
      "(2 + 4) \\times (2 + 4) = 6 \\times 6 = 36 \\neq 16  \n",
      "\\]\n",
      "\n",
      "不对，再尝试另一种思路：\n",
      "\n",
      "可能右边的结果是 \\( (a + b)^2 \\)，但实际上：\n",
      "\n",
      "\\[\n",
      "1 + 2 = 4 \\quad \\Rightarrow \\quad 4 = 2^2  \n",
      "\\]\n",
      "\\[\n",
      "2 + 4 = 16 \\quad \\Rightarrow \\quad 16 = 4^2  \n",
      "\\]\n",
      "\\[\n",
      "3 + 6 = 36 \\quad \\Rightarrow \\quad 36 = 6^2  \n",
      "\\]\n",
      "\n",
      "哦，原来规律是：当 \\( a + b = n \\) 时，右边结果为 \\( n^2 \\)。\n",
      "\n",
      "所以：\n",
      "\n",
      "\\[\n",
      "4 + 8 = ?  \n",
      "\\]\n",
      "计算左边的和：\n",
      "\\[\n",
      "4 + 8 = 12  \n",
      "\\]\n",
      "那么右边的结果就是：\n",
      "\\[\n",
      "12^2 = 144  \n",
      "\\]\n",
      "\n",
      "因此，\n",
      "\n",
      "\\[\n",
      "\\boxed{144}\n",
      "\\]\n"
     ]
    }
   ],
   "source": [
    "from langchain_ollama import ChatOllama\n",
    "from langchain.schema.messages import AIMessage,HumanMessage\n",
    "# 指定本地模型名称或路径\n",
    "ollama_llm = ChatOllama(\n",
    "    model=\"deepseek-r1:1.5b\",  # 例如DeepSeek-R1 1.5B模型\n",
    "    type=\"chat\",  # 指定模型类型为LLM\n",
    "    base_url=\"http://localhost:11434\"  # Ollama默认地址\n",
    ")\n",
    "\n",
    "msg = [\n",
    "    HumanMessage(role=\"user\",content=\"有 1 + 2 = 4\"),\n",
    "    HumanMessage(role=\"user\",content=\"有 2 + 4 = 16\"),\n",
    "    HumanMessage(role=\"user\",content=\"有 3 + 6 = 36\"),\n",
    "    HumanMessage(role=\"user\",content=\"4 + 8 = ?\"),\n",
    "]\n",
    "\n",
    "out = ollama_llm.invoke(msg)\n",
    "print(out.content)\n"
   ]
  },
  {
   "cell_type": "markdown",
   "metadata": {},
   "source": [
    "## 流输出"
   ]
  },
  {
   "cell_type": "code",
   "execution_count": 40,
   "metadata": {},
   "outputs": [
    {
     "name": "stdout",
     "output_type": "stream",
     "text": [
      "<think>\n",
      "首先，我看到题目是计算4加8。\n",
      "\n",
      "然后，我想到直接用加法的方法，把4和8合并起来得到12。\n",
      "\n",
      "最后，我确认一下结果是否正确，确保没有遗漏或者错误。\n",
      "</think>\n",
      "\n",
      "要计算 \\(4 + 8\\)，我们可以按照以下步骤进行：\n",
      "\n",
      "**步骤一：识别数字**\n",
      "- 减数是4\n",
      "- 被减数是8\n",
      "\n",
      "**步骤二：直接相加**\n",
      "\\[\n",
      "4 + 8 = 12\n",
      "\\]\n",
      "\n",
      "**最终答案：**\n",
      "\\[\n",
      "\\boxed{12}\n",
      "\\]"
     ]
    }
   ],
   "source": [
    "from langchain_ollama import ChatOllama\n",
    "from langchain.schema.messages import AIMessage,HumanMessage\n",
    "# 指定本地模型名称或路径\n",
    "ollama_llm = ChatOllama(\n",
    "    model=\"deepseek-r1:1.5b\",  # 例如DeepSeek-R1 1.5B模型\n",
    "    type=\"chat\",  # 指定模型类型为LLM\n",
    "    base_url=\"http://localhost:11434\"  # Ollama默认地址\n",
    ")\n",
    "\n",
    "msg = [\n",
    "    HumanMessage(role=\"user\",content=\"有 1 + 2 = 4\"),\n",
    "    HumanMessage(role=\"user\",content=\"有 2 + 4 = 16\"),\n",
    "    HumanMessage(role=\"user\",content=\"有 3 + 6 = 36\"),\n",
    "]\n",
    "\n",
    "# 使用流式输出回答\n",
    "for out in ollama_llm.stream(\"计算 4 + 8 = ?\"):\n",
    "    print(out.content, end=\"\", flush=False)"
   ]
  },
  {
   "cell_type": "code",
   "execution_count": 42,
   "metadata": {},
   "outputs": [
    {
     "name": "stdout",
     "output_type": "stream",
     "text": [
      "<think>\n",
      "嗯，用户让我写一首关于春天的五言绝句，要求表达春天的美好和个人的宏伟抱负。首先，我得考虑五言绝句的结构，四句，每句五个字，押韵。春天有春雨、花开、鸟语等意象。\n",
      "\n",
      "第一句，要描绘春天的景象。比如“春泥”象征青草生长，“草叶”代表嫩绿。这两者结合能表现自然的生机与变化。“春泥草叶转新红”，这样既点明了颜色，又突出了春天的变化。\n",
      "\n",
      "第二句需要表达美好的情绪或积极的感觉。可以比作春风带来希望和幸福，“春风满面映高台”。这样不仅描绘景象，还传达了积极向上的情感。\n",
      "\n",
      "第三句应该升华主题，可能涉及远大的抱负。比如“远望山城见宏图”，表现出对未来的信心和雄心壮志。\n",
      "\n",
      "最后一句要总结春天的美好，或者呼应开头。“春光暖日暖云宽”，这样不仅描绘了具体的景象，还传达出温暖和谐的氛围。\n",
      "\n",
      "整体上，我确保每句都紧扣主题，既有自然景色又含蓄地表达了个人的抱负。同时押韵和对仗也要注意，让整首诗流畅自然。\n",
      "</think>\n",
      "\n",
      "《春光暖日暖云宽》\n",
      "春泥草叶转新红，\n",
      "春风满面映高台。\n",
      "远望山城见宏图，\n",
      "春光暖日暖云宽。\n",
      "\n",
      "赏析：这首作品描绘了春天的美景和个人抱负。诗中“春泥草叶转新红”展现自然生机，“春风满面映高台”则寓情于景，表达了对美好时光的期待与满足。尾联“远望山城见宏图”更是以远大志向收尾，展现了作者远大的抱负和坚定的情怀。"
     ]
    }
   ],
   "source": [
    "from langchain_ollama import OllamaLLM\n",
    "\n",
    "# 指定本地模型名称或路径\n",
    "ollama_llm = OllamaLLM(\n",
    "    model=\"deepseek-r1:1.5b\",  # 例如DeepSeek-R1 1.5B模型\n",
    "    base_url=\"http://localhost:11434\",  # Ollama默认地址\n",
    "    type=\"llm\",  # 指定模型类型为LLM\n",
    ")\n",
    "# 使用流式输出回答\n",
    "for out in ollama_llm.stream(\"写一首关于春天的诗， 使用五言绝句， 要表达春天的美好， 表达宏伟的个人抱负\"):\n",
    "    print(out, end=\"\", flush=False)"
   ]
  },
  {
   "cell_type": "markdown",
   "metadata": {},
   "source": [
    "## 总结\n",
    "LLM 的 流式调用 \n",
    "```python\n",
    "for out in ollama_llm.stream(\"写一首关于春天的诗， 使用五言绝句， 要表达春天的美好， 表达宏伟的个人抱负\"):\n",
    "    print(out, end=\"\", flush=False)\n",
    "```\n",
    "Chat 流式调用\n",
    "```python\n",
    "for out in ollama_llm.stream(\"计算 4 + 8 = ?\"):\n",
    "    print(out.content, end=\"\", flush=False)\n",
    "```"
   ]
  }
 ],
 "metadata": {
  "kernelspec": {
   "display_name": "AI_Class",
   "language": "python",
   "name": "python3"
  },
  "language_info": {
   "codemirror_mode": {
    "name": "ipython",
    "version": 3
   },
   "file_extension": ".py",
   "mimetype": "text/x-python",
   "name": "python",
   "nbconvert_exporter": "python",
   "pygments_lexer": "ipython3",
   "version": "3.12.9"
  }
 },
 "nbformat": 4,
 "nbformat_minor": 2
}
